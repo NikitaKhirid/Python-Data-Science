{
 "cells": [
  {
   "cell_type": "markdown",
   "id": "84bcd9a2",
   "metadata": {},
   "source": [
    "## Reading and Writting CSV,JSON,Excel file"
   ]
  },
  {
   "cell_type": "code",
   "execution_count": 1,
   "id": "437e3ecb",
   "metadata": {},
   "outputs": [],
   "source": [
    "#Opening a file in write mode\n",
    "#If file already exists the content will be overwritten(change from 1st index and write)Not mandatary to exists the file \n",
    "\n",
    "file=open(\"mytxt.txt\",\"w\")# open method wants 2parameter (file name &which mode we want to open)\n",
    "file.write(\"This is a test write \\n\")#the carsal stop to new line bcoz we use \\n\n",
    "file.close()\n",
    "\n",
    "#open method do check 1st that the file is present if yes it overwrite,if not it great a file and write what should we tell"
   ]
  },
  {
   "cell_type": "code",
   "execution_count": 2,
   "id": "a934fec9",
   "metadata": {},
   "outputs": [],
   "source": [
    "file=open(\"mytxt.txt\",\"w\")\n",
    "file.write(\"This is a to a check to over write..... \\n\")\n",
    "file.close()\n",
    "\n",
    "#This will overwrite content by removing existing content bcoz file will already present."
   ]
  },
  {
   "cell_type": "code",
   "execution_count": 3,
   "id": "ec874452",
   "metadata": {},
   "outputs": [
    {
     "name": "stdout",
     "output_type": "stream",
     "text": [
      "This is a test write\n",
      "\n"
     ]
    }
   ],
   "source": [
    "#Opening a file in read only mode\n",
    "\n",
    "file=open(\"myreadfile.txt\",\"r\")#For read mode it is mendatary to exist the file in same location\n",
    "str1=file.readline()#It read only single line\n",
    "print(str1)#we store the operation bcoz to see the output\n",
    "file.close()"
   ]
  },
  {
   "cell_type": "code",
   "execution_count": 4,
   "id": "a7a1d555",
   "metadata": {},
   "outputs": [
    {
     "name": "stdout",
     "output_type": "stream",
     "text": [
      "['This is a test write\\n', 'This should be written at the end of the file...\\n', '\\n', 'This should be add to the third line of my file... \\n', 'This should be add to the third line of my file... \\n', 'This should be add to the third line of my file... \\n']\n"
     ]
    }
   ],
   "source": [
    "file=open(\"myreadfile.txt\",\"r\")\n",
    "line=file.readlines()#It read all lines in the file\n",
    "print(line)\n",
    "file.close()"
   ]
  },
  {
   "cell_type": "code",
   "execution_count": 5,
   "id": "51452336",
   "metadata": {},
   "outputs": [],
   "source": [
    "#Opening a file in apend mode which write at the end of the file\n",
    "\n",
    "file=open(\"myreadfile.txt\",\"a\")#if we dont want to lose the content in file always use\n",
    "file.write(\"This should be add to the third line of my file... \\n\")\n",
    "file.close()"
   ]
  },
  {
   "cell_type": "code",
   "execution_count": 6,
   "id": "eb777284",
   "metadata": {},
   "outputs": [
    {
     "name": "stdout",
     "output_type": "stream",
     "text": [
      "['This is a to a check to over write..... \\n']\n",
      "20\n"
     ]
    }
   ],
   "source": [
    "#Opening a file in read and write mode\n",
    "\n",
    "file=open(\"mytxt.txt\",\"r+\")#it read and also write at the end of the content that should we pass\n",
    "line=file.readlines()\n",
    "print(line)\n",
    "new=file.write(\"This should be one \\n\")#If we store the write mode in any variable then it also give the length of write sentence\n",
    "print(new)\n",
    "file.close()"
   ]
  },
  {
   "cell_type": "code",
   "execution_count": 7,
   "id": "03cac5ae",
   "metadata": {},
   "outputs": [
    {
     "data": {
      "text/plain": [
       "int"
      ]
     },
     "execution_count": 7,
     "metadata": {},
     "output_type": "execute_result"
    }
   ],
   "source": [
    "type(new)"
   ]
  },
  {
   "cell_type": "code",
   "execution_count": 8,
   "id": "e42d8b60",
   "metadata": {},
   "outputs": [
    {
     "name": "stdout",
     "output_type": "stream",
     "text": [
      "['This is a to a check to over write..... \\n', 'This should be one \\n']\n"
     ]
    }
   ],
   "source": [
    "file=open(\"mytxt.txt\",\"r+\")#it read and also write at the end of the content that should we pass\n",
    "line=file.readlines()\n",
    "print(line)\n",
    "file.write(\"This should be one \\n\")\n",
    "for line in file.readlines():#It should be read again bcoz if we don't want to length of content in write mode we use for loop here.\n",
    "    print(line)"
   ]
  },
  {
   "cell_type": "code",
   "execution_count": 17,
   "id": "9642252f",
   "metadata": {},
   "outputs": [
    {
     "data": {
      "text/plain": [
       "{'Name': ['Jack', 'Jill', 'Em', 'David'],\n",
       " 'Profession': ['Manager', 'Analyst', 'Data scientist', 'VP'],\n",
       " 'Experience': [10, 5, 2, 20],\n",
       " 'Education': ['MBA', 'BS', 'MS', 'MBA']}"
      ]
     },
     "execution_count": 17,
     "metadata": {},
     "output_type": "execute_result"
    }
   ],
   "source": [
    "# creating data for reading csv files\n",
    "data ={\"Name\":['Jack', 'Jill', 'Em', 'David'],\n",
    "           \"Profession\":['Manager', 'Analyst', 'Data scientist', 'VP'],\n",
    "           \"Experience\":[10,5,2,20],\n",
    "           \"Education\":['MBA', 'BS', 'MS','MBA']}\n",
    "data"
   ]
  },
  {
   "cell_type": "code",
   "execution_count": 18,
   "id": "f604010e",
   "metadata": {},
   "outputs": [
    {
     "data": {
      "text/html": [
       "<div>\n",
       "<style scoped>\n",
       "    .dataframe tbody tr th:only-of-type {\n",
       "        vertical-align: middle;\n",
       "    }\n",
       "\n",
       "    .dataframe tbody tr th {\n",
       "        vertical-align: top;\n",
       "    }\n",
       "\n",
       "    .dataframe thead th {\n",
       "        text-align: right;\n",
       "    }\n",
       "</style>\n",
       "<table border=\"1\" class=\"dataframe\">\n",
       "  <thead>\n",
       "    <tr style=\"text-align: right;\">\n",
       "      <th></th>\n",
       "      <th>Name</th>\n",
       "      <th>Profession</th>\n",
       "      <th>Experience</th>\n",
       "      <th>Education</th>\n",
       "    </tr>\n",
       "  </thead>\n",
       "  <tbody>\n",
       "    <tr>\n",
       "      <th>0</th>\n",
       "      <td>Jack</td>\n",
       "      <td>Manager</td>\n",
       "      <td>10</td>\n",
       "      <td>MBA</td>\n",
       "    </tr>\n",
       "    <tr>\n",
       "      <th>1</th>\n",
       "      <td>Jill</td>\n",
       "      <td>Analyst</td>\n",
       "      <td>5</td>\n",
       "      <td>BS</td>\n",
       "    </tr>\n",
       "    <tr>\n",
       "      <th>2</th>\n",
       "      <td>Em</td>\n",
       "      <td>Data scientist</td>\n",
       "      <td>2</td>\n",
       "      <td>MS</td>\n",
       "    </tr>\n",
       "    <tr>\n",
       "      <th>3</th>\n",
       "      <td>David</td>\n",
       "      <td>VP</td>\n",
       "      <td>20</td>\n",
       "      <td>MBA</td>\n",
       "    </tr>\n",
       "  </tbody>\n",
       "</table>\n",
       "</div>"
      ],
      "text/plain": [
       "    Name      Profession  Experience Education\n",
       "0   Jack         Manager          10       MBA\n",
       "1   Jill         Analyst           5        BS\n",
       "2     Em  Data scientist           2        MS\n",
       "3  David              VP          20       MBA"
      ]
     },
     "execution_count": 18,
     "metadata": {},
     "output_type": "execute_result"
    }
   ],
   "source": [
    "#Importing data into csv file\n",
    "import pandas as pd\n",
    "#if in importing the pandas install it by (pip install pandas)then go to kernel+restart and run the code again\n",
    "# first creating dataframe\n",
    "df=pd.DataFrame(data)#dataframe convert the data into tabular content\n",
    "df"
   ]
  },
  {
   "cell_type": "code",
   "execution_count": 11,
   "id": "466c10a9",
   "metadata": {},
   "outputs": [
    {
     "data": {
      "text/plain": [
       "pandas.core.frame.DataFrame"
      ]
     },
     "execution_count": 11,
     "metadata": {},
     "output_type": "execute_result"
    }
   ],
   "source": [
    "type(df)"
   ]
  },
  {
   "cell_type": "code",
   "execution_count": 12,
   "id": "6a70c71d",
   "metadata": {},
   "outputs": [],
   "source": [
    "#Writing data from a dataframe to a csv file\n",
    "df=df.to_csv(\"empoy.csv\")#to which method we use extention is also same\n",
    "df"
   ]
  },
  {
   "cell_type": "code",
   "execution_count": 13,
   "id": "7e34f375",
   "metadata": {},
   "outputs": [
    {
     "data": {
      "text/html": [
       "<div>\n",
       "<style scoped>\n",
       "    .dataframe tbody tr th:only-of-type {\n",
       "        vertical-align: middle;\n",
       "    }\n",
       "\n",
       "    .dataframe tbody tr th {\n",
       "        vertical-align: top;\n",
       "    }\n",
       "\n",
       "    .dataframe thead th {\n",
       "        text-align: right;\n",
       "    }\n",
       "</style>\n",
       "<table border=\"1\" class=\"dataframe\">\n",
       "  <thead>\n",
       "    <tr style=\"text-align: right;\">\n",
       "      <th></th>\n",
       "      <th>Unnamed: 0</th>\n",
       "      <th>Name</th>\n",
       "      <th>Profession</th>\n",
       "      <th>Experience</th>\n",
       "      <th>Education</th>\n",
       "    </tr>\n",
       "  </thead>\n",
       "  <tbody>\n",
       "    <tr>\n",
       "      <th>0</th>\n",
       "      <td>0</td>\n",
       "      <td>Jack</td>\n",
       "      <td>Manager</td>\n",
       "      <td>10</td>\n",
       "      <td>MBA</td>\n",
       "    </tr>\n",
       "    <tr>\n",
       "      <th>1</th>\n",
       "      <td>1</td>\n",
       "      <td>Jill</td>\n",
       "      <td>Analyst</td>\n",
       "      <td>5</td>\n",
       "      <td>BS</td>\n",
       "    </tr>\n",
       "    <tr>\n",
       "      <th>2</th>\n",
       "      <td>2</td>\n",
       "      <td>Em</td>\n",
       "      <td>Data scientist</td>\n",
       "      <td>2</td>\n",
       "      <td>MS</td>\n",
       "    </tr>\n",
       "    <tr>\n",
       "      <th>3</th>\n",
       "      <td>3</td>\n",
       "      <td>David</td>\n",
       "      <td>VP</td>\n",
       "      <td>20</td>\n",
       "      <td>MBA</td>\n",
       "    </tr>\n",
       "  </tbody>\n",
       "</table>\n",
       "</div>"
      ],
      "text/plain": [
       "   Unnamed: 0   Name      Profession  Experience Education\n",
       "0           0   Jack         Manager          10       MBA\n",
       "1           1   Jill         Analyst           5        BS\n",
       "2           2     Em  Data scientist           2        MS\n",
       "3           3  David              VP          20       MBA"
      ]
     },
     "execution_count": 13,
     "metadata": {},
     "output_type": "execute_result"
    }
   ],
   "source": [
    "#Now opening the csv file\n",
    "csv_data=pd.read_csv(\"empoy.csv\")\n",
    "csv_data"
   ]
  },
  {
   "cell_type": "code",
   "execution_count": 19,
   "id": "d86a523c",
   "metadata": {},
   "outputs": [],
   "source": [
    "#Writing data from a dataframe to a excel\n",
    "df.to_excel(\"emp.xlsx\", sheet_name= 'Sheet1')"
   ]
  },
  {
   "cell_type": "code",
   "execution_count": 20,
   "id": "f9f99293",
   "metadata": {},
   "outputs": [
    {
     "data": {
      "text/html": [
       "<div>\n",
       "<style scoped>\n",
       "    .dataframe tbody tr th:only-of-type {\n",
       "        vertical-align: middle;\n",
       "    }\n",
       "\n",
       "    .dataframe tbody tr th {\n",
       "        vertical-align: top;\n",
       "    }\n",
       "\n",
       "    .dataframe thead th {\n",
       "        text-align: right;\n",
       "    }\n",
       "</style>\n",
       "<table border=\"1\" class=\"dataframe\">\n",
       "  <thead>\n",
       "    <tr style=\"text-align: right;\">\n",
       "      <th></th>\n",
       "      <th>Unnamed: 0</th>\n",
       "      <th>Name</th>\n",
       "      <th>Profession</th>\n",
       "      <th>Experience</th>\n",
       "      <th>Education</th>\n",
       "    </tr>\n",
       "  </thead>\n",
       "  <tbody>\n",
       "    <tr>\n",
       "      <th>0</th>\n",
       "      <td>0</td>\n",
       "      <td>Jack</td>\n",
       "      <td>Manager</td>\n",
       "      <td>10</td>\n",
       "      <td>MBA</td>\n",
       "    </tr>\n",
       "    <tr>\n",
       "      <th>1</th>\n",
       "      <td>1</td>\n",
       "      <td>Jill</td>\n",
       "      <td>Analyst</td>\n",
       "      <td>5</td>\n",
       "      <td>BS</td>\n",
       "    </tr>\n",
       "    <tr>\n",
       "      <th>2</th>\n",
       "      <td>2</td>\n",
       "      <td>Em</td>\n",
       "      <td>Data scientist</td>\n",
       "      <td>2</td>\n",
       "      <td>MS</td>\n",
       "    </tr>\n",
       "    <tr>\n",
       "      <th>3</th>\n",
       "      <td>3</td>\n",
       "      <td>David</td>\n",
       "      <td>VP</td>\n",
       "      <td>20</td>\n",
       "      <td>MBA</td>\n",
       "    </tr>\n",
       "  </tbody>\n",
       "</table>\n",
       "</div>"
      ],
      "text/plain": [
       "   Unnamed: 0   Name      Profession  Experience Education\n",
       "0           0   Jack         Manager          10       MBA\n",
       "1           1   Jill         Analyst           5        BS\n",
       "2           2     Em  Data scientist           2        MS\n",
       "3           3  David              VP          20       MBA"
      ]
     },
     "execution_count": 20,
     "metadata": {},
     "output_type": "execute_result"
    }
   ],
   "source": [
    "#Reading excel file with sheet employee data \n",
    "xcl_data=pd.read_excel(\"emp.xlsx\")\n",
    "xcl_data\n"
   ]
  },
  {
   "cell_type": "code",
   "execution_count": 21,
   "id": "d263541d",
   "metadata": {},
   "outputs": [
    {
     "data": {
      "text/plain": [
       "pandas.core.frame.DataFrame"
      ]
     },
     "execution_count": 21,
     "metadata": {},
     "output_type": "execute_result"
    }
   ],
   "source": [
    "type(xcl_data)"
   ]
  },
  {
   "cell_type": "code",
   "execution_count": 22,
   "id": "3c20ef87",
   "metadata": {},
   "outputs": [],
   "source": [
    "##Writing data from a dataframe to a excel file\n",
    "df.to_json(\"emp.json\")"
   ]
  },
  {
   "cell_type": "code",
   "execution_count": 23,
   "id": "53ac4d6c",
   "metadata": {},
   "outputs": [
    {
     "data": {
      "text/html": [
       "<div>\n",
       "<style scoped>\n",
       "    .dataframe tbody tr th:only-of-type {\n",
       "        vertical-align: middle;\n",
       "    }\n",
       "\n",
       "    .dataframe tbody tr th {\n",
       "        vertical-align: top;\n",
       "    }\n",
       "\n",
       "    .dataframe thead th {\n",
       "        text-align: right;\n",
       "    }\n",
       "</style>\n",
       "<table border=\"1\" class=\"dataframe\">\n",
       "  <thead>\n",
       "    <tr style=\"text-align: right;\">\n",
       "      <th></th>\n",
       "      <th>Name</th>\n",
       "      <th>Profession</th>\n",
       "      <th>Experience</th>\n",
       "      <th>Education</th>\n",
       "    </tr>\n",
       "  </thead>\n",
       "  <tbody>\n",
       "    <tr>\n",
       "      <th>0</th>\n",
       "      <td>Jack</td>\n",
       "      <td>Manager</td>\n",
       "      <td>10</td>\n",
       "      <td>MBA</td>\n",
       "    </tr>\n",
       "    <tr>\n",
       "      <th>1</th>\n",
       "      <td>Jill</td>\n",
       "      <td>Analyst</td>\n",
       "      <td>5</td>\n",
       "      <td>BS</td>\n",
       "    </tr>\n",
       "    <tr>\n",
       "      <th>2</th>\n",
       "      <td>Em</td>\n",
       "      <td>Data scientist</td>\n",
       "      <td>2</td>\n",
       "      <td>MS</td>\n",
       "    </tr>\n",
       "    <tr>\n",
       "      <th>3</th>\n",
       "      <td>David</td>\n",
       "      <td>VP</td>\n",
       "      <td>20</td>\n",
       "      <td>MBA</td>\n",
       "    </tr>\n",
       "  </tbody>\n",
       "</table>\n",
       "</div>"
      ],
      "text/plain": [
       "    Name      Profession  Experience Education\n",
       "0   Jack         Manager          10       MBA\n",
       "1   Jill         Analyst           5        BS\n",
       "2     Em  Data scientist           2        MS\n",
       "3  David              VP          20       MBA"
      ]
     },
     "execution_count": 23,
     "metadata": {},
     "output_type": "execute_result"
    }
   ],
   "source": [
    "#Now opening the csv file\n",
    "j=pd.read_json(\"emp.json\")\n",
    "j"
   ]
  }
 ],
 "metadata": {
  "kernelspec": {
   "display_name": "Python 3 (ipykernel)",
   "language": "python",
   "name": "python3"
  },
  "language_info": {
   "codemirror_mode": {
    "name": "ipython",
    "version": 3
   },
   "file_extension": ".py",
   "mimetype": "text/x-python",
   "name": "python",
   "nbconvert_exporter": "python",
   "pygments_lexer": "ipython3",
   "version": "3.9.13"
  }
 },
 "nbformat": 4,
 "nbformat_minor": 5
}
