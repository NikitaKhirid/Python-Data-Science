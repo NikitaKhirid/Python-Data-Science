{
 "cells": [
  {
   "cell_type": "markdown",
   "id": "9575a151",
   "metadata": {},
   "source": [
    "# NumPy"
   ]
  },
  {
   "cell_type": "markdown",
   "id": "6192ec8c",
   "metadata": {},
   "source": [
    "## Installing NumPy"
   ]
  },
  {
   "cell_type": "code",
   "execution_count": 1,
   "id": "11a84010",
   "metadata": {},
   "outputs": [
    {
     "name": "stdout",
     "output_type": "stream",
     "text": [
      "Requirement already satisfied: numpy in c:\\users\\shubham\\anaconda3\\lib\\site-packages (1.21.5)\n",
      "Note: you may need to restart the kernel to use updated packages.\n"
     ]
    }
   ],
   "source": [
    "pip install numpy"
   ]
  },
  {
   "cell_type": "markdown",
   "id": "33af2f45",
   "metadata": {},
   "source": [
    "## Importing NumPy"
   ]
  },
  {
   "cell_type": "code",
   "execution_count": 2,
   "id": "bae17688",
   "metadata": {},
   "outputs": [],
   "source": [
    "import numpy as np"
   ]
  },
  {
   "cell_type": "markdown",
   "id": "2884183c",
   "metadata": {},
   "source": [
    "## Why NumPy"
   ]
  },
  {
   "cell_type": "code",
   "execution_count": 3,
   "id": "322ba9f3",
   "metadata": {},
   "outputs": [],
   "source": [
    "Distance=[100,90,100,180]\n",
    "Time=[12,9,21,18]"
   ]
  },
  {
   "cell_type": "code",
   "execution_count": 4,
   "id": "fbaa7c3a",
   "metadata": {},
   "outputs": [
    {
     "ename": "TypeError",
     "evalue": "unsupported operand type(s) for /: 'list' and 'list'",
     "output_type": "error",
     "traceback": [
      "\u001b[1;31m---------------------------------------------------------------------------\u001b[0m",
      "\u001b[1;31mTypeError\u001b[0m                                 Traceback (most recent call last)",
      "\u001b[1;32m~\\AppData\\Local\\Temp\\ipykernel_11464\\4139995040.py\u001b[0m in \u001b[0;36m<module>\u001b[1;34m\u001b[0m\n\u001b[1;32m----> 1\u001b[1;33m \u001b[0mSpeed\u001b[0m\u001b[1;33m=\u001b[0m\u001b[0mDistance\u001b[0m\u001b[1;33m/\u001b[0m\u001b[0mTime\u001b[0m\u001b[1;33m\u001b[0m\u001b[1;33m\u001b[0m\u001b[0m\n\u001b[0m\u001b[0;32m      2\u001b[0m \u001b[0mSpeed\u001b[0m\u001b[1;33m\u001b[0m\u001b[1;33m\u001b[0m\u001b[0m\n",
      "\u001b[1;31mTypeError\u001b[0m: unsupported operand type(s) for /: 'list' and 'list'"
     ]
    }
   ],
   "source": [
    "Speed=Distance/Time\n",
    "Speed"
   ]
  },
  {
   "cell_type": "code",
   "execution_count": 5,
   "id": "0e464008",
   "metadata": {},
   "outputs": [
    {
     "name": "stdout",
     "output_type": "stream",
     "text": [
      "Speed=  5.555555555555555\n",
      "Speed=  5.0\n",
      "Speed=  5.555555555555555\n",
      "Speed=  10.0\n"
     ]
    }
   ],
   "source": [
    "Distance=[100,90,100,180]\n",
    "Time=[12,9,21,18]\n",
    "new=[]\n",
    "for j in Distance:\n",
    "    for i in Time:\n",
    "        speed=j/i\n",
    "    new.append(speed)\n",
    "    print(\"Speed= \", speed)    "
   ]
  },
  {
   "cell_type": "code",
   "execution_count": 6,
   "id": "7d2c3242",
   "metadata": {},
   "outputs": [
    {
     "data": {
      "text/plain": [
       "[8.333333333333334, 10.0, 4.761904761904762, 10.0]"
      ]
     },
     "execution_count": 6,
     "metadata": {},
     "output_type": "execute_result"
    }
   ],
   "source": [
    "Distance=[100,90,100,180]\n",
    "Time=[12,9,21,18]\n",
    "speed=list(map(lambda x,y:x/y,Distance,Time))\n",
    "speed"
   ]
  },
  {
   "cell_type": "code",
   "execution_count": 7,
   "id": "51dc0f72",
   "metadata": {},
   "outputs": [
    {
     "name": "stdout",
     "output_type": "stream",
     "text": [
      "[100  90 100 180]\n",
      "[12  9 21 18]\n"
     ]
    }
   ],
   "source": [
    "#Converting existing data type into numpy array\n",
    "\n",
    "#new array=np.array(list)\n",
    "Distance_array=np.array(Distance)\n",
    "print(Distance_array)\n",
    "Time_array=np.array(Time)\n",
    "print(Time_array)"
   ]
  },
  {
   "cell_type": "code",
   "execution_count": 8,
   "id": "10f51109",
   "metadata": {},
   "outputs": [
    {
     "data": {
      "text/plain": [
       "array([ 8.33333333, 10.        ,  4.76190476, 10.        ])"
      ]
     },
     "execution_count": 8,
     "metadata": {},
     "output_type": "execute_result"
    }
   ],
   "source": [
    "Speed=Distance_array/Time_array\n",
    "Speed"
   ]
  },
  {
   "cell_type": "code",
   "execution_count": 9,
   "id": "acabc685",
   "metadata": {},
   "outputs": [
    {
     "data": {
      "text/plain": [
       "numpy.ndarray"
      ]
     },
     "execution_count": 9,
     "metadata": {},
     "output_type": "execute_result"
    }
   ],
   "source": [
    "type(Speed)"
   ]
  },
  {
   "cell_type": "code",
   "execution_count": 10,
   "id": "bd119e66",
   "metadata": {},
   "outputs": [
    {
     "data": {
      "text/plain": [
       "numpy.ndarray"
      ]
     },
     "execution_count": 10,
     "metadata": {},
     "output_type": "execute_result"
    }
   ],
   "source": [
    "type(Distance_array)"
   ]
  },
  {
   "cell_type": "markdown",
   "id": "8524b06a",
   "metadata": {},
   "source": [
    "## Case 1: Easy Operations"
   ]
  },
  {
   "cell_type": "code",
   "execution_count": 11,
   "id": "88f3ff57",
   "metadata": {},
   "outputs": [
    {
     "name": "stdout",
     "output_type": "stream",
     "text": [
      "[1, 3, 5, 7, 9, 11, 13, 15, 17, 19, 21, 23, 25, 27, 29, 31, 33, 35, 37, 39, 41, 43, 45, 47, 49]\n",
      "[6, 8, 10, 12, 14, 16, 18, 20, 22, 24, 26, 28, 30, 32, 34, 36, 38, 40, 42, 44, 46, 48, 50, 52, 54]\n"
     ]
    }
   ],
   "source": [
    "#By traditional way\n",
    "list1 = list(range(1,50,2))\n",
    "N=len(list1)\n",
    "print(list1)\n",
    "for i in range(N):\n",
    "    list1[i]=list1[i]+5\n",
    "print(list1)    "
   ]
  },
  {
   "cell_type": "code",
   "execution_count": 12,
   "id": "35df945d",
   "metadata": {},
   "outputs": [
    {
     "name": "stdout",
     "output_type": "stream",
     "text": [
      "[ 1  3  5  7  9 11 13 15 17 19 21 23 25 27 29 31 33 35 37 39 41 43 45 47\n",
      " 49]\n",
      "[ 6  8 10 12 14 16 18 20 22 24 26 28 30 32 34 36 38 40 42 44 46 48 50 52\n",
      " 54]\n"
     ]
    }
   ],
   "source": [
    "#By numpy \n",
    "arr1=np.arange(1,50,2)\n",
    "print(arr1)\n",
    "arr1=arr1+5\n",
    "print(arr1)"
   ]
  },
  {
   "cell_type": "markdown",
   "id": "8cd98bf5",
   "metadata": {},
   "source": [
    "## Case 2: Speed"
   ]
  },
  {
   "cell_type": "code",
   "execution_count": 13,
   "id": "4573f1d4",
   "metadata": {},
   "outputs": [],
   "source": [
    "import random"
   ]
  },
  {
   "cell_type": "code",
   "execution_count": 14,
   "id": "b83c7521",
   "metadata": {},
   "outputs": [
    {
     "name": "stdout",
     "output_type": "stream",
     "text": [
      "[3, 9, 15, 21, 27, 33, 39, 45, 51, 57, 63, 69, 75, 81, 87, 93, 99, 105, 111, 117, 123, 129, 135, 141, 147, 153, 159, 165, 171, 177, 183, 189, 195]\n",
      "Wall time: 3 ms\n"
     ]
    }
   ],
   "source": [
    "%%time\n",
    "for j in range(100):\n",
    "    list1 = list(range(1,100,3))\n",
    "#     print(list1)\n",
    "    list2 = list(range(2,101,3))\n",
    "#     print(list2)\n",
    "    list1 + list2#Combine both list\n",
    "    list3 = []\n",
    "    for i in range(len(list1)):\n",
    "        list3.append(list1[i]+list2[i])#it add the element of both list\n",
    "print(list3)"
   ]
  },
  {
   "cell_type": "code",
   "execution_count": 15,
   "id": "4f25a121",
   "metadata": {},
   "outputs": [
    {
     "name": "stdout",
     "output_type": "stream",
     "text": [
      "[  3   9  15  21  27  33  39  45  51  57  63  69  75  81  87  93  99 105\n",
      " 111 117 123 129 135 141 147 153 159 165 171 177 183 189 195]\n",
      "Wall time: 999 µs\n"
     ]
    }
   ],
   "source": [
    "%%time\n",
    "for x in range(100):\n",
    "    a = np.arange (1,100,3)\n",
    "    b = np.arange (2,101,3)\n",
    "    c = a+b\n",
    "print(c)   "
   ]
  },
  {
   "cell_type": "markdown",
   "id": "27a4b67c",
   "metadata": {},
   "source": [
    "## 3: Memory"
   ]
  },
  {
   "cell_type": "code",
   "execution_count": 16,
   "id": "87c0e52c",
   "metadata": {},
   "outputs": [
    {
     "name": "stdout",
     "output_type": "stream",
     "text": [
      "size of python list 140\n",
      "size of Numpy Array 20\n"
     ]
    }
   ],
   "source": [
    "import sys\n",
    "\n",
    "python_list=[10,20,30,40,50]\n",
    "numpy_array=np.array([10,20,30,40,50])\n",
    "\n",
    "sizeof_python_list=sys.getsizeof(1)*len(python_list)#20 byte\n",
    "sizeof_numpy_array=numpy_array.itemsize*numpy_array.size\n",
    "print(\"size of python list\",sizeof_python_list)\n",
    "print(\"size of Numpy Array\",sizeof_numpy_array)"
   ]
  },
  {
   "cell_type": "code",
   "execution_count": 17,
   "id": "b96b5f1f",
   "metadata": {},
   "outputs": [
    {
     "name": "stdout",
     "output_type": "stream",
     "text": [
      "28\n",
      "5\n"
     ]
    }
   ],
   "source": [
    "print(sys.getsizeof(1))\n",
    "print(len(python_list))"
   ]
  },
  {
   "cell_type": "code",
   "execution_count": 18,
   "id": "b80f74d3",
   "metadata": {},
   "outputs": [
    {
     "name": "stdout",
     "output_type": "stream",
     "text": [
      "4\n",
      "5\n"
     ]
    }
   ],
   "source": [
    "print(numpy_array.itemsize)#4byte \n",
    "print(numpy_array.size)# 5byte"
   ]
  },
  {
   "cell_type": "markdown",
   "id": "acfbb9ee",
   "metadata": {},
   "source": [
    "## NumPy Arrays\n",
    "    Numpy arrays essentially come in two flavors:vectors and matices.Vectors re strictly 1-D arrays and matrices are 2-D"
   ]
  },
  {
   "cell_type": "markdown",
   "id": "22e58e19",
   "metadata": {},
   "source": [
    "## Various ways to create NumPy Arrays\n",
    "\n",
    "# 1. From a normal Python List\n",
    "We can create a NumPy array by directly converting a list or list of lists:"
   ]
  },
  {
   "cell_type": "code",
   "execution_count": 19,
   "id": "59424571",
   "metadata": {},
   "outputs": [
    {
     "name": "stdout",
     "output_type": "stream",
     "text": [
      "[1, 2, 3]\n"
     ]
    },
    {
     "data": {
      "text/plain": [
       "array([1, 2, 3])"
      ]
     },
     "execution_count": 19,
     "metadata": {},
     "output_type": "execute_result"
    }
   ],
   "source": [
    "list=[1,2,3]\n",
    "print(list)\n",
    "np.array(list)"
   ]
  },
  {
   "cell_type": "code",
   "execution_count": 20,
   "id": "87551395",
   "metadata": {},
   "outputs": [
    {
     "name": "stdout",
     "output_type": "stream",
     "text": [
      "[[10, 20, 30], [40, 50, 60], [70, 80, 90]]\n"
     ]
    },
    {
     "data": {
      "text/plain": [
       "array([[10, 20, 30],\n",
       "       [40, 50, 60],\n",
       "       [70, 80, 90]])"
      ]
     },
     "execution_count": 20,
     "metadata": {},
     "output_type": "execute_result"
    }
   ],
   "source": [
    "matrix1=[[10,20,30],[40,50,60],[70,80,90]]\n",
    "print(matrix1)\n",
    "np.array(matrix1)#When we pass nested list into array it give a matix"
   ]
  },
  {
   "cell_type": "code",
   "execution_count": 21,
   "id": "d978c8e6",
   "metadata": {},
   "outputs": [
    {
     "data": {
      "text/plain": [
       "matrix([[10, 20, 30],\n",
       "        [40, 50, 60],\n",
       "        [70, 80, 90]])"
      ]
     },
     "execution_count": 21,
     "metadata": {},
     "output_type": "execute_result"
    }
   ],
   "source": [
    "np.matrix(matrix1)#Not Recommneded"
   ]
  },
  {
   "cell_type": "markdown",
   "id": "da545652",
   "metadata": {},
   "source": [
    "# 2. Using Built-in methods\n",
    " There are many built-in method to generate NumPy array"
   ]
  },
  {
   "cell_type": "markdown",
   "id": "437bb253",
   "metadata": {},
   "source": [
    "## a. arange\n",
    "  Return a range of value for the specific interval."
   ]
  },
  {
   "cell_type": "code",
   "execution_count": 22,
   "id": "c5ee20e4",
   "metadata": {},
   "outputs": [
    {
     "data": {
      "text/plain": [
       "array([ 0,  1,  2,  3,  4,  5,  6,  7,  8,  9, 10, 11, 12, 13, 14, 15, 16,\n",
       "       17])"
      ]
     },
     "execution_count": 22,
     "metadata": {},
     "output_type": "execute_result"
    }
   ],
   "source": [
    "np.arange(0,18)"
   ]
  },
  {
   "cell_type": "code",
   "execution_count": 23,
   "id": "0b0d5412",
   "metadata": {},
   "outputs": [
    {
     "data": {
      "text/plain": [
       "array([ 0, 10, 20, 30, 40, 50, 60, 70, 80, 90])"
      ]
     },
     "execution_count": 23,
     "metadata": {},
     "output_type": "execute_result"
    }
   ],
   "source": [
    "np.arange(0,100,10)#first argument=start value   2nd argument=stoping value   3rd argument=step size"
   ]
  },
  {
   "cell_type": "code",
   "execution_count": 24,
   "id": "78a1eb00",
   "metadata": {},
   "outputs": [
    {
     "data": {
      "text/plain": [
       "array([20, 18, 16, 14, 12, 10,  8,  6,  4,  2])"
      ]
     },
     "execution_count": 24,
     "metadata": {},
     "output_type": "execute_result"
    }
   ],
   "source": [
    "np.arange(20,1,-2)#if we use negative step function then 1st argument is always larger and  2nd argument be smaller "
   ]
  },
  {
   "cell_type": "code",
   "execution_count": 25,
   "id": "664568b9",
   "metadata": {},
   "outputs": [
    {
     "data": {
      "text/plain": [
       "array([-1,  0,  1,  2,  3])"
      ]
     },
     "execution_count": 25,
     "metadata": {},
     "output_type": "execute_result"
    }
   ],
   "source": [
    "np.arange(-1,4,1)"
   ]
  },
  {
   "cell_type": "code",
   "execution_count": 26,
   "id": "cd936aa7",
   "metadata": {},
   "outputs": [
    {
     "data": {
      "text/plain": [
       "array([], dtype=int32)"
      ]
     },
     "execution_count": 26,
     "metadata": {},
     "output_type": "execute_result"
    }
   ],
   "source": [
    "np.arange(1,20,-2)"
   ]
  },
  {
   "cell_type": "markdown",
   "id": "02b73b40",
   "metadata": {},
   "source": [
    "## b. zeros and ones\n",
    "Generte arrays of zeros and ones."
   ]
  },
  {
   "cell_type": "code",
   "execution_count": 27,
   "id": "47f52d11",
   "metadata": {},
   "outputs": [
    {
     "data": {
      "text/plain": [
       "array([0, 0, 0, 0])"
      ]
     },
     "execution_count": 27,
     "metadata": {},
     "output_type": "execute_result"
    }
   ],
   "source": [
    "np.zeros(4,dtype=int)"
   ]
  },
  {
   "cell_type": "code",
   "execution_count": 28,
   "id": "233aec13",
   "metadata": {},
   "outputs": [
    {
     "data": {
      "text/plain": [
       "array([[0., 0., 0., 0.],\n",
       "       [0., 0., 0., 0.],\n",
       "       [0., 0., 0., 0.],\n",
       "       [0., 0., 0., 0.]])"
      ]
     },
     "execution_count": 28,
     "metadata": {},
     "output_type": "execute_result"
    }
   ],
   "source": [
    "np.zeros((4,4))#argument is tuple,is tuple we need to specify the number of rows and column"
   ]
  },
  {
   "cell_type": "code",
   "execution_count": 29,
   "id": "8c9a0bdb",
   "metadata": {},
   "outputs": [
    {
     "data": {
      "text/plain": [
       "array([[0, 0, 0, 0],\n",
       "       [0, 0, 0, 0],\n",
       "       [0, 0, 0, 0],\n",
       "       [0, 0, 0, 0]], dtype=int64)"
      ]
     },
     "execution_count": 29,
     "metadata": {},
     "output_type": "execute_result"
    }
   ],
   "source": [
    "np.zeros((4,4),dtype=np.int64)"
   ]
  },
  {
   "cell_type": "code",
   "execution_count": 30,
   "id": "75a2c1d2",
   "metadata": {},
   "outputs": [
    {
     "data": {
      "text/plain": [
       "array([1., 1., 1.])"
      ]
     },
     "execution_count": 30,
     "metadata": {},
     "output_type": "execute_result"
    }
   ],
   "source": [
    "np.ones(3)"
   ]
  },
  {
   "cell_type": "code",
   "execution_count": 31,
   "id": "c085553d",
   "metadata": {},
   "outputs": [
    {
     "data": {
      "text/plain": [
       "array([[1., 1.],\n",
       "       [1., 1.],\n",
       "       [1., 1.]])"
      ]
     },
     "execution_count": 31,
     "metadata": {},
     "output_type": "execute_result"
    }
   ],
   "source": [
    "np.ones((3,2))"
   ]
  },
  {
   "cell_type": "code",
   "execution_count": 32,
   "id": "e269f7b9",
   "metadata": {},
   "outputs": [
    {
     "data": {
      "text/plain": [
       "array([[1, 1, 1],\n",
       "       [1, 1, 1]])"
      ]
     },
     "execution_count": 32,
     "metadata": {},
     "output_type": "execute_result"
    }
   ],
   "source": [
    "np.ones((2,3),int)"
   ]
  },
  {
   "cell_type": "markdown",
   "id": "94bb749f",
   "metadata": {},
   "source": [
    "## c. linspace\n",
    "Returns evenly spaces numbers over a specified interval."
   ]
  },
  {
   "cell_type": "code",
   "execution_count": 33,
   "id": "1a50765a",
   "metadata": {},
   "outputs": [
    {
     "data": {
      "text/plain": [
       "array([ 1., 10.])"
      ]
     },
     "execution_count": 33,
     "metadata": {},
     "output_type": "execute_result"
    }
   ],
   "source": [
    "np.linspace(1,10,2)#1st argument=start value  2nd argument=stop value 3rd argument=total number to generate by equal distance"
   ]
  },
  {
   "cell_type": "code",
   "execution_count": 34,
   "id": "8797ac57",
   "metadata": {},
   "outputs": [
    {
     "data": {
      "text/plain": [
       "array([ 2.        ,  7.33333333, 12.66666667, 18.        , 23.33333333,\n",
       "       28.66666667, 34.        , 39.33333333, 44.66666667, 50.        ])"
      ]
     },
     "execution_count": 34,
     "metadata": {},
     "output_type": "execute_result"
    }
   ],
   "source": [
    "np.linspace(2,50,10)# . is float value  and 2nd argument is also consider (n)"
   ]
  },
  {
   "cell_type": "markdown",
   "id": "2baeb2ab",
   "metadata": {},
   "source": [
    "## d. eye\n",
    "Create an identity matrix."
   ]
  },
  {
   "cell_type": "code",
   "execution_count": 35,
   "id": "2d3956f8",
   "metadata": {},
   "outputs": [
    {
     "data": {
      "text/plain": [
       "array([[1, 0],\n",
       "       [0, 1]])"
      ]
     },
     "execution_count": 35,
     "metadata": {},
     "output_type": "execute_result"
    }
   ],
   "source": [
    "np.eye(2,dtype=int)"
   ]
  },
  {
   "cell_type": "code",
   "execution_count": 36,
   "id": "a9e8c96c",
   "metadata": {},
   "outputs": [
    {
     "data": {
      "text/plain": [
       "array([[1., 0., 0., 0.],\n",
       "       [0., 1., 0., 0.],\n",
       "       [0., 0., 1., 0.],\n",
       "       [0., 0., 0., 1.]])"
      ]
     },
     "execution_count": 36,
     "metadata": {},
     "output_type": "execute_result"
    }
   ],
   "source": [
    "np.eye(4)"
   ]
  },
  {
   "cell_type": "code",
   "execution_count": 37,
   "id": "148097a5",
   "metadata": {},
   "outputs": [
    {
     "data": {
      "text/plain": [
       "array([[1., 0., 0., 0., 0.],\n",
       "       [0., 1., 0., 0., 0.],\n",
       "       [0., 0., 1., 0., 0.],\n",
       "       [0., 0., 0., 1., 0.]])"
      ]
     },
     "execution_count": 37,
     "metadata": {},
     "output_type": "execute_result"
    }
   ],
   "source": [
    "np.eye(4,5)#We dont need  to give column number bcoz identity matrix equal dimensions eg.4*4,2*2"
   ]
  },
  {
   "cell_type": "markdown",
   "id": "893d8175",
   "metadata": {},
   "source": [
    "# 3. Generating Random number Arrays\n",
    "NumPy also have many inbuilt functions to generate random function arrays."
   ]
  },
  {
   "cell_type": "markdown",
   "id": "0ed845fa",
   "metadata": {},
   "source": [
    "## a. rand\n",
    "Generate uniformly distributed random number over (0 , 1)"
   ]
  },
  {
   "cell_type": "code",
   "execution_count": 38,
   "id": "51daae73",
   "metadata": {},
   "outputs": [
    {
     "data": {
      "text/plain": [
       "array([0.28252842, 0.26420221])"
      ]
     },
     "execution_count": 38,
     "metadata": {},
     "output_type": "execute_result"
    }
   ],
   "source": [
    "np.random.rand(2)"
   ]
  },
  {
   "cell_type": "code",
   "execution_count": 39,
   "id": "ba3fffd3",
   "metadata": {},
   "outputs": [
    {
     "data": {
      "text/plain": [
       "array([[0.10064234, 0.20214256, 0.49179872],\n",
       "       [0.4261354 , 0.41565662, 0.81576379],\n",
       "       [0.68406969, 0.82744482, 0.79588608]])"
      ]
     },
     "execution_count": 39,
     "metadata": {},
     "output_type": "execute_result"
    }
   ],
   "source": [
    "np.random.rand(3,3)"
   ]
  },
  {
   "cell_type": "markdown",
   "id": "b83e6dd8",
   "metadata": {},
   "source": [
    "## b.randn\n",
    "Generate normally distributed standard normal distribution(random numbers)."
   ]
  },
  {
   "cell_type": "code",
   "execution_count": 40,
   "id": "a49c0a60",
   "metadata": {},
   "outputs": [
    {
     "data": {
      "text/plain": [
       "array([-0.52668565, -1.80801812])"
      ]
     },
     "execution_count": 40,
     "metadata": {},
     "output_type": "execute_result"
    }
   ],
   "source": [
    "np.random.randn(2)"
   ]
  },
  {
   "cell_type": "code",
   "execution_count": 41,
   "id": "a12cd40d",
   "metadata": {},
   "outputs": [
    {
     "data": {
      "text/plain": [
       "array([[-0.29803361,  0.13285612,  0.89097283],\n",
       "       [ 2.00900238, -0.07827254,  0.56167081],\n",
       "       [-0.41202687, -0.40102048,  0.68727664],\n",
       "       [-0.30163828,  0.38981558,  1.69346393]])"
      ]
     },
     "execution_count": 41,
     "metadata": {},
     "output_type": "execute_result"
    }
   ],
   "source": [
    "np.random.randn(4,3)"
   ]
  },
  {
   "cell_type": "markdown",
   "id": "deb4d7bd",
   "metadata": {},
   "source": [
    "## c. randint\n",
    "Generate random integer over given range."
   ]
  },
  {
   "cell_type": "code",
   "execution_count": 42,
   "id": "efc3fd90",
   "metadata": {},
   "outputs": [
    {
     "data": {
      "text/plain": [
       "81"
      ]
     },
     "execution_count": 42,
     "metadata": {},
     "output_type": "execute_result"
    }
   ],
   "source": [
    "np.random.randint(50,100)#if we dont mention number that how many number we want then it give by defoult single number"
   ]
  },
  {
   "cell_type": "code",
   "execution_count": 43,
   "id": "5bf07a16",
   "metadata": {},
   "outputs": [
    {
     "data": {
      "text/plain": [
       "array([76, 93, 98, 72, 91, 91, 97, 98, 80, 63])"
      ]
     },
     "execution_count": 43,
     "metadata": {},
     "output_type": "execute_result"
    }
   ],
   "source": [
    "np.random.randint(50,100,10)"
   ]
  },
  {
   "cell_type": "markdown",
   "id": "3d2fb687",
   "metadata": {},
   "source": [
    "# Array Attributes and Methods"
   ]
  },
  {
   "cell_type": "code",
   "execution_count": 44,
   "id": "f5a38fad",
   "metadata": {},
   "outputs": [
    {
     "name": "stdout",
     "output_type": "stream",
     "text": [
      "[ 0  1  2  3  4  5  6  7  8  9 10 11 12 13 14 15 16 17 18 19]\n"
     ]
    }
   ],
   "source": [
    "array1=np.arange(20)\n",
    "print(array1)\n"
   ]
  },
  {
   "cell_type": "markdown",
   "id": "1ae191eb",
   "metadata": {},
   "source": [
    "## a. shape\n",
    "It give us number of rows and number of columns."
   ]
  },
  {
   "cell_type": "code",
   "execution_count": 45,
   "id": "fd0dabac",
   "metadata": {},
   "outputs": [
    {
     "data": {
      "text/plain": [
       "(20,)"
      ]
     },
     "execution_count": 45,
     "metadata": {},
     "output_type": "execute_result"
    }
   ],
   "source": [
    "array1.shape#it give as number of rows and numbers of column"
   ]
  },
  {
   "cell_type": "markdown",
   "id": "e36cdc5c",
   "metadata": {},
   "source": [
    "## b. reshape\n",
    "Change the original shape dimensions of the array"
   ]
  },
  {
   "cell_type": "code",
   "execution_count": 46,
   "id": "9e110bc4",
   "metadata": {},
   "outputs": [
    {
     "data": {
      "text/plain": [
       "array([[ 0,  1,  2,  3],\n",
       "       [ 4,  5,  6,  7],\n",
       "       [ 8,  9, 10, 11],\n",
       "       [12, 13, 14, 15],\n",
       "       [16, 17, 18, 19]])"
      ]
     },
     "execution_count": 46,
     "metadata": {},
     "output_type": "execute_result"
    }
   ],
   "source": [
    "arr=array1.reshape(5,4)\n",
    "arr"
   ]
  },
  {
   "cell_type": "code",
   "execution_count": 47,
   "id": "aca887cc",
   "metadata": {},
   "outputs": [
    {
     "ename": "ValueError",
     "evalue": "cannot reshape array of size 20 into shape (5,3)",
     "output_type": "error",
     "traceback": [
      "\u001b[1;31m---------------------------------------------------------------------------\u001b[0m",
      "\u001b[1;31mValueError\u001b[0m                                Traceback (most recent call last)",
      "\u001b[1;32m~\\AppData\\Local\\Temp\\ipykernel_11464\\361591407.py\u001b[0m in \u001b[0;36m<module>\u001b[1;34m\u001b[0m\n\u001b[1;32m----> 1\u001b[1;33m \u001b[0marr\u001b[0m\u001b[1;33m=\u001b[0m\u001b[0marray1\u001b[0m\u001b[1;33m.\u001b[0m\u001b[0mreshape\u001b[0m\u001b[1;33m(\u001b[0m\u001b[1;36m5\u001b[0m\u001b[1;33m,\u001b[0m\u001b[1;36m3\u001b[0m\u001b[1;33m)\u001b[0m\u001b[1;31m#It dont give us matrix bcoz total number of rows and column are not match\u001b[0m\u001b[1;33m\u001b[0m\u001b[1;33m\u001b[0m\u001b[0m\n\u001b[0m",
      "\u001b[1;31mValueError\u001b[0m: cannot reshape array of size 20 into shape (5,3)"
     ]
    }
   ],
   "source": [
    "arr=array1.reshape(5,3)#It dont give us matrix bcoz total number of rows and column are not match"
   ]
  },
  {
   "cell_type": "code",
   "execution_count": 48,
   "id": "e9308d0d",
   "metadata": {},
   "outputs": [
    {
     "data": {
      "text/plain": [
       "(5, 4)"
      ]
     },
     "execution_count": 48,
     "metadata": {},
     "output_type": "execute_result"
    }
   ],
   "source": [
    "arr.shape"
   ]
  },
  {
   "cell_type": "code",
   "execution_count": 49,
   "id": "8a6fa699",
   "metadata": {},
   "outputs": [
    {
     "data": {
      "text/plain": [
       "5"
      ]
     },
     "execution_count": 49,
     "metadata": {},
     "output_type": "execute_result"
    }
   ],
   "source": [
    "arr.shape[0]#0 gives rows number 1 gives column number"
   ]
  },
  {
   "cell_type": "markdown",
   "id": "a18d521f",
   "metadata": {},
   "source": [
    "## max,min,argmax,argmin\n",
    "max(),min() finding the maximum and minimum value.\n",
    "\n",
    "argmax(),argmin() for index of max and min of elements. "
   ]
  },
  {
   "cell_type": "code",
   "execution_count": 50,
   "id": "abcaf0fe",
   "metadata": {},
   "outputs": [
    {
     "data": {
      "text/plain": [
       "array([16,  7, 35, 34, 22, 21, 43, 37, 21, 45])"
      ]
     },
     "execution_count": 50,
     "metadata": {},
     "output_type": "execute_result"
    }
   ],
   "source": [
    "random_array1=np.random.randint(1,50,10)\n",
    "random_array1"
   ]
  },
  {
   "cell_type": "code",
   "execution_count": 51,
   "id": "db66c6b2",
   "metadata": {},
   "outputs": [
    {
     "data": {
      "text/plain": [
       "45"
      ]
     },
     "execution_count": 51,
     "metadata": {},
     "output_type": "execute_result"
    }
   ],
   "source": [
    "random_array1.max()"
   ]
  },
  {
   "cell_type": "code",
   "execution_count": 52,
   "id": "defb665e",
   "metadata": {},
   "outputs": [
    {
     "data": {
      "text/plain": [
       "9"
      ]
     },
     "execution_count": 52,
     "metadata": {},
     "output_type": "execute_result"
    }
   ],
   "source": [
    "random_array1.argmax()"
   ]
  },
  {
   "cell_type": "code",
   "execution_count": 53,
   "id": "1f222750",
   "metadata": {},
   "outputs": [
    {
     "data": {
      "text/plain": [
       "7"
      ]
     },
     "execution_count": 53,
     "metadata": {},
     "output_type": "execute_result"
    }
   ],
   "source": [
    "random_array1.min()"
   ]
  },
  {
   "cell_type": "code",
   "execution_count": 54,
   "id": "2bd57f6e",
   "metadata": {},
   "outputs": [
    {
     "data": {
      "text/plain": [
       "1"
      ]
     },
     "execution_count": 54,
     "metadata": {},
     "output_type": "execute_result"
    }
   ],
   "source": [
    "random_array1.argmin()"
   ]
  },
  {
   "cell_type": "markdown",
   "id": "83e3e802",
   "metadata": {},
   "source": [
    "## dtype\n",
    "To get the data type of the object in the array\n",
    "\n",
    "similar method: np.result_type()"
   ]
  },
  {
   "cell_type": "code",
   "execution_count": 55,
   "id": "f8d55e4f",
   "metadata": {},
   "outputs": [
    {
     "data": {
      "text/plain": [
       "array([ 0,  1,  2,  3,  4,  5,  6,  7,  8,  9, 10, 11, 12, 13, 14, 15, 16,\n",
       "       17, 18, 19])"
      ]
     },
     "execution_count": 55,
     "metadata": {},
     "output_type": "execute_result"
    }
   ],
   "source": [
    "array1"
   ]
  },
  {
   "cell_type": "code",
   "execution_count": 56,
   "id": "c15a46cc",
   "metadata": {},
   "outputs": [
    {
     "data": {
      "text/plain": [
       "dtype('int32')"
      ]
     },
     "execution_count": 56,
     "metadata": {},
     "output_type": "execute_result"
    }
   ],
   "source": [
    "array1.dtype"
   ]
  },
  {
   "cell_type": "code",
   "execution_count": 57,
   "id": "d4cd4201",
   "metadata": {},
   "outputs": [
    {
     "data": {
      "text/plain": [
       "dtype('int32')"
      ]
     },
     "execution_count": 57,
     "metadata": {},
     "output_type": "execute_result"
    }
   ],
   "source": [
    "np.result_type(array1)"
   ]
  },
  {
   "cell_type": "code",
   "execution_count": 58,
   "id": "e2ebbcd6",
   "metadata": {},
   "outputs": [
    {
     "data": {
      "text/plain": [
       "array([1, 2, 3, 4, 5, 6, 7, 8], dtype=int64)"
      ]
     },
     "execution_count": 58,
     "metadata": {},
     "output_type": "execute_result"
    }
   ],
   "source": [
    "array2=np.arange(1,10,1.25,dtype=np.int64)\n",
    "array2"
   ]
  },
  {
   "cell_type": "code",
   "execution_count": 59,
   "id": "6ff7f722",
   "metadata": {},
   "outputs": [
    {
     "data": {
      "text/plain": [
       "array([1.  , 2.25, 3.5 , 4.75, 6.  , 7.25, 8.5 , 9.75])"
      ]
     },
     "execution_count": 59,
     "metadata": {},
     "output_type": "execute_result"
    }
   ],
   "source": [
    "array3=np.arange(1,10,1.25,dtype=np.float64)\n",
    "array3"
   ]
  },
  {
   "cell_type": "markdown",
   "id": "a209bf13",
   "metadata": {},
   "source": [
    "## type()\n",
    "type() returns class type of an object."
   ]
  },
  {
   "cell_type": "code",
   "execution_count": 60,
   "id": "6613037f",
   "metadata": {},
   "outputs": [
    {
     "data": {
      "text/plain": [
       "numpy.ndarray"
      ]
     },
     "execution_count": 60,
     "metadata": {},
     "output_type": "execute_result"
    }
   ],
   "source": [
    "type(array1)"
   ]
  },
  {
   "cell_type": "code",
   "execution_count": 61,
   "id": "1956a304",
   "metadata": {},
   "outputs": [
    {
     "data": {
      "text/plain": [
       "dtype('int32')"
      ]
     },
     "execution_count": 61,
     "metadata": {},
     "output_type": "execute_result"
    }
   ],
   "source": [
    "array1.dtype#it will give inside the array data type give by dtype"
   ]
  }
 ],
 "metadata": {
  "kernelspec": {
   "display_name": "Python 3 (ipykernel)",
   "language": "python",
   "name": "python3"
  },
  "language_info": {
   "codemirror_mode": {
    "name": "ipython",
    "version": 3
   },
   "file_extension": ".py",
   "mimetype": "text/x-python",
   "name": "python",
   "nbconvert_exporter": "python",
   "pygments_lexer": "ipython3",
   "version": "3.9.13"
  }
 },
 "nbformat": 4,
 "nbformat_minor": 5
}
