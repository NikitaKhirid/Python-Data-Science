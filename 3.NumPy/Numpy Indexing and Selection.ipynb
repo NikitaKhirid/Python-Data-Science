{
 "cells": [
  {
   "cell_type": "markdown",
   "id": "a4dc30db",
   "metadata": {},
   "source": [
    "## NumPy Indexing and Selection"
   ]
  },
  {
   "cell_type": "code",
   "execution_count": 1,
   "id": "08d61db7",
   "metadata": {},
   "outputs": [],
   "source": [
    "import numpy as np"
   ]
  },
  {
   "cell_type": "code",
   "execution_count": 2,
   "id": "d80a29ca",
   "metadata": {},
   "outputs": [
    {
     "data": {
      "text/plain": [
       "array([ 1,  2,  3,  4,  5,  6,  7,  8,  9, 10, 11, 12, 13, 14, 15, 16])"
      ]
     },
     "execution_count": 2,
     "metadata": {},
     "output_type": "execute_result"
    }
   ],
   "source": [
    "arr=np.arange(1,17)\n",
    "arr"
   ]
  },
  {
   "cell_type": "markdown",
   "id": "77247eb2",
   "metadata": {},
   "source": [
    "### Brackets Indexing and selections"
   ]
  },
  {
   "cell_type": "code",
   "execution_count": 3,
   "id": "a054f3da",
   "metadata": {},
   "outputs": [
    {
     "data": {
      "text/plain": [
       "6"
      ]
     },
     "execution_count": 3,
     "metadata": {},
     "output_type": "execute_result"
    }
   ],
   "source": [
    "arr[5]"
   ]
  },
  {
   "cell_type": "code",
   "execution_count": 4,
   "id": "017f0ec7",
   "metadata": {},
   "outputs": [
    {
     "data": {
      "text/plain": [
       "array([ 3,  4,  5,  6,  7,  8,  9, 10, 11, 12, 13, 14, 15, 16])"
      ]
     },
     "execution_count": 4,
     "metadata": {},
     "output_type": "execute_result"
    }
   ],
   "source": [
    "arr[2:]"
   ]
  },
  {
   "cell_type": "markdown",
   "id": "85f8fa27",
   "metadata": {},
   "source": [
    "## Indexing a 2D arrays(matrices)\n",
    "Using one subscript comma approch i.e arr_2d[row,col]"
   ]
  },
  {
   "cell_type": "code",
   "execution_count": 5,
   "id": "06ea67ae",
   "metadata": {},
   "outputs": [
    {
     "data": {
      "text/plain": [
       "array([[ 3,  6,  9],\n",
       "       [10, 15, 20],\n",
       "       [20, 25, 30],\n",
       "       [90, 67, 56]])"
      ]
     },
     "execution_count": 5,
     "metadata": {},
     "output_type": "execute_result"
    }
   ],
   "source": [
    "arr_2d = np.array(([3,6,9],[10,15,20],[20,25,30],[90,67,56]))\n",
    "arr_2d"
   ]
  },
  {
   "cell_type": "code",
   "execution_count": 6,
   "id": "0d87f7f1",
   "metadata": {},
   "outputs": [],
   "source": [
    "       #0   1   2\n",
    "    #0[ 3,  6,  9]\n",
    "    #1[10, 15, 20]\n",
    "    #2[20, 25, 30]\n",
    "    #3[90, 67, 56]"
   ]
  },
  {
   "cell_type": "code",
   "execution_count": 7,
   "id": "803d0fed",
   "metadata": {},
   "outputs": [
    {
     "data": {
      "text/plain": [
       "array([20, 25, 30])"
      ]
     },
     "execution_count": 7,
     "metadata": {},
     "output_type": "execute_result"
    }
   ],
   "source": [
    "arr_2d[2]#2nd row"
   ]
  },
  {
   "cell_type": "code",
   "execution_count": 8,
   "id": "2ac769b4",
   "metadata": {},
   "outputs": [
    {
     "data": {
      "text/plain": [
       "array([[20, 25, 30]])"
      ]
     },
     "execution_count": 8,
     "metadata": {},
     "output_type": "execute_result"
    }
   ],
   "source": [
    "#Indexing multiple rows\n",
    "arr_2d[2:3]"
   ]
  },
  {
   "cell_type": "code",
   "execution_count": 9,
   "id": "e884bf01",
   "metadata": {},
   "outputs": [
    {
     "data": {
      "text/plain": [
       "15"
      ]
     },
     "execution_count": 9,
     "metadata": {},
     "output_type": "execute_result"
    }
   ],
   "source": [
    "#Format is arr_2d[row][col]  or arr_2d[row,col]\n",
    "#Getting individual element value\n",
    "arr_2d[1,1]"
   ]
  },
  {
   "cell_type": "code",
   "execution_count": 10,
   "id": "95f3e760",
   "metadata": {},
   "outputs": [
    {
     "data": {
      "text/plain": [
       "array([[ 6,  9],\n",
       "       [15, 20]])"
      ]
     },
     "execution_count": 10,
     "metadata": {},
     "output_type": "execute_result"
    }
   ],
   "source": [
    "#2D array silicing\n",
    "#shape (2,2)from top right corner\n",
    "arr_2d[:2,1:]#before , it consider as rows range and after the , consider as column range\n",
    "# row=0-1 and column=1- last"
   ]
  },
  {
   "cell_type": "code",
   "execution_count": 11,
   "id": "94f53486",
   "metadata": {},
   "outputs": [
    {
     "data": {
      "text/plain": [
       "array([[25, 30],\n",
       "       [67, 56]])"
      ]
     },
     "execution_count": 11,
     "metadata": {},
     "output_type": "execute_result"
    }
   ],
   "source": [
    "arr_2d[2: ,1:]"
   ]
  },
  {
   "cell_type": "code",
   "execution_count": 12,
   "id": "12447229",
   "metadata": {},
   "outputs": [
    {
     "data": {
      "text/plain": [
       "array([], shape=(2, 0), dtype=int32)"
      ]
     },
     "execution_count": 12,
     "metadata": {},
     "output_type": "execute_result"
    }
   ],
   "source": [
    "#Shape bottom row\n",
    "arr_2d[2:5,4:7]#if not present it don't give error but give empty array"
   ]
  },
  {
   "cell_type": "code",
   "execution_count": 13,
   "id": "1978078d",
   "metadata": {},
   "outputs": [
    {
     "data": {
      "text/plain": [
       "array([ 0,  1,  2,  3,  4,  5,  6,  7,  8,  9, 10, 11, 12, 13, 14, 15])"
      ]
     },
     "execution_count": 13,
     "metadata": {},
     "output_type": "execute_result"
    }
   ],
   "source": [
    "arr_2d=np.arange(16)\n",
    "arr_2d"
   ]
  },
  {
   "cell_type": "code",
   "execution_count": 14,
   "id": "f04c9e1b",
   "metadata": {},
   "outputs": [
    {
     "data": {
      "text/plain": [
       "array([[ 0,  1,  2,  3],\n",
       "       [ 4,  5,  6,  7],\n",
       "       [ 8,  9, 10, 11],\n",
       "       [12, 13, 14, 15]])"
      ]
     },
     "execution_count": 14,
     "metadata": {},
     "output_type": "execute_result"
    }
   ],
   "source": [
    "new=arr_2d.reshape(4,4)\n",
    "new"
   ]
  },
  {
   "cell_type": "code",
   "execution_count": 15,
   "id": "25ba476d",
   "metadata": {},
   "outputs": [
    {
     "data": {
      "text/plain": [
       "array([[ 9],\n",
       "       [13]])"
      ]
     },
     "execution_count": 15,
     "metadata": {},
     "output_type": "execute_result"
    }
   ],
   "source": [
    "new[2:4,1:2]"
   ]
  },
  {
   "cell_type": "markdown",
   "id": "5de39560",
   "metadata": {},
   "source": [
    "## Selections\n",
    "Selecting/Filtering data based on some conditions."
   ]
  },
  {
   "cell_type": "code",
   "execution_count": 16,
   "id": "f09d805a",
   "metadata": {},
   "outputs": [
    {
     "data": {
      "text/plain": [
       "array([ 1,  2,  3,  4,  5,  6,  7,  8,  9, 10, 11, 12, 13, 14, 15, 16, 17,\n",
       "       18, 19, 20])"
      ]
     },
     "execution_count": 16,
     "metadata": {},
     "output_type": "execute_result"
    }
   ],
   "source": [
    "arr1=np.arange(1,21)\n",
    "arr1"
   ]
  },
  {
   "cell_type": "code",
   "execution_count": 17,
   "id": "2220af25",
   "metadata": {},
   "outputs": [
    {
     "data": {
      "text/plain": [
       "array([False, False, False, False, False, False, False,  True,  True,\n",
       "        True,  True,  True,  True,  True,  True,  True,  True,  True,\n",
       "        True,  True])"
      ]
     },
     "execution_count": 17,
     "metadata": {},
     "output_type": "execute_result"
    }
   ],
   "source": [
    "arr1>7#it give the output in boolen"
   ]
  },
  {
   "cell_type": "code",
   "execution_count": 18,
   "id": "eab42801",
   "metadata": {},
   "outputs": [
    {
     "data": {
      "text/plain": [
       "array([ 8,  9, 10, 11, 12, 13, 14, 15, 16, 17, 18, 19, 20])"
      ]
     },
     "execution_count": 18,
     "metadata": {},
     "output_type": "execute_result"
    }
   ],
   "source": [
    "arr1[arr1>7]#if actual element value we want then use [condition]"
   ]
  },
  {
   "cell_type": "code",
   "execution_count": 19,
   "id": "7e217fc9",
   "metadata": {},
   "outputs": [
    {
     "data": {
      "text/plain": [
       "array([12])"
      ]
     },
     "execution_count": 19,
     "metadata": {},
     "output_type": "execute_result"
    }
   ],
   "source": [
    "arr1[arr1==12]"
   ]
  },
  {
   "cell_type": "code",
   "execution_count": 20,
   "id": "44d32c41",
   "metadata": {},
   "outputs": [
    {
     "data": {
      "text/plain": [
       "array([1, 2, 3, 4, 5])"
      ]
     },
     "execution_count": 20,
     "metadata": {},
     "output_type": "execute_result"
    }
   ],
   "source": [
    "arr1[arr1<=5]"
   ]
  },
  {
   "cell_type": "code",
   "execution_count": 21,
   "id": "e94baef5",
   "metadata": {},
   "outputs": [
    {
     "data": {
      "text/plain": [
       "array([ 1,  2,  3,  4,  5,  6,  7,  8,  9, 11, 12, 13, 14, 15, 16, 17, 18,\n",
       "       19, 20])"
      ]
     },
     "execution_count": 21,
     "metadata": {},
     "output_type": "execute_result"
    }
   ],
   "source": [
    "arr1[arr1!=10]"
   ]
  },
  {
   "cell_type": "code",
   "execution_count": 22,
   "id": "dd7f0846",
   "metadata": {},
   "outputs": [
    {
     "data": {
      "text/plain": [
       "array([ 1,  2,  3,  4,  5,  6,  7,  8,  9, 10, 11, 12, 13, 14])"
      ]
     },
     "execution_count": 22,
     "metadata": {},
     "output_type": "execute_result"
    }
   ],
   "source": [
    "arr1[arr1<15]"
   ]
  },
  {
   "cell_type": "markdown",
   "id": "e399268a",
   "metadata": {},
   "source": [
    "## np.where() function\n",
    "\n",
    "### Syntax= numpy.where(condition[x,y])\n",
    "   \n",
    "   It returns the indices of element in an input array where the given condition is satisfied.\n",
    "   \n",
    "   If both x and y are satisfied,the output array contains elements of x where condition is True,and elements from y elsewhere."
   ]
  },
  {
   "cell_type": "code",
   "execution_count": 23,
   "id": "3215c5a3",
   "metadata": {},
   "outputs": [
    {
     "data": {
      "text/plain": [
       "(array([ 7,  8,  9, 10, 11, 12, 13, 14, 15, 16, 17, 18, 19], dtype=int64),)"
      ]
     },
     "execution_count": 23,
     "metadata": {},
     "output_type": "execute_result"
    }
   ],
   "source": [
    "np.where(arr1>7)#index"
   ]
  },
  {
   "cell_type": "code",
   "execution_count": 24,
   "id": "dc3b8b57",
   "metadata": {},
   "outputs": [
    {
     "data": {
      "text/plain": [
       "array([ 8,  9, 10, 11, 12, 13, 14, 15, 16, 17, 18, 19, 20])"
      ]
     },
     "execution_count": 24,
     "metadata": {},
     "output_type": "execute_result"
    }
   ],
   "source": [
    "arr1[np.where(arr1>7)]#value"
   ]
  },
  {
   "cell_type": "code",
   "execution_count": 25,
   "id": "c6f2e9ac",
   "metadata": {},
   "outputs": [
    {
     "data": {
      "text/plain": [
       "array([ 2,  2,  2,  2,  2,  2,  2,  8,  9, 10, 11, 12, 13, 14, 15, 16, 17,\n",
       "       18, 19, 20])"
      ]
     },
     "execution_count": 25,
     "metadata": {},
     "output_type": "execute_result"
    }
   ],
   "source": [
    "np.where(arr1>7,arr1,2)#1st argument=condition , 2nd argument=in such array,  3rd argument=replace by that "
   ]
  }
 ],
 "metadata": {
  "kernelspec": {
   "display_name": "Python 3 (ipykernel)",
   "language": "python",
   "name": "python3"
  },
  "language_info": {
   "codemirror_mode": {
    "name": "ipython",
    "version": 3
   },
   "file_extension": ".py",
   "mimetype": "text/x-python",
   "name": "python",
   "nbconvert_exporter": "python",
   "pygments_lexer": "ipython3",
   "version": "3.9.13"
  }
 },
 "nbformat": 4,
 "nbformat_minor": 5
}
