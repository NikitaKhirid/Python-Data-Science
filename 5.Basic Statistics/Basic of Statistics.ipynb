{
 "cells": [
  {
   "cell_type": "code",
   "execution_count": 1,
   "id": "5525dbff",
   "metadata": {},
   "outputs": [],
   "source": [
    "import numpy as np\n",
    "import pandas as pd"
   ]
  },
  {
   "cell_type": "code",
   "execution_count": 2,
   "id": "afd7d459",
   "metadata": {},
   "outputs": [],
   "source": [
    "Salaries=pd.Series([25000,25000,27000,32000,34500])\n",
    "Department=pd.Series([\"Technical\",\"Technical\",\"Statistics\",\"Physics\",\"Math\"])"
   ]
  },
  {
   "cell_type": "markdown",
   "id": "4967800e",
   "metadata": {},
   "source": [
    "### Computing mean,median and mode"
   ]
  },
  {
   "cell_type": "code",
   "execution_count": 3,
   "id": "bc1ebeff",
   "metadata": {},
   "outputs": [
    {
     "data": {
      "text/plain": [
       "28700.0"
      ]
     },
     "execution_count": 3,
     "metadata": {},
     "output_type": "execute_result"
    }
   ],
   "source": [
    "Salaries.mean()"
   ]
  },
  {
   "cell_type": "code",
   "execution_count": 4,
   "id": "9b3706d4",
   "metadata": {},
   "outputs": [
    {
     "data": {
      "text/plain": [
       "27000.0"
      ]
     },
     "execution_count": 4,
     "metadata": {},
     "output_type": "execute_result"
    }
   ],
   "source": [
    "Salaries.median()"
   ]
  },
  {
   "cell_type": "code",
   "execution_count": 5,
   "id": "934aac67",
   "metadata": {},
   "outputs": [
    {
     "data": {
      "text/plain": [
       "0    25000\n",
       "dtype: int64"
      ]
     },
     "execution_count": 5,
     "metadata": {},
     "output_type": "execute_result"
    }
   ],
   "source": [
    "Salaries.mode()"
   ]
  },
  {
   "cell_type": "code",
   "execution_count": 6,
   "id": "e142641f",
   "metadata": {},
   "outputs": [
    {
     "data": {
      "text/plain": [
       "0    Technical\n",
       "dtype: object"
      ]
     },
     "execution_count": 6,
     "metadata": {},
     "output_type": "execute_result"
    }
   ],
   "source": [
    "Department.mode()"
   ]
  },
  {
   "cell_type": "markdown",
   "id": "76a687ec",
   "metadata": {},
   "source": [
    "## Outliers\n",
    "\n",
    "#### Case 1:"
   ]
  },
  {
   "cell_type": "code",
   "execution_count": 7,
   "id": "d9fb7593",
   "metadata": {},
   "outputs": [
    {
     "name": "stderr",
     "output_type": "stream",
     "text": [
      "C:\\Users\\SHUBHAM\\AppData\\Local\\Temp\\ipykernel_8484\\573522614.py:1: FutureWarning: The series.append method is deprecated and will be removed from pandas in a future version. Use pandas.concat instead.\n",
      "  Salaries_modified=Salaries.append(pd.Series(2000000))\n"
     ]
    },
    {
     "data": {
      "text/plain": [
       "0      25000\n",
       "1      25000\n",
       "2      27000\n",
       "3      32000\n",
       "4      34500\n",
       "0    2000000\n",
       "dtype: int64"
      ]
     },
     "execution_count": 7,
     "metadata": {},
     "output_type": "execute_result"
    }
   ],
   "source": [
    "Salaries_modified=Salaries.append(pd.Series(2000000))\n",
    "Salaries_modified"
   ]
  },
  {
   "cell_type": "code",
   "execution_count": 8,
   "id": "6672165d",
   "metadata": {},
   "outputs": [
    {
     "data": {
      "text/plain": [
       "357250.0"
      ]
     },
     "execution_count": 8,
     "metadata": {},
     "output_type": "execute_result"
    }
   ],
   "source": [
    "Salaries_modified.mean()"
   ]
  },
  {
   "cell_type": "code",
   "execution_count": 9,
   "id": "45e2f923",
   "metadata": {},
   "outputs": [
    {
     "data": {
      "text/plain": [
       "29500.0"
      ]
     },
     "execution_count": 9,
     "metadata": {},
     "output_type": "execute_result"
    }
   ],
   "source": [
    "Salaries_modified.median()"
   ]
  },
  {
   "cell_type": "code",
   "execution_count": 10,
   "id": "10a0d9ea",
   "metadata": {},
   "outputs": [
    {
     "data": {
      "text/plain": [
       "0    25000\n",
       "dtype: int64"
      ]
     },
     "execution_count": 10,
     "metadata": {},
     "output_type": "execute_result"
    }
   ],
   "source": [
    "Salaries_modified.mode()"
   ]
  },
  {
   "cell_type": "markdown",
   "id": "207dbe74",
   "metadata": {},
   "source": [
    "#### Case 2:"
   ]
  },
  {
   "cell_type": "code",
   "execution_count": 11,
   "id": "d2fc0df4",
   "metadata": {},
   "outputs": [
    {
     "name": "stderr",
     "output_type": "stream",
     "text": [
      "C:\\Users\\SHUBHAM\\AppData\\Local\\Temp\\ipykernel_8484\\56769903.py:1: FutureWarning: The series.append method is deprecated and will be removed from pandas in a future version. Use pandas.concat instead.\n",
      "  Salaries_modified1=Salaries.append(pd.Series(1000))\n"
     ]
    },
    {
     "data": {
      "text/plain": [
       "0    25000\n",
       "1    25000\n",
       "2    27000\n",
       "3    32000\n",
       "4    34500\n",
       "0     1000\n",
       "dtype: int64"
      ]
     },
     "execution_count": 11,
     "metadata": {},
     "output_type": "execute_result"
    }
   ],
   "source": [
    "Salaries_modified1=Salaries.append(pd.Series(1000))\n",
    "Salaries_modified1"
   ]
  },
  {
   "cell_type": "code",
   "execution_count": 12,
   "id": "efe01915",
   "metadata": {},
   "outputs": [
    {
     "data": {
      "text/plain": [
       "24083.333333333332"
      ]
     },
     "execution_count": 12,
     "metadata": {},
     "output_type": "execute_result"
    }
   ],
   "source": [
    "Salaries_modified1.mean()"
   ]
  },
  {
   "cell_type": "code",
   "execution_count": 13,
   "id": "3f3734ec",
   "metadata": {},
   "outputs": [
    {
     "data": {
      "text/plain": [
       "26000.0"
      ]
     },
     "execution_count": 13,
     "metadata": {},
     "output_type": "execute_result"
    }
   ],
   "source": [
    "Salaries_modified1.median()"
   ]
  },
  {
   "cell_type": "code",
   "execution_count": 14,
   "id": "88a7a0e9",
   "metadata": {},
   "outputs": [
    {
     "data": {
      "text/plain": [
       "0    25000\n",
       "dtype: int64"
      ]
     },
     "execution_count": 14,
     "metadata": {},
     "output_type": "execute_result"
    }
   ],
   "source": [
    "Salaries_modified1.mode()"
   ]
  },
  {
   "cell_type": "markdown",
   "id": "6afab070",
   "metadata": {},
   "source": [
    "### Computing the variance,standard deviation and IQR"
   ]
  },
  {
   "cell_type": "code",
   "execution_count": 15,
   "id": "b01a22e4",
   "metadata": {},
   "outputs": [
    {
     "data": {
      "text/plain": [
       "18700000.0"
      ]
     },
     "execution_count": 15,
     "metadata": {},
     "output_type": "execute_result"
    }
   ],
   "source": [
    "Salaries.var()"
   ]
  },
  {
   "cell_type": "code",
   "execution_count": 16,
   "id": "915d90b6",
   "metadata": {},
   "outputs": [
    {
     "data": {
      "text/plain": [
       "4324.3496620879305"
      ]
     },
     "execution_count": 16,
     "metadata": {},
     "output_type": "execute_result"
    }
   ],
   "source": [
    "Salaries.std()"
   ]
  },
  {
   "cell_type": "code",
   "execution_count": 17,
   "id": "c6bd3866",
   "metadata": {},
   "outputs": [
    {
     "data": {
      "text/plain": [
       "4324.3496620879305"
      ]
     },
     "execution_count": 17,
     "metadata": {},
     "output_type": "execute_result"
    }
   ],
   "source": [
    "np.sqrt(Salaries.var())#To check std by using another inbuilt method"
   ]
  },
  {
   "cell_type": "code",
   "execution_count": 18,
   "id": "147a756e",
   "metadata": {},
   "outputs": [
    {
     "data": {
      "text/plain": [
       "27000.0"
      ]
     },
     "execution_count": 18,
     "metadata": {},
     "output_type": "execute_result"
    }
   ],
   "source": [
    "Salaries.quantile(0.5)"
   ]
  },
  {
   "cell_type": "code",
   "execution_count": 19,
   "id": "2468c81e",
   "metadata": {},
   "outputs": [
    {
     "data": {
      "text/plain": [
       "25000.0"
      ]
     },
     "execution_count": 19,
     "metadata": {},
     "output_type": "execute_result"
    }
   ],
   "source": [
    "Salaries.quantile(0.25)"
   ]
  },
  {
   "cell_type": "code",
   "execution_count": 20,
   "id": "f693e1a5",
   "metadata": {},
   "outputs": [
    {
     "data": {
      "text/plain": [
       "32000.0"
      ]
     },
     "execution_count": 20,
     "metadata": {},
     "output_type": "execute_result"
    }
   ],
   "source": [
    "Salaries.quantile(0.75)"
   ]
  },
  {
   "cell_type": "code",
   "execution_count": 21,
   "id": "e935d7e8",
   "metadata": {},
   "outputs": [
    {
     "data": {
      "text/plain": [
       "7000.0"
      ]
     },
     "execution_count": 21,
     "metadata": {},
     "output_type": "execute_result"
    }
   ],
   "source": [
    "IQR=Salaries.quantile(0.75)-Salaries.quantile(0.25)\n",
    "IQR"
   ]
  },
  {
   "cell_type": "code",
   "execution_count": null,
   "id": "735262c2",
   "metadata": {},
   "outputs": [],
   "source": []
  }
 ],
 "metadata": {
  "kernelspec": {
   "display_name": "Python 3 (ipykernel)",
   "language": "python",
   "name": "python3"
  },
  "language_info": {
   "codemirror_mode": {
    "name": "ipython",
    "version": 3
   },
   "file_extension": ".py",
   "mimetype": "text/x-python",
   "name": "python",
   "nbconvert_exporter": "python",
   "pygments_lexer": "ipython3",
   "version": "3.9.13"
  }
 },
 "nbformat": 4,
 "nbformat_minor": 5
}
