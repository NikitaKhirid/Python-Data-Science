{
 "cells": [
  {
   "cell_type": "markdown",
   "id": "5f396e67",
   "metadata": {},
   "source": [
    "# String"
   ]
  },
  {
   "cell_type": "markdown",
   "id": "defb6a06",
   "metadata": {},
   "source": [
    "Collection of alphabets or any thing in single qoates'' or double qoutes\"\""
   ]
  },
  {
   "cell_type": "code",
   "execution_count": 1,
   "id": "be95aa8d",
   "metadata": {},
   "outputs": [
    {
     "data": {
      "text/plain": [
       "'Nikita Khirid'"
      ]
     },
     "execution_count": 1,
     "metadata": {},
     "output_type": "execute_result"
    }
   ],
   "source": [
    "# Creating string \n",
    "\"Nikita Khirid\"# string can be write in single qoutes'' or double qoutes\"\""
   ]
  },
  {
   "cell_type": "code",
   "execution_count": 2,
   "id": "f3c58fb1",
   "metadata": {},
   "outputs": [
    {
     "data": {
      "text/plain": [
       "' A B C D E'"
      ]
     },
     "execution_count": 2,
     "metadata": {},
     "output_type": "execute_result"
    }
   ],
   "source": [
    "#Digit and space is string\n",
    "\" A B C D E\""
   ]
  },
  {
   "cell_type": "code",
   "execution_count": 3,
   "id": "06435a86",
   "metadata": {},
   "outputs": [
    {
     "data": {
      "text/plain": [
       "'@ & ab'"
      ]
     },
     "execution_count": 3,
     "metadata": {},
     "output_type": "execute_result"
    }
   ],
   "source": [
    "# Special characters is also string\n",
    "\"@ & ab\""
   ]
  },
  {
   "cell_type": "code",
   "execution_count": 4,
   "id": "8abb7ffb",
   "metadata": {},
   "outputs": [
    {
     "name": "stdout",
     "output_type": "stream",
     "text": [
      "Nikita\n"
     ]
    }
   ],
   "source": [
    "#Print the string\n",
    "print(\"Nikita\")"
   ]
  },
  {
   "cell_type": "code",
   "execution_count": 5,
   "id": "7c245f90",
   "metadata": {},
   "outputs": [
    {
     "data": {
      "text/plain": [
       "str"
      ]
     },
     "execution_count": 5,
     "metadata": {},
     "output_type": "execute_result"
    }
   ],
   "source": [
    "#To find the data type\n",
    "type(\"Nikita\")"
   ]
  },
  {
   "cell_type": "code",
   "execution_count": 6,
   "id": "da5d2d8f",
   "metadata": {},
   "outputs": [
    {
     "data": {
      "text/plain": [
       "'Nikita Khirid'"
      ]
     },
     "execution_count": 6,
     "metadata": {},
     "output_type": "execute_result"
    }
   ],
   "source": [
    "#Assign string in variable\n",
    "Name=\"Nikita Khirid\"\n",
    "Name"
   ]
  },
  {
   "cell_type": "markdown",
   "id": "a9df2899",
   "metadata": {},
   "source": [
    "## Indexing"
   ]
  },
  {
   "cell_type": "markdown",
   "id": "59182164",
   "metadata": {},
   "source": [
    "Each element can be obtained by the name of data type followed by square braket [ ] with the index number.To extracting single element any data type we use Indexing.We can used positive index as well as negative indexing.Positive indexing starts with 0 from 1st element to last nth element of any data type.Negative indexing starts with -1 from last element of any data type to 1st element -nth element.In string space have also consider the index number."
   ]
  },
  {
   "cell_type": "code",
   "execution_count": 7,
   "id": "34df9c8c",
   "metadata": {},
   "outputs": [
    {
     "data": {
      "text/plain": [
       "'Nikita Khirid'"
      ]
     },
     "execution_count": 7,
     "metadata": {},
     "output_type": "execute_result"
    }
   ],
   "source": [
    "Name"
   ]
  },
  {
   "cell_type": "code",
   "execution_count": 8,
   "id": "0293892e",
   "metadata": {},
   "outputs": [
    {
     "name": "stdout",
     "output_type": "stream",
     "text": [
      "N\n",
      "i\n",
      "k\n",
      "i\n",
      "t\n",
      "a\n",
      " \n",
      "K\n",
      "h\n",
      "i\n",
      "r\n",
      "i\n",
      "d\n"
     ]
    }
   ],
   "source": [
    "print(Name[0])\n",
    "print(Name[1])\n",
    "print(Name[2])\n",
    "print(Name[3])\n",
    "print(Name[4])\n",
    "print(Name[5])\n",
    "print(Name[6])\n",
    "print(Name[7])\n",
    "print(Name[8])\n",
    "print(Name[9])\n",
    "print(Name[10])\n",
    "print(Name[11])\n",
    "print(Name[12])"
   ]
  },
  {
   "cell_type": "code",
   "execution_count": 9,
   "id": "a1255b0d",
   "metadata": {},
   "outputs": [
    {
     "name": "stdout",
     "output_type": "stream",
     "text": [
      "d\n",
      "i\n",
      "i\n"
     ]
    }
   ],
   "source": [
    "print(Name[-1])\n",
    "print(Name[-4])\n",
    "print(Name[-10])"
   ]
  },
  {
   "cell_type": "markdown",
   "id": "fbc78dbe",
   "metadata": {},
   "source": [
    "## Length"
   ]
  },
  {
   "cell_type": "markdown",
   "id": "86d81189",
   "metadata": {},
   "source": [
    "We can obtain the length of any data type by using length command.i.e len(variable name)"
   ]
  },
  {
   "cell_type": "code",
   "execution_count": 10,
   "id": "2c799a63",
   "metadata": {},
   "outputs": [
    {
     "data": {
      "text/plain": [
       "13"
      ]
     },
     "execution_count": 10,
     "metadata": {},
     "output_type": "execute_result"
    }
   ],
   "source": [
    "len(Name) #13 charaters along with space"
   ]
  },
  {
   "cell_type": "markdown",
   "id": "7a45c81a",
   "metadata": {},
   "source": [
    "## Silicing"
   ]
  },
  {
   "cell_type": "markdown",
   "id": "873d660e",
   "metadata": {},
   "source": [
    "To extracting more than single element of any data type we use Silicing. It always give us from which element(suppose 0) to what we want (suppose3)then we write variable name[0:4] i.e.(n-1)th element in output."
   ]
  },
  {
   "cell_type": "code",
   "execution_count": 11,
   "id": "3583c82a",
   "metadata": {},
   "outputs": [
    {
     "data": {
      "text/plain": [
       "'Nikita Khirid'"
      ]
     },
     "execution_count": 11,
     "metadata": {},
     "output_type": "execute_result"
    }
   ],
   "source": [
    "Name"
   ]
  },
  {
   "cell_type": "code",
   "execution_count": 12,
   "id": "4f5560c7",
   "metadata": {},
   "outputs": [
    {
     "data": {
      "text/plain": [
       "'Niki'"
      ]
     },
     "execution_count": 12,
     "metadata": {},
     "output_type": "execute_result"
    }
   ],
   "source": [
    "Name[0:4]"
   ]
  },
  {
   "cell_type": "code",
   "execution_count": 13,
   "id": "52f9ee0d",
   "metadata": {},
   "outputs": [
    {
     "data": {
      "text/plain": [
       "'kita K'"
      ]
     },
     "execution_count": 13,
     "metadata": {},
     "output_type": "execute_result"
    }
   ],
   "source": [
    "Name[2:8]"
   ]
  },
  {
   "cell_type": "code",
   "execution_count": 14,
   "id": "69296319",
   "metadata": {},
   "outputs": [
    {
     "data": {
      "text/plain": [
       "'Nikita Khirid'"
      ]
     },
     "execution_count": 14,
     "metadata": {},
     "output_type": "execute_result"
    }
   ],
   "source": [
    "Name[:]"
   ]
  },
  {
   "cell_type": "markdown",
   "id": "7f5e2204",
   "metadata": {},
   "source": [
    "## Stride / Step Function"
   ]
  },
  {
   "cell_type": "markdown",
   "id": "011cdec9",
   "metadata": {},
   "source": [
    "It means that after certain interval of another element it given in output.It is given by variable name[ from where :to what :number of interval] but it is (n-1)"
   ]
  },
  {
   "cell_type": "code",
   "execution_count": 15,
   "id": "60cf013e",
   "metadata": {},
   "outputs": [
    {
     "data": {
      "text/plain": [
       "'Nikita Khirid'"
      ]
     },
     "execution_count": 15,
     "metadata": {},
     "output_type": "execute_result"
    }
   ],
   "source": [
    "Name"
   ]
  },
  {
   "cell_type": "code",
   "execution_count": 16,
   "id": "422f6cc6",
   "metadata": {},
   "outputs": [
    {
     "data": {
      "text/plain": [
       "'Nkt hrd'"
      ]
     },
     "execution_count": 16,
     "metadata": {},
     "output_type": "execute_result"
    }
   ],
   "source": [
    "#Get every 2nd element.The element on index 1,3,5,....   It is applicable for the whole string\n",
    "Name[::2]"
   ]
  },
  {
   "cell_type": "markdown",
   "id": "b03ceedf",
   "metadata": {},
   "source": [
    "We can also incorporate the stride. In case ,we select first elements then use stride."
   ]
  },
  {
   "cell_type": "code",
   "execution_count": 17,
   "id": "b6fd31dd",
   "metadata": {},
   "outputs": [
    {
     "data": {
      "text/plain": [
       "'Ni i'"
      ]
     },
     "execution_count": 17,
     "metadata": {},
     "output_type": "execute_result"
    }
   ],
   "source": [
    "Name[0:10:3]# index is 0 to 10(10-1=9) and select stride 3(3-1=2).  It is applicable for the we want the element"
   ]
  },
  {
   "cell_type": "code",
   "execution_count": 18,
   "id": "3f2a4424",
   "metadata": {},
   "outputs": [
    {
     "data": {
      "text/plain": [
       "'iiaKii'"
      ]
     },
     "execution_count": 18,
     "metadata": {},
     "output_type": "execute_result"
    }
   ],
   "source": [
    "Name[1:12:2] # 2 is called step function it is always (n-1)."
   ]
  },
  {
   "cell_type": "code",
   "execution_count": 19,
   "id": "69694125",
   "metadata": {},
   "outputs": [],
   "source": [
    "ankita=(1,2,\"nikita\",2.5,'shubham')"
   ]
  },
  {
   "cell_type": "code",
   "execution_count": 20,
   "id": "c586ea78",
   "metadata": {},
   "outputs": [
    {
     "data": {
      "text/plain": [
       "(2, 'shubham')"
      ]
     },
     "execution_count": 20,
     "metadata": {},
     "output_type": "execute_result"
    }
   ],
   "source": [
    "ankita[1:6:3]"
   ]
  },
  {
   "cell_type": "markdown",
   "id": "562cd1ba",
   "metadata": {},
   "source": [
    "## Concatenate"
   ]
  },
  {
   "cell_type": "markdown",
   "id": "d1fdbce7",
   "metadata": {},
   "source": [
    "we can concatenate the any data type by using  + sign."
   ]
  },
  {
   "cell_type": "code",
   "execution_count": 21,
   "id": "814c8a15",
   "metadata": {},
   "outputs": [
    {
     "data": {
      "text/plain": [
       "'Nikita Khirid is the best.'"
      ]
     },
     "execution_count": 21,
     "metadata": {},
     "output_type": "execute_result"
    }
   ],
   "source": [
    "concatenate_string=Name + \" is the best.\"\n",
    "concatenate_string"
   ]
  },
  {
   "cell_type": "markdown",
   "id": "61d5f2c8",
   "metadata": {},
   "source": [
    "To replicate values of a string we simply multiple the string by the number of times we would like to replicate it."
   ]
  },
  {
   "cell_type": "code",
   "execution_count": 22,
   "id": "c025ae71",
   "metadata": {},
   "outputs": [
    {
     "data": {
      "text/plain": [
       "'Nikita KhiridNikita KhiridNikita Khirid'"
      ]
     },
     "execution_count": 22,
     "metadata": {},
     "output_type": "execute_result"
    }
   ],
   "source": [
    "#Print the result 3 times\n",
    "3 *  Name"
   ]
  },
  {
   "cell_type": "code",
   "execution_count": 23,
   "id": "2b987c61",
   "metadata": {},
   "outputs": [
    {
     "data": {
      "text/plain": [
       "' new new new'"
      ]
     },
     "execution_count": 23,
     "metadata": {},
     "output_type": "execute_result"
    }
   ],
   "source": [
    "new=Name[::3]\n",
    "new\n",
    "3 * ' new'"
   ]
  },
  {
   "cell_type": "markdown",
   "id": "0d3f13af",
   "metadata": {},
   "source": [
    "## Escape Sequences"
   ]
  },
  {
   "cell_type": "markdown",
   "id": "87e125ea",
   "metadata": {},
   "source": [
    "Back slashes represent the beginning of escape sequences. Escape sequence represent strings that may be difficult to input. "
   ]
  },
  {
   "cell_type": "code",
   "execution_count": 24,
   "id": "7bcb2d93",
   "metadata": {},
   "outputs": [
    {
     "ename": "SyntaxError",
     "evalue": "invalid syntax (861446937.py, line 2)",
     "output_type": "error",
     "traceback": [
      "\u001b[1;36m  File \u001b[1;32m\"C:\\Users\\SHUBHAM\\AppData\\Local\\Temp\\ipykernel_4120\\861446937.py\"\u001b[1;36m, line \u001b[1;32m2\u001b[0m\n\u001b[1;33m    print(\"Nikita khirid is the best and \"Ankita\" is her sister\")\u001b[0m\n\u001b[1;37m                                          ^\u001b[0m\n\u001b[1;31mSyntaxError\u001b[0m\u001b[1;31m:\u001b[0m invalid syntax\n"
     ]
    }
   ],
   "source": [
    "#We dont write in print(\"     \")inside (\"   \" \"  \")\n",
    "print(\"Nikita khirid is the best and \"Ankita\" is her sister\")\n",
    "\n",
    "\n",
    "#Similary for (' ') inside ('   ' '  ')\n",
    "print('Nikita khirid is the best and 'Ankita' is her sister')\n"
   ]
  },
  {
   "cell_type": "code",
   "execution_count": 25,
   "id": "093b443d",
   "metadata": {},
   "outputs": [
    {
     "name": "stdout",
     "output_type": "stream",
     "text": [
      "Nikita khirid is the best and \"Ankita\" is her sister\n",
      "Nikita khirid is the best and 'Ankita' is her sister\n"
     ]
    }
   ],
   "source": [
    "#To overcome the above situation we write like this (\"   \\\"   \\\"  \")\n",
    "print(\"Nikita khirid is the best and \\\"Ankita\\\" is her sister\")\n",
    "\n",
    "#Similary for ('  ')also\n",
    "print('Nikita khirid is the best and \\'Ankita\\' is her sister')"
   ]
  },
  {
   "cell_type": "code",
   "execution_count": 26,
   "id": "27dbb5e0",
   "metadata": {},
   "outputs": [
    {
     "name": "stdout",
     "output_type": "stream",
     "text": [
      "Nikita khirid \n",
      " is the best.\n"
     ]
    }
   ],
   "source": [
    "#New line escape sequence\n",
    "print(\"Nikita khirid \\n is the best.\")"
   ]
  },
  {
   "cell_type": "code",
   "execution_count": 27,
   "id": "b744b668",
   "metadata": {},
   "outputs": [
    {
     "name": "stdout",
     "output_type": "stream",
     "text": [
      "Nikita khirid \t is the best.\n"
     ]
    }
   ],
   "source": [
    "#Tab escape sequence i.e space in same line\n",
    "print(\"Nikita khirid \\t is the best.\")"
   ]
  },
  {
   "cell_type": "code",
   "execution_count": 28,
   "id": "61f748ed",
   "metadata": {},
   "outputs": [
    {
     "name": "stdout",
     "output_type": "stream",
     "text": [
      "Nikita khirid \\ is the best.\n"
     ]
    }
   ],
   "source": [
    "#Include back slash in string\n",
    "print(\"Nikita khirid \\ is the best.\")"
   ]
  },
  {
   "cell_type": "markdown",
   "id": "d7a5bc2f",
   "metadata": {},
   "source": [
    "## String Operations"
   ]
  },
  {
   "cell_type": "code",
   "execution_count": 29,
   "id": "ccbcde8d",
   "metadata": {},
   "outputs": [
    {
     "name": "stdout",
     "output_type": "stream",
     "text": [
      "Before upper :  Nikita khirid is the best.\n",
      "After upper :NIKITA KHIRID IS THE BEST.\n"
     ]
    }
   ],
   "source": [
    "# Convert all the characters in string to upper case\n",
    "A=\"Nikita khirid is the best.\"\n",
    "print(\"Before upper : \" , A)\n",
    "B=A.upper()                  # The method converts lower case character to upper case character.\n",
    "print(\"After upper :\" + B)"
   ]
  },
  {
   "cell_type": "code",
   "execution_count": 30,
   "id": "c34dc9b3",
   "metadata": {},
   "outputs": [
    {
     "name": "stdout",
     "output_type": "stream",
     "text": [
      "Before lower : NIKITA KHIRID IS THE BEST.\n",
      "After lower :nikita khirid is the best.\n"
     ]
    }
   ],
   "source": [
    "# Convert all the characters in string to lower case\n",
    "A=\"NIKITA KHIRID IS THE BEST.\"\n",
    "print(\"Before lower : \" + A)\n",
    "B=A.lower()                  # The method converts upper case character to lower case character.\n",
    "print(\"After lower :\" + B)"
   ]
  },
  {
   "cell_type": "code",
   "execution_count": 31,
   "id": "4b66d57a",
   "metadata": {},
   "outputs": [
    {
     "data": {
      "text/plain": [
       "'Ankita khirid is the best.'"
      ]
     },
     "execution_count": 31,
     "metadata": {},
     "output_type": "execute_result"
    }
   ],
   "source": [
    "#Replace the old substring with the new target is the segment has been found in the string\n",
    "A=\"Nikita khirid is the best.\"\n",
    "B=A.replace(\"Nikita\", \"Ankita\")\n",
    "B"
   ]
  },
  {
   "cell_type": "code",
   "execution_count": 32,
   "id": "46adb20b",
   "metadata": {},
   "outputs": [
    {
     "data": {
      "text/plain": [
       "1"
      ]
     },
     "execution_count": 32,
     "metadata": {},
     "output_type": "execute_result"
    }
   ],
   "source": [
    "#Find the substring location in the string only the index of first element of substring in string will be in the output.\n",
    "Name=\"Nikita Khirid\"\n",
    "Name.find('i')"
   ]
  },
  {
   "cell_type": "code",
   "execution_count": 33,
   "id": "7ab95990",
   "metadata": {},
   "outputs": [
    {
     "data": {
      "text/plain": [
       "9"
      ]
     },
     "execution_count": 33,
     "metadata": {},
     "output_type": "execute_result"
    }
   ],
   "source": [
    "Name.find('ir')# letters are double then specified the substring properly."
   ]
  },
  {
   "cell_type": "code",
   "execution_count": 34,
   "id": "1a8f3636",
   "metadata": {},
   "outputs": [
    {
     "data": {
      "text/plain": [
       "7"
      ]
     },
     "execution_count": 34,
     "metadata": {},
     "output_type": "execute_result"
    }
   ],
   "source": [
    "Name.find('Khi')"
   ]
  },
  {
   "cell_type": "code",
   "execution_count": 35,
   "id": "a26e859d",
   "metadata": {},
   "outputs": [
    {
     "data": {
      "text/plain": [
       "-1"
      ]
     },
     "execution_count": 35,
     "metadata": {},
     "output_type": "execute_result"
    }
   ],
   "source": [
    "Name.find('ab') # if mention substring is not in string then it always give as -1"
   ]
  },
  {
   "cell_type": "code",
   "execution_count": 36,
   "id": "6a689e99",
   "metadata": {},
   "outputs": [
    {
     "data": {
      "text/plain": [
       "4"
      ]
     },
     "execution_count": 36,
     "metadata": {},
     "output_type": "execute_result"
    }
   ],
   "source": [
    "# To find occrance of the elements in the string use count function\n",
    "Name.count('i')"
   ]
  },
  {
   "cell_type": "code",
   "execution_count": 37,
   "id": "5f59099c",
   "metadata": {},
   "outputs": [
    {
     "data": {
      "text/plain": [
       "['Nikita', 'Khirid']"
      ]
     },
     "execution_count": 37,
     "metadata": {},
     "output_type": "execute_result"
    }
   ],
   "source": [
    "#split(seperated) the string,defoult is by space\n",
    "\"Nikita Khirid\".split() # we dont mention the seperated by what then by defoult split by space"
   ]
  },
  {
   "cell_type": "code",
   "execution_count": 38,
   "id": "12c8e0dc",
   "metadata": {},
   "outputs": [
    {
     "name": "stdout",
     "output_type": "stream",
     "text": [
      "Nikita khirid is the best.\n"
     ]
    },
    {
     "data": {
      "text/plain": [
       "['Nikita', 'khirid', 'is', 'the', 'best.']"
      ]
     },
     "execution_count": 38,
     "metadata": {},
     "output_type": "execute_result"
    }
   ],
   "source": [
    "print(A)\n",
    "A.split()"
   ]
  },
  {
   "cell_type": "code",
   "execution_count": 39,
   "id": "a6175bf7",
   "metadata": {},
   "outputs": [
    {
     "data": {
      "text/plain": [
       "7"
      ]
     },
     "execution_count": 39,
     "metadata": {},
     "output_type": "execute_result"
    }
   ],
   "source": [
    "A.index('kh')"
   ]
  },
  {
   "cell_type": "code",
   "execution_count": 40,
   "id": "18aecf54",
   "metadata": {},
   "outputs": [
    {
     "data": {
      "text/plain": [
       "5"
      ]
     },
     "execution_count": 40,
     "metadata": {},
     "output_type": "execute_result"
    }
   ],
   "source": [
    "A.count(\"i\")"
   ]
  }
 ],
 "metadata": {
  "kernelspec": {
   "display_name": "Python 3 (ipykernel)",
   "language": "python",
   "name": "python3"
  },
  "language_info": {
   "codemirror_mode": {
    "name": "ipython",
    "version": 3
   },
   "file_extension": ".py",
   "mimetype": "text/x-python",
   "name": "python",
   "nbconvert_exporter": "python",
   "pygments_lexer": "ipython3",
   "version": "3.9.13"
  }
 },
 "nbformat": 4,
 "nbformat_minor": 5
}
