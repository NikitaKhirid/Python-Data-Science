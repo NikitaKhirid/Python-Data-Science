{
 "cells": [
  {
   "cell_type": "markdown",
   "id": "61db6776",
   "metadata": {},
   "source": [
    "# Sets"
   ]
  },
  {
   "cell_type": "code",
   "execution_count": 1,
   "id": "fc14ec59",
   "metadata": {},
   "outputs": [],
   "source": [
    "#Store multiple items in single variable\n",
    "#Not allow duplicates\n",
    "#We initial sets by { } brackets\n",
    "#Set is an unorderd collection unique of elements \n",
    "#We dont use indexing  is set data type bcoz it is unorder or random\n",
    "#It is mutable(changeable)"
   ]
  },
  {
   "cell_type": "code",
   "execution_count": 2,
   "id": "289e2029",
   "metadata": {},
   "outputs": [
    {
     "data": {
      "text/plain": [
       "{1, 2, 8.0, 'ankita', 'nikita'}"
      ]
     },
     "execution_count": 2,
     "metadata": {},
     "output_type": "execute_result"
    }
   ],
   "source": [
    "#Create a set\n",
    "set={1,2,\"nikita\",\"ankita\",2 ,8.0,2}\n",
    "set"
   ]
  },
  {
   "cell_type": "code",
   "execution_count": 1,
   "id": "1660b709",
   "metadata": {},
   "outputs": [
    {
     "data": {
      "text/plain": [
       "{12, 34.8, 'ankita', 'nikita', 'shubham'}"
      ]
     },
     "execution_count": 1,
     "metadata": {},
     "output_type": "execute_result"
    }
   ],
   "source": [
    "#Convert list to sets\n",
    "nikita_set = set ([\"nikita\",\"ankita\",12,34.8,'shubham',34.8,\"nikita\"])\n",
    "nikita_set"
   ]
  },
  {
   "cell_type": "code",
   "execution_count": 2,
   "id": "b6094b82",
   "metadata": {},
   "outputs": [
    {
     "name": "stdout",
     "output_type": "stream",
     "text": [
      "<class 'set'>\n"
     ]
    }
   ],
   "source": [
    "print(type(nikita_set))"
   ]
  },
  {
   "cell_type": "markdown",
   "id": "184be1ed",
   "metadata": {},
   "source": [
    "## Sets Operations"
   ]
  },
  {
   "cell_type": "code",
   "execution_count": 3,
   "id": "f14f4382",
   "metadata": {},
   "outputs": [
    {
     "data": {
      "text/plain": [
       "{'R&B',\n",
       " 'disco',\n",
       " 'folk rock',\n",
       " 'hard rock',\n",
       " 'pop',\n",
       " 'progressive rock',\n",
       " 'rock',\n",
       " 'soft drink',\n",
       " 'soul'}"
      ]
     },
     "execution_count": 3,
     "metadata": {},
     "output_type": "execute_result"
    }
   ],
   "source": [
    "music_geners=set ([\"pop\",\"pop\",\"rock\",\"folk rock\",\"hard rock\",\"soul\",\\\n",
    "                 \"progressive rock\",\"soft drink\",\"R&B\",\"disco\"])\n",
    "music_geners"
   ]
  },
  {
   "cell_type": "code",
   "execution_count": 4,
   "id": "54f4416c",
   "metadata": {},
   "outputs": [
    {
     "data": {
      "text/plain": [
       "9"
      ]
     },
     "execution_count": 4,
     "metadata": {},
     "output_type": "execute_result"
    }
   ],
   "source": [
    "len(music_geners)#to count the elements in sets"
   ]
  },
  {
   "cell_type": "markdown",
   "id": "682e9059",
   "metadata": {},
   "source": [
    "## Set Operations"
   ]
  },
  {
   "cell_type": "code",
   "execution_count": 5,
   "id": "733bf1a0",
   "metadata": {},
   "outputs": [
    {
     "data": {
      "text/plain": [
       "{'AC/DC', 'ankita', 'nikits', 'shubham'}"
      ]
     },
     "execution_count": 5,
     "metadata": {},
     "output_type": "execute_result"
    }
   ],
   "source": [
    "A={\"nikits\",\"ankita\",\"shubham\",\"AC/DC\"}\n",
    "A"
   ]
  },
  {
   "cell_type": "code",
   "execution_count": 6,
   "id": "ed987346",
   "metadata": {},
   "outputs": [
    {
     "data": {
      "text/plain": [
       "{'AC/DC', 'ankita', 'kishori', 'nikits', 'shubham'}"
      ]
     },
     "execution_count": 6,
     "metadata": {},
     "output_type": "execute_result"
    }
   ],
   "source": [
    "#To add the element in sets\n",
    "A.add(\"kishori\")\n",
    "A"
   ]
  },
  {
   "cell_type": "code",
   "execution_count": 7,
   "id": "7b73fdff",
   "metadata": {},
   "outputs": [
    {
     "data": {
      "text/plain": [
       "{'AC/DC', 'ankita', 'kishori', 'nikits', 'shubham'}"
      ]
     },
     "execution_count": 7,
     "metadata": {},
     "output_type": "execute_result"
    }
   ],
   "source": [
    "#Try to add duplicate element to the set\n",
    "A.add(\"ankita\")# no change in set bcoz it is already in set.therefore it is unchange bcoz it dont allow the duplicates. \n",
    "A"
   ]
  },
  {
   "cell_type": "code",
   "execution_count": 8,
   "id": "6cabfb95",
   "metadata": {},
   "outputs": [
    {
     "data": {
      "text/plain": [
       "{'AC/DC', 'ankita', 'nikits', 'shubham'}"
      ]
     },
     "execution_count": 8,
     "metadata": {},
     "output_type": "execute_result"
    }
   ],
   "source": [
    "#To remove the element from set\n",
    "A.remove('kishori')\n",
    "A"
   ]
  },
  {
   "cell_type": "code",
   "execution_count": 9,
   "id": "cbded8cc",
   "metadata": {},
   "outputs": [
    {
     "data": {
      "text/plain": [
       "{'AC/DC', 'ankita', 'shubham'}"
      ]
     },
     "execution_count": 9,
     "metadata": {},
     "output_type": "execute_result"
    }
   ],
   "source": [
    "A.discard('nikits')\n",
    "A"
   ]
  },
  {
   "cell_type": "code",
   "execution_count": 10,
   "id": "f22fc4f1",
   "metadata": {},
   "outputs": [
    {
     "data": {
      "text/plain": [
       "{'AC/DC', 'shubham'}"
      ]
     },
     "execution_count": 10,
     "metadata": {},
     "output_type": "execute_result"
    }
   ],
   "source": [
    "A.pop()\n",
    "A"
   ]
  },
  {
   "cell_type": "code",
   "execution_count": 11,
   "id": "3c369914",
   "metadata": {},
   "outputs": [
    {
     "data": {
      "text/plain": [
       "False"
      ]
     },
     "execution_count": 11,
     "metadata": {},
     "output_type": "execute_result"
    }
   ],
   "source": [
    "#Verify if it element in the set,it result in boolen.\n",
    "'nikits' in A"
   ]
  },
  {
   "cell_type": "markdown",
   "id": "f7d2a4b5",
   "metadata": {},
   "source": [
    "## Sets logic operation"
   ]
  },
  {
   "cell_type": "code",
   "execution_count": 12,
   "id": "1a79dfef",
   "metadata": {},
   "outputs": [
    {
     "name": "stdout",
     "output_type": "stream",
     "text": [
      "{'AC/DC', 'thriller', 'back is black'}\n",
      "{'AC/DC', 'the dark side of the moon', 'back is black'}\n"
     ]
    }
   ],
   "source": [
    "#Create a sets\n",
    "album_set1={\"thriller\",\"AC/DC\",\"back is black\"}\n",
    "album_set2={\"AC/DC\",\"back is black\",\"the dark side of the moon\"}\n",
    "print(album_set1)\n",
    "print(album_set2)"
   ]
  },
  {
   "cell_type": "code",
   "execution_count": 13,
   "id": "3b21172c",
   "metadata": {},
   "outputs": [
    {
     "data": {
      "text/plain": [
       "{'AC/DC', 'back is black'}"
      ]
     },
     "execution_count": 13,
     "metadata": {},
     "output_type": "execute_result"
    }
   ],
   "source": [
    "#Find the intersection(common element from the set)use & /intersection\n",
    "intersection=album_set1&album_set2\n",
    "intersection"
   ]
  },
  {
   "cell_type": "code",
   "execution_count": 14,
   "id": "126dcbe6",
   "metadata": {},
   "outputs": [
    {
     "data": {
      "text/plain": [
       "{'AC/DC', 'back is black'}"
      ]
     },
     "execution_count": 14,
     "metadata": {},
     "output_type": "execute_result"
    }
   ],
   "source": [
    "intersection1=album_set2.intersection(album_set1)\n",
    "intersection1"
   ]
  },
  {
   "cell_type": "code",
   "execution_count": 15,
   "id": "8d112d72",
   "metadata": {},
   "outputs": [
    {
     "name": "stdout",
     "output_type": "stream",
     "text": [
      "{'thriller'}\n",
      "{'the dark side of the moon'}\n"
     ]
    }
   ],
   "source": [
    "#Find the difference between set1 but not set2\n",
    "difference=album_set1.difference(album_set2)\n",
    "print(difference)\n",
    "difference1=album_set2.difference(album_set1)\n",
    "print(difference1)"
   ]
  },
  {
   "cell_type": "code",
   "execution_count": 16,
   "id": "bc856078",
   "metadata": {},
   "outputs": [
    {
     "data": {
      "text/plain": [
       "{'AC/DC', 'back is black', 'the dark side of the moon', 'thriller'}"
      ]
     },
     "execution_count": 16,
     "metadata": {},
     "output_type": "execute_result"
    }
   ],
   "source": [
    "#Find the union of sets\n",
    "union=album_set1.union(album_set2)\n",
    "union"
   ]
  },
  {
   "cell_type": "code",
   "execution_count": 17,
   "id": "dc0c9ac4",
   "metadata": {},
   "outputs": [
    {
     "data": {
      "text/plain": [
       "False"
      ]
     },
     "execution_count": 17,
     "metadata": {},
     "output_type": "execute_result"
    }
   ],
   "source": [
    "#Check if superset(main set is superset)\n",
    "(album_set1).issuperset(album_set2) #bcoz all elements is set1 is not present in set2"
   ]
  },
  {
   "cell_type": "code",
   "execution_count": 18,
   "id": "4df2055a",
   "metadata": {},
   "outputs": [
    {
     "data": {
      "text/plain": [
       "False"
      ]
     },
     "execution_count": 18,
     "metadata": {},
     "output_type": "execute_result"
    }
   ],
   "source": [
    "#Check if subset (small part of main set)\n",
    "(album_set2).issubset(album_set1)# bcoz all elements in set2 are all of not part of set1"
   ]
  },
  {
   "cell_type": "code",
   "execution_count": 19,
   "id": "691c38fe",
   "metadata": {},
   "outputs": [
    {
     "data": {
      "text/plain": [
       "True"
      ]
     },
     "execution_count": 19,
     "metadata": {},
     "output_type": "execute_result"
    }
   ],
   "source": [
    "{\"AC/DC\",\"back is black\"}.issubset(album_set2)"
   ]
  },
  {
   "cell_type": "code",
   "execution_count": 20,
   "id": "35d92c66",
   "metadata": {},
   "outputs": [
    {
     "data": {
      "text/plain": [
       "True"
      ]
     },
     "execution_count": 20,
     "metadata": {},
     "output_type": "execute_result"
    }
   ],
   "source": [
    "(album_set2).issuperset({\"AC/DC\",\"back is black\"})"
   ]
  }
 ],
 "metadata": {
  "kernelspec": {
   "display_name": "Python 3 (ipykernel)",
   "language": "python",
   "name": "python3"
  },
  "language_info": {
   "codemirror_mode": {
    "name": "ipython",
    "version": 3
   },
   "file_extension": ".py",
   "mimetype": "text/x-python",
   "name": "python",
   "nbconvert_exporter": "python",
   "pygments_lexer": "ipython3",
   "version": "3.9.13"
  }
 },
 "nbformat": 4,
 "nbformat_minor": 5
}
