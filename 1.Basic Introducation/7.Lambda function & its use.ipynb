{
 "cells": [
  {
   "cell_type": "markdown",
   "id": "b819361f",
   "metadata": {},
   "source": [
    "# Lambda Function"
   ]
  },
  {
   "cell_type": "markdown",
   "id": "245b44b2",
   "metadata": {},
   "source": [
    "#### 1.An anonymous function(lambda) which can be defined without a name.\n",
    "#### 2.Anonymous function are defined using 'lambda' keyword.\n",
    "#### 3.Similar to the traditional function lambda function can also accept multiple arguments.\n",
    "\n",
    "## Limitation:\n",
    "##### We can use only one expression using lambda"
   ]
  },
  {
   "cell_type": "code",
   "execution_count": 1,
   "id": "7f5f484e",
   "metadata": {},
   "outputs": [
    {
     "ename": "SyntaxError",
     "evalue": "invalid syntax (1619196579.py, line 2)",
     "output_type": "error",
     "traceback": [
      "\u001b[1;36m  File \u001b[1;32m\"C:\\Users\\SHUBHAM\\AppData\\Local\\Temp\\ipykernel_7884\\1619196579.py\"\u001b[1;36m, line \u001b[1;32m2\u001b[0m\n\u001b[1;33m    lambda argument(parameters):expression(equation that we want to calculate)\u001b[0m\n\u001b[1;37m                   ^\u001b[0m\n\u001b[1;31mSyntaxError\u001b[0m\u001b[1;31m:\u001b[0m invalid syntax\n"
     ]
    }
   ],
   "source": [
    "# Syntax of lambda function\n",
    "lambda argument(parameters):expression(equation that we want to calculate)"
   ]
  },
  {
   "cell_type": "code",
   "execution_count": 2,
   "id": "31322b85",
   "metadata": {},
   "outputs": [],
   "source": [
    "#Traditional function\n",
    "\n",
    "def square(a):\n",
    "    s=a*a\n",
    "    print(\"the square of : \",a)\n",
    "    return(s)"
   ]
  },
  {
   "cell_type": "code",
   "execution_count": 3,
   "id": "a9e7ba18",
   "metadata": {},
   "outputs": [
    {
     "name": "stdout",
     "output_type": "stream",
     "text": [
      "the square of :  10\n"
     ]
    },
    {
     "data": {
      "text/plain": [
       "100"
      ]
     },
     "execution_count": 3,
     "metadata": {},
     "output_type": "execute_result"
    }
   ],
   "source": [
    "square(10)"
   ]
  },
  {
   "cell_type": "code",
   "execution_count": 4,
   "id": "d2190c12",
   "metadata": {},
   "outputs": [
    {
     "data": {
      "text/plain": [
       "100"
      ]
     },
     "execution_count": 4,
     "metadata": {},
     "output_type": "execute_result"
    }
   ],
   "source": [
    "#Lambda function\n",
    "\n",
    "result=lambda a:a*a\n",
    "result(10)\n",
    "# (lambda a:a*a)(10)#Another way to write the lambda "
   ]
  },
  {
   "cell_type": "code",
   "execution_count": 5,
   "id": "ed42b694",
   "metadata": {},
   "outputs": [],
   "source": [
    "#Traditional function\n",
    "\n",
    "def equation (a,b,c):\n",
    "    d=2*a+3*b-c\n",
    "    return(d)"
   ]
  },
  {
   "cell_type": "code",
   "execution_count": 6,
   "id": "e8700025",
   "metadata": {},
   "outputs": [
    {
     "data": {
      "text/plain": [
       "5"
      ]
     },
     "execution_count": 6,
     "metadata": {},
     "output_type": "execute_result"
    }
   ],
   "source": [
    "equation(1,2,3)"
   ]
  },
  {
   "cell_type": "code",
   "execution_count": 7,
   "id": "b31e452d",
   "metadata": {},
   "outputs": [
    {
     "data": {
      "text/plain": [
       "5"
      ]
     },
     "execution_count": 7,
     "metadata": {},
     "output_type": "execute_result"
    }
   ],
   "source": [
    "#Lambda function\n",
    "\n",
    "ans=lambda a,b,c:2*a+3*b-c\n",
    "ans(1,2,3)"
   ]
  },
  {
   "cell_type": "code",
   "execution_count": 8,
   "id": "e91ffcb1",
   "metadata": {},
   "outputs": [],
   "source": [
    "def my_fun(x):\n",
    "    return lambda a:a**x\n",
    "#a value is input for lambda function & x value is input for traditional function"
   ]
  },
  {
   "cell_type": "code",
   "execution_count": 9,
   "id": "b511e0a0",
   "metadata": {},
   "outputs": [
    {
     "data": {
      "text/plain": [
       "1024"
      ]
     },
     "execution_count": 9,
     "metadata": {},
     "output_type": "execute_result"
    }
   ],
   "source": [
    "ans=my_fun(10)#here store the function value x\n",
    "ans(2)#here we store the value for a"
   ]
  },
  {
   "cell_type": "code",
   "execution_count": 10,
   "id": "8d0658dd",
   "metadata": {},
   "outputs": [
    {
     "data": {
      "text/plain": [
       "420"
      ]
     },
     "execution_count": 10,
     "metadata": {},
     "output_type": "execute_result"
    }
   ],
   "source": [
    "higher=lambda x,fun:x+fun(x)\n",
    "higher(20,lambda x:x*x)"
   ]
  },
  {
   "cell_type": "code",
   "execution_count": 11,
   "id": "610f5439",
   "metadata": {},
   "outputs": [
    {
     "name": "stdout",
     "output_type": "stream",
     "text": [
      "112\n"
     ]
    }
   ],
   "source": [
    "add=lambda *args:sum(args)\n",
    "print(add(20,2,40,50))"
   ]
  },
  {
   "cell_type": "code",
   "execution_count": 12,
   "id": "95ae7f75",
   "metadata": {},
   "outputs": [
    {
     "data": {
      "text/plain": [
       "'odd'"
      ]
     },
     "execution_count": 12,
     "metadata": {},
     "output_type": "execute_result"
    }
   ],
   "source": [
    "(lambda x:(x%2 and 'odd' or 'even'))(15)"
   ]
  },
  {
   "cell_type": "markdown",
   "id": "4e930dc4",
   "metadata": {},
   "source": [
    "## Why to use lambda function?\n",
    "\n",
    "#### 1.The power of lambda function is better shown when you can use them anonymous function inside the another function.\n",
    "#### 2.when we require a nameless function(bcoz we dont use repeatively /we dont call the function as traditional function we store it in the new variable and pass the parameter for lambda function) for a short period of time (one time use only)  eg.filter(),map()"
   ]
  },
  {
   "cell_type": "markdown",
   "id": "4ff4fe6c",
   "metadata": {},
   "source": [
    "## filter method\n",
    "\n",
    "#### To filter the elements in list directly we use filter bcoz it give directly list of element.\n",
    "#### Filter always give the output in object,so we convert in list or other data type"
   ]
  },
  {
   "cell_type": "code",
   "execution_count": 13,
   "id": "429e6988",
   "metadata": {},
   "outputs": [],
   "source": [
    "#Syntax\n",
    "#store in a variable=filter(need two parameters) 1=what condition/lambda function ,2=for which we want to filter i.e original list"
   ]
  },
  {
   "cell_type": "code",
   "execution_count": 14,
   "id": "c92d52c6",
   "metadata": {},
   "outputs": [
    {
     "name": "stdout",
     "output_type": "stream",
     "text": [
      "2\n",
      "4\n",
      "6\n",
      "8\n",
      "10\n"
     ]
    }
   ],
   "source": [
    "#filter only even number from the list\n",
    "my_list=[1,2,3,4,5,6,7,8,9,10]\n",
    "for i in my_list:\n",
    "    if (i % 2==0):\n",
    "        print(i)"
   ]
  },
  {
   "cell_type": "code",
   "execution_count": 15,
   "id": "c6f140f0",
   "metadata": {},
   "outputs": [
    {
     "name": "stdout",
     "output_type": "stream",
     "text": [
      "2\n",
      "4\n",
      "6\n",
      "8\n",
      "10\n"
     ]
    }
   ],
   "source": [
    "#To add the even element in list before print traditional method\n",
    "\n",
    "my_list=[1,2,3,4,5,6,7,8,9,10]\n",
    "new_list=[]\n",
    "for i in my_list:\n",
    "    if (i % 2==0):\n",
    "        new_list.append(i)\n",
    "        print(i)"
   ]
  },
  {
   "cell_type": "code",
   "execution_count": 16,
   "id": "fd4d6537",
   "metadata": {},
   "outputs": [
    {
     "data": {
      "text/plain": [
       "[2, 4, 6, 8, 10]"
      ]
     },
     "execution_count": 16,
     "metadata": {},
     "output_type": "execute_result"
    }
   ],
   "source": [
    "new_list"
   ]
  },
  {
   "cell_type": "code",
   "execution_count": 17,
   "id": "a57020f3",
   "metadata": {},
   "outputs": [
    {
     "data": {
      "text/plain": [
       "[2, 4, 6, 8, 10]"
      ]
     },
     "execution_count": 17,
     "metadata": {},
     "output_type": "execute_result"
    }
   ],
   "source": [
    "#filter required 2 argument (with what condition,for which i.e list)\n",
    "new=list(filter(lambda a:(a%2==0),my_list))#we use list to convert output object in real numbers\n",
    "new"
   ]
  },
  {
   "cell_type": "code",
   "execution_count": 18,
   "id": "14ffa32b",
   "metadata": {},
   "outputs": [
    {
     "name": "stdout",
     "output_type": "stream",
     "text": [
      "1\n",
      "3\n",
      "5\n",
      "7\n",
      "9\n"
     ]
    }
   ],
   "source": [
    "#filter only odd number from the list\n",
    "my_list=[1,2,3,4,5,6,7,8,9,10]\n",
    "odd_list=[]\n",
    "for i in my_list:\n",
    "    if (i % 2!=0):\n",
    "        odd_list.append(i)\n",
    "        print(i)"
   ]
  },
  {
   "cell_type": "code",
   "execution_count": 19,
   "id": "9906fda9",
   "metadata": {},
   "outputs": [
    {
     "data": {
      "text/plain": [
       "[1, 3, 5, 7, 9]"
      ]
     },
     "execution_count": 19,
     "metadata": {},
     "output_type": "execute_result"
    }
   ],
   "source": [
    "odd_list"
   ]
  },
  {
   "cell_type": "code",
   "execution_count": 20,
   "id": "ecb6ce19",
   "metadata": {},
   "outputs": [
    {
     "data": {
      "text/plain": [
       "[1, 3, 5, 7, 9]"
      ]
     },
     "execution_count": 20,
     "metadata": {},
     "output_type": "execute_result"
    }
   ],
   "source": [
    "new=list(filter(lambda x:(x %2 !=0),my_list))\n",
    "new"
   ]
  },
  {
   "cell_type": "code",
   "execution_count": 21,
   "id": "47eee9ba",
   "metadata": {},
   "outputs": [
    {
     "data": {
      "text/plain": [
       "['a', 'o', 'e', 'i', 'e', 'e', 'u']"
      ]
     },
     "execution_count": 21,
     "metadata": {},
     "output_type": "execute_result"
    }
   ],
   "source": [
    "letters=['a','z','o','e','i','e','s','e','u']\n",
    "vowels=['a','o','i','u','e']\n",
    "new=list(filter(lambda v:v in vowels,letters))\n",
    "new"
   ]
  },
  {
   "cell_type": "markdown",
   "id": "b5917a1a",
   "metadata": {},
   "source": [
    "## map method\n",
    "\n",
    "#### To make changes in each element of list we use map method instead of for loop\n",
    "#### Map always give the output in object,so we convert in list or other data type"
   ]
  },
  {
   "cell_type": "code",
   "execution_count": 22,
   "id": "7ec27f1e",
   "metadata": {},
   "outputs": [],
   "source": [
    "#Syntax\n",
    "#store in a variable=map(need two parameters) 1=what condition/lambda function ,2=for which we want to map i.e original list"
   ]
  },
  {
   "cell_type": "code",
   "execution_count": 23,
   "id": "4ce4e656",
   "metadata": {},
   "outputs": [
    {
     "name": "stdout",
     "output_type": "stream",
     "text": [
      "2\n",
      "4\n",
      "6\n",
      "8\n",
      "10\n",
      "12\n",
      "14\n",
      "16\n",
      "18\n",
      "20\n"
     ]
    }
   ],
   "source": [
    "#Traditional method\n",
    "\n",
    "my_list=[1,2,3,4,5,6,7,8,9,10]\n",
    "new=[]\n",
    "for i in my_list:\n",
    "    i=i*2\n",
    "    new.append(i)\n",
    "    print(i)"
   ]
  },
  {
   "cell_type": "code",
   "execution_count": 24,
   "id": "83fa0fc6",
   "metadata": {},
   "outputs": [
    {
     "data": {
      "text/plain": [
       "[2, 4, 6, 8, 10, 12, 14, 16, 18, 20]"
      ]
     },
     "execution_count": 24,
     "metadata": {},
     "output_type": "execute_result"
    }
   ],
   "source": [
    "new"
   ]
  },
  {
   "cell_type": "code",
   "execution_count": 25,
   "id": "a595efcf",
   "metadata": {},
   "outputs": [
    {
     "data": {
      "text/plain": [
       "[2, 4, 6, 8, 10, 12, 14, 16, 18, 20]"
      ]
     },
     "execution_count": 25,
     "metadata": {},
     "output_type": "execute_result"
    }
   ],
   "source": [
    "my_list=[1,2,3,4,5,6,7,8,9,10]\n",
    "new=list(map(lambda x:x*2,my_list))\n",
    "new"
   ]
  },
  {
   "cell_type": "code",
   "execution_count": 26,
   "id": "ef38ae1f",
   "metadata": {},
   "outputs": [
    {
     "data": {
      "text/plain": [
       "[8, 27, 64, 125, 216, 343, 512, 729]"
      ]
     },
     "execution_count": 26,
     "metadata": {},
     "output_type": "execute_result"
    }
   ],
   "source": [
    "list2=[2,3,4,5,6,7,8,9]\n",
    "cube=list(map(lambda x:pow(x,3),list2))\n",
    "cube"
   ]
  }
 ],
 "metadata": {
  "kernelspec": {
   "display_name": "Python 3 (ipykernel)",
   "language": "python",
   "name": "python3"
  },
  "language_info": {
   "codemirror_mode": {
    "name": "ipython",
    "version": 3
   },
   "file_extension": ".py",
   "mimetype": "text/x-python",
   "name": "python",
   "nbconvert_exporter": "python",
   "pygments_lexer": "ipython3",
   "version": "3.9.13"
  }
 },
 "nbformat": 4,
 "nbformat_minor": 5
}
