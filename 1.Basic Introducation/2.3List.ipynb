{
 "cells": [
  {
   "cell_type": "markdown",
   "id": "c4e6db3c",
   "metadata": {},
   "source": [
    "# Lists"
   ]
  },
  {
   "cell_type": "code",
   "execution_count": 1,
   "id": "67413769",
   "metadata": {},
   "outputs": [],
   "source": [
    "# collection of items\n",
    "# written in sqaure brackets []\n",
    "#contains different data types\n",
    "#It is changeable\n",
    "#allow duplicates"
   ]
  },
  {
   "cell_type": "code",
   "execution_count": 2,
   "id": "7217f11e",
   "metadata": {},
   "outputs": [
    {
     "data": {
      "text/plain": [
       "[1, 'Nikita', 3.4]"
      ]
     },
     "execution_count": 2,
     "metadata": {},
     "output_type": "execute_result"
    }
   ],
   "source": [
    "#create a list\n",
    "list=[1,'Nikita',3.4]\n",
    "list"
   ]
  },
  {
   "cell_type": "code",
   "execution_count": 3,
   "id": "ea25c644",
   "metadata": {},
   "outputs": [
    {
     "data": {
      "text/plain": [
       "3"
      ]
     },
     "execution_count": 3,
     "metadata": {},
     "output_type": "execute_result"
    }
   ],
   "source": [
    "len(list)"
   ]
  },
  {
   "cell_type": "code",
   "execution_count": 4,
   "id": "df269cee",
   "metadata": {},
   "outputs": [
    {
     "data": {
      "text/plain": [
       "list"
      ]
     },
     "execution_count": 4,
     "metadata": {},
     "output_type": "execute_result"
    }
   ],
   "source": [
    "type(list)"
   ]
  },
  {
   "cell_type": "markdown",
   "id": "836238f4",
   "metadata": {},
   "source": [
    "## Indexing"
   ]
  },
  {
   "cell_type": "markdown",
   "id": "3bc58632",
   "metadata": {},
   "source": [
    "Each element can be obtained by the name of data type followed by square braket [ ] with the index number.To extracting single element any data type we use Indexing.We can used positive index as well as negative indexing.Positive indexing starts with 0 from 1st element to last nth element of any data type.Negative indexing starts with -1 from last element of any data type to 1st element -nth element. "
   ]
  },
  {
   "cell_type": "code",
   "execution_count": 5,
   "id": "8832ea8a",
   "metadata": {},
   "outputs": [
    {
     "name": "stdout",
     "output_type": "stream",
     "text": [
      "1\n",
      "Nikita\n",
      "3.4\n"
     ]
    }
   ],
   "source": [
    "#print the element on each index\n",
    "print(list[0])\n",
    "print(list[1])\n",
    "print(list[2])"
   ]
  },
  {
   "cell_type": "code",
   "execution_count": 6,
   "id": "2de655da",
   "metadata": {},
   "outputs": [
    {
     "name": "stdout",
     "output_type": "stream",
     "text": [
      "<class 'int'>\n",
      "<class 'str'>\n",
      "<class 'float'>\n"
     ]
    }
   ],
   "source": [
    "#type of the element on each index\n",
    "print(type(list[0]))\n",
    "print(type(list[1]))\n",
    "print(type(list[2]))"
   ]
  },
  {
   "cell_type": "markdown",
   "id": "8c18e215",
   "metadata": {},
   "source": [
    "## Nested "
   ]
  },
  {
   "cell_type": "markdown",
   "id": "737a0734",
   "metadata": {},
   "source": [
    "Any data type contain another data type as well as other complex data type,the process is called Nested.i.e int,float,string,tuple,list,dictinory etc"
   ]
  },
  {
   "cell_type": "code",
   "execution_count": 7,
   "id": "28184056",
   "metadata": {},
   "outputs": [
    {
     "data": {
      "text/plain": [
       "[1, 'nikita', (1980, 2.3), [2, 9], ('a', 9)]"
      ]
     },
     "execution_count": 7,
     "metadata": {},
     "output_type": "execute_result"
    }
   ],
   "source": [
    "li=[1,'nikita',(1980,2.3),[2,9],(\"a\",9)]\n",
    "li"
   ]
  },
  {
   "cell_type": "code",
   "execution_count": 8,
   "id": "4ed6f2f7",
   "metadata": {},
   "outputs": [
    {
     "name": "stdout",
     "output_type": "stream",
     "text": [
      "[2, 9]\n",
      "('a', 9)\n",
      "2\n",
      "9\n",
      "a\n",
      "9\n"
     ]
    }
   ],
   "source": [
    "#print the element on each index\n",
    "print(li[3])\n",
    "print(li[4])\n",
    "print(li[3][0])\n",
    "print(li[3][1])\n",
    "print(li[4][0])\n",
    "print(li[4][1])"
   ]
  },
  {
   "cell_type": "markdown",
   "id": "ff3098bd",
   "metadata": {},
   "source": [
    "## Stride/Step"
   ]
  },
  {
   "cell_type": "markdown",
   "id": "3a535af4",
   "metadata": {},
   "source": [
    "It means that after certain interval of another element it given in output.It is given by variable name[ from where :to what :number of interval] but it is (n-1)"
   ]
  },
  {
   "cell_type": "code",
   "execution_count": 9,
   "id": "29742031",
   "metadata": {},
   "outputs": [
    {
     "data": {
      "text/plain": [
       "['nikita', [2, 9]]"
      ]
     },
     "execution_count": 9,
     "metadata": {},
     "output_type": "execute_result"
    }
   ],
   "source": [
    "li[1:5:2]"
   ]
  },
  {
   "cell_type": "markdown",
   "id": "77dbc044",
   "metadata": {},
   "source": [
    "## Silicing"
   ]
  },
  {
   "cell_type": "markdown",
   "id": "033e794c",
   "metadata": {},
   "source": [
    "To extracting more than single element of any data type we use Silicing. It always give us  from which element(suppose 0) to what we want (suppose3)then we write variable name[0:4] i.e.(n-1)th element in output."
   ]
  },
  {
   "cell_type": "code",
   "execution_count": 10,
   "id": "742d3407",
   "metadata": {},
   "outputs": [
    {
     "data": {
      "text/plain": [
       "[1, 'nikita', 3.4, 9, 'NK']"
      ]
     },
     "execution_count": 10,
     "metadata": {},
     "output_type": "execute_result"
    }
   ],
   "source": [
    "list2=[1,\"nikita\",3.4,9,'NK']\n",
    "list2"
   ]
  },
  {
   "cell_type": "code",
   "execution_count": 11,
   "id": "9412e71d",
   "metadata": {},
   "outputs": [
    {
     "name": "stdout",
     "output_type": "stream",
     "text": [
      "[1, 'nikita', 3.4]\n",
      "[1, 'nikita', 3.4, 9, 'NK']\n",
      "[3.4, 9, 'NK']\n"
     ]
    }
   ],
   "source": [
    "print(list2[0:3])\n",
    "print(list2[:])\n",
    "print(list2[2:5])"
   ]
  },
  {
   "cell_type": "code",
   "execution_count": 12,
   "id": "4683f4f1",
   "metadata": {},
   "outputs": [
    {
     "name": "stdout",
     "output_type": "stream",
     "text": [
      "[1, 'nikita', (1980, 2.3), [2, 9], ('a', 9)]\n",
      "[1, 'nikita']\n"
     ]
    }
   ],
   "source": [
    "print(li)\n",
    "print(li[0:2])"
   ]
  },
  {
   "cell_type": "markdown",
   "id": "fb619a67",
   "metadata": {},
   "source": [
    "## Lists Operations"
   ]
  },
  {
   "cell_type": "markdown",
   "id": "c2f6c57d",
   "metadata": {},
   "source": [
    "we can use this method extend to add new elements to the list at the end"
   ]
  },
  {
   "cell_type": "code",
   "execution_count": 13,
   "id": "369c9291",
   "metadata": {},
   "outputs": [
    {
     "data": {
      "text/plain": [
       "[1, 2, 'nk', 3.4, 'ankita', 22]"
      ]
     },
     "execution_count": 13,
     "metadata": {},
     "output_type": "execute_result"
    }
   ],
   "source": [
    "l2=[1,2,'nk',3.4]\n",
    "l2\n",
    "l2.extend([\"ankita\",22]) #If we exicuted again and again it remain same. New items is element of the list.\n",
    "l2"
   ]
  },
  {
   "cell_type": "markdown",
   "id": "6a437361",
   "metadata": {},
   "source": [
    "Another similar method append.If we apply append insted of extend, we add one element to the list"
   ]
  },
  {
   "cell_type": "code",
   "execution_count": 14,
   "id": "6efe4387",
   "metadata": {},
   "outputs": [
    {
     "data": {
      "text/plain": [
       "[1, 2, 'nk', 3.4, 'ankita', 22, ['ankita', 22]]"
      ]
     },
     "execution_count": 14,
     "metadata": {},
     "output_type": "execute_result"
    }
   ],
   "source": [
    "l2.append([\"ankita\",22])# If we exciuted cell again and again it get add that much time in the list.\n",
    "l2 #new item is added but it is not element of list directly it show new list inside the old list like nested list."
   ]
  },
  {
   "cell_type": "code",
   "execution_count": 15,
   "id": "eb593bad",
   "metadata": {},
   "outputs": [
    {
     "name": "stdout",
     "output_type": "stream",
     "text": [
      "Before change: ['nikita', 1, 3.4]\n",
      "after change: ['ankita', 1, 3.4]\n"
     ]
    }
   ],
   "source": [
    "#Change the element based on the index\n",
    "list2=[\"nikita\",1,3.4]\n",
    "print(\"Before change:\",list2)\n",
    "list2[0]=\"ankita\"\n",
    "print(\"after change:\",list2)"
   ]
  },
  {
   "cell_type": "code",
   "execution_count": 16,
   "id": "7f5bf3aa",
   "metadata": {},
   "outputs": [
    {
     "name": "stdout",
     "output_type": "stream",
     "text": [
      "[1, 2, 'nk', 3.4]\n"
     ]
    },
    {
     "data": {
      "text/plain": [
       "[1, 'abc', 2, 'nk', 3.4]"
      ]
     },
     "execution_count": 16,
     "metadata": {},
     "output_type": "execute_result"
    }
   ],
   "source": [
    "#Insert the element in specific order\n",
    "l=[1,2,'nk',3.4]\n",
    "print(l)\n",
    "l.insert(1,\"abc\")#It add the element in specific order\n",
    "l"
   ]
  },
  {
   "cell_type": "code",
   "execution_count": 17,
   "id": "9d289cee",
   "metadata": {},
   "outputs": [
    {
     "name": "stdout",
     "output_type": "stream",
     "text": [
      "Before change: ['nikita', 1, 3.4]\n",
      "after change: [1, 3.4]\n"
     ]
    }
   ],
   "source": [
    "#delete the element based on the index\n",
    "list2=[\"nikita\",1,3.4]\n",
    "print(\"Before change:\",list2)\n",
    "del(list2[0]) #index to which we want to remove\n",
    "print(\"after change:\",list2)"
   ]
  },
  {
   "cell_type": "markdown",
   "id": "f0cb77ac",
   "metadata": {},
   "source": [
    "We can convert a string to alist by using split.The method split translates every group of characters separated by a space into an element in a list."
   ]
  },
  {
   "cell_type": "code",
   "execution_count": 18,
   "id": "96e6df61",
   "metadata": {},
   "outputs": [
    {
     "data": {
      "text/plain": [
       "['Nikita', 'Khirid']"
      ]
     },
     "execution_count": 18,
     "metadata": {},
     "output_type": "execute_result"
    }
   ],
   "source": [
    "#split(seperated) the string,defoult is by space\n",
    "\"Nikita Khirid\".split() # we dont mention the seperated by what then by defoult split by space"
   ]
  },
  {
   "cell_type": "markdown",
   "id": "2c12e65b",
   "metadata": {},
   "source": [
    "We can use the split function to separate strings on a specific character."
   ]
  },
  {
   "cell_type": "code",
   "execution_count": 19,
   "id": "0da3a8fb",
   "metadata": {},
   "outputs": [
    {
     "data": {
      "text/plain": [
       "['A', 'B', 'C', 'D']"
      ]
     },
     "execution_count": 19,
     "metadata": {},
     "output_type": "execute_result"
    }
   ],
   "source": [
    "#Split the string by comma\n",
    "\"A,B,C,D\".split(',')"
   ]
  },
  {
   "cell_type": "code",
   "execution_count": 20,
   "id": "ab5e95bf",
   "metadata": {},
   "outputs": [
    {
     "name": "stdout",
     "output_type": "stream",
     "text": [
      "[1, 'abc', 2, 'nk', 3.4]\n"
     ]
    },
    {
     "data": {
      "text/plain": [
       "3.4"
      ]
     },
     "execution_count": 20,
     "metadata": {},
     "output_type": "execute_result"
    }
   ],
   "source": [
    "#Any element can write/remove randomly\n",
    "print(l)\n",
    "l.pop()"
   ]
  },
  {
   "cell_type": "code",
   "execution_count": 21,
   "id": "01d290fb",
   "metadata": {},
   "outputs": [
    {
     "name": "stdout",
     "output_type": "stream",
     "text": [
      "['nk', 2, 'abc', 1]\n"
     ]
    }
   ],
   "source": [
    "l.reverse()#Reverse the list\n",
    "print(l)"
   ]
  },
  {
   "cell_type": "code",
   "execution_count": 22,
   "id": "df716424",
   "metadata": {},
   "outputs": [
    {
     "data": {
      "text/plain": [
       "1"
      ]
     },
     "execution_count": 22,
     "metadata": {},
     "output_type": "execute_result"
    }
   ],
   "source": [
    "l.count('abc')"
   ]
  },
  {
   "cell_type": "code",
   "execution_count": 23,
   "id": "58fdbf44",
   "metadata": {},
   "outputs": [
    {
     "data": {
      "text/plain": [
       "2"
      ]
     },
     "execution_count": 23,
     "metadata": {},
     "output_type": "execute_result"
    }
   ],
   "source": [
    "l.index('abc')"
   ]
  },
  {
   "cell_type": "code",
   "execution_count": 24,
   "id": "4efee0cb",
   "metadata": {},
   "outputs": [
    {
     "name": "stdout",
     "output_type": "stream",
     "text": [
      "[]\n"
     ]
    }
   ],
   "source": [
    "l.clear()\n",
    "print(l)"
   ]
  },
  {
   "cell_type": "markdown",
   "id": "df77934b",
   "metadata": {},
   "source": [
    "## Copy and Clone"
   ]
  },
  {
   "cell_type": "code",
   "execution_count": 25,
   "id": "ad77be51",
   "metadata": {},
   "outputs": [
    {
     "name": "stdout",
     "output_type": "stream",
     "text": [
      "A: ['nikita khirid', 1, 3.4]\n",
      "B: ['nikita khirid', 1, 3.4]\n"
     ]
    }
   ],
   "source": [
    "#Copy (Copy by reference)the list\n",
    "A=[\"nikita khirid\",1,3.4]\n",
    "B=A #duplicate of list\n",
    "print(\"A:\",A)\n",
    "print(\"B:\",B)"
   ]
  },
  {
   "cell_type": "markdown",
   "id": "9ff7c9cb",
   "metadata": {},
   "source": [
    "Initially,the value of the first element in B is set as nikita khirid.If we change the first element in A to banana.We get an unexpexted side effect.As A and B are referencing the same list. If we change list A then list B also change.If we check the first element of B we get banana instead of nikita khirid."
   ]
  },
  {
   "cell_type": "code",
   "execution_count": 26,
   "id": "79908e64",
   "metadata": {},
   "outputs": [
    {
     "name": "stdout",
     "output_type": "stream",
     "text": [
      "B[0] before the change: nikita khirid\n",
      "B[0] after the change: banana\n"
     ]
    }
   ],
   "source": [
    "#Examine the copy by reference\n",
    "print(\"B[0] before the change:\",B[0]) #we change the index A[0] so in B it also change the same index bcoz it is save in same memory location.\n",
    "A[0]=\"banana\"\n",
    "print(\"B[0] after the change:\",B[0])"
   ]
  },
  {
   "cell_type": "code",
   "execution_count": 27,
   "id": "c8cada48",
   "metadata": {},
   "outputs": [
    {
     "name": "stdout",
     "output_type": "stream",
     "text": [
      "A: ['nikita khirid', 1, 3.4]\n",
      "B: ['nikita khirid', 1, 3.4]\n"
     ]
    }
   ],
   "source": [
    "A=[\"nikita khirid\",1,3.4]\n",
    "B=A #duplicate of list\n",
    "print(\"A:\",A)\n",
    "print(\"B:\",B)"
   ]
  },
  {
   "cell_type": "code",
   "execution_count": 28,
   "id": "7d760dc5",
   "metadata": {},
   "outputs": [
    {
     "name": "stdout",
     "output_type": "stream",
     "text": [
      "A[0] before the change: nikita khirid\n",
      "A[0] after the change: banana\n"
     ]
    }
   ],
   "source": [
    "print(\"A[0] before the change:\",A[0]) #we change the index B[0] so in A is not change the same index bcoz it is save in same memory location.\n",
    "B[0]=\"banana\"\n",
    "print(\"A[0] after the change:\",A[0])"
   ]
  },
  {
   "cell_type": "code",
   "execution_count": 29,
   "id": "b691105a",
   "metadata": {},
   "outputs": [
    {
     "data": {
      "text/plain": [
       "['nikita khirid', 1, 3.4]"
      ]
     },
     "execution_count": 29,
     "metadata": {},
     "output_type": "execute_result"
    }
   ],
   "source": [
    "#Clone(clone by value)the list\n",
    "A=[\"nikita khirid\",1,3.4]\n",
    "B=A[:]\n",
    "B"
   ]
  },
  {
   "cell_type": "code",
   "execution_count": 30,
   "id": "ddbc3dd7",
   "metadata": {},
   "outputs": [
    {
     "name": "stdout",
     "output_type": "stream",
     "text": [
      "B[0] before the change: nikita khirid\n",
      "B[0] after the change: nikita khirid\n"
     ]
    }
   ],
   "source": [
    "print(\"B[0] before the change:\",B[0]) \n",
    "A[0]=\"banana\"   #It not change in copy \n",
    "print(\"B[0] after the change:\",B[0])"
   ]
  },
  {
   "cell_type": "code",
   "execution_count": 31,
   "id": "60fa7257",
   "metadata": {},
   "outputs": [
    {
     "data": {
      "text/plain": [
       "[1, 2, 3, 4, 5, 1, 2, 3, 4, 5]"
      ]
     },
     "execution_count": 31,
     "metadata": {},
     "output_type": "execute_result"
    }
   ],
   "source": [
    "#Various operation that can we perform\n",
    "nikita=[1,2,3,4,5]\n",
    "sum(nikita) #only if all are integer or float\n",
    "nikita*2 #The number we write that much time list reperate"
   ]
  }
 ],
 "metadata": {
  "kernelspec": {
   "display_name": "Python 3 (ipykernel)",
   "language": "python",
   "name": "python3"
  },
  "language_info": {
   "codemirror_mode": {
    "name": "ipython",
    "version": 3
   },
   "file_extension": ".py",
   "mimetype": "text/x-python",
   "name": "python",
   "nbconvert_exporter": "python",
   "pygments_lexer": "ipython3",
   "version": "3.9.13"
  }
 },
 "nbformat": 4,
 "nbformat_minor": 5
}
