{
 "cells": [
  {
   "cell_type": "markdown",
   "id": "3a0fdbf7",
   "metadata": {},
   "source": [
    "# Tuples"
   ]
  },
  {
   "cell_type": "code",
   "execution_count": 1,
   "id": "6f33ddb4",
   "metadata": {},
   "outputs": [],
   "source": [
    "# Store multiple items in single variable                                                                                    \n",
    "# Store collection of data                                                                                                     \n",
    "# Ordered & Unchangeable(immutable)                                                                                   \n",
    "# Written in round brackets ()\n",
    "# Allow duplicate\n",
    "# Contain different data type"
   ]
  },
  {
   "cell_type": "code",
   "execution_count": 2,
   "id": "c205ab31",
   "metadata": {},
   "outputs": [
    {
     "data": {
      "text/plain": [
       "('nikita', 1, 3.4)"
      ]
     },
     "execution_count": 2,
     "metadata": {},
     "output_type": "execute_result"
    }
   ],
   "source": [
    "# create tuple\n",
    "tuple=('nikita',1,3.4) # we can create any data type in tuple or combine all data type also\n",
    "tuple"
   ]
  },
  {
   "cell_type": "code",
   "execution_count": 3,
   "id": "fb35ff17",
   "metadata": {},
   "outputs": [
    {
     "ename": "AttributeError",
     "evalue": "'tuple' object has no attribute 'replace'",
     "output_type": "error",
     "traceback": [
      "\u001b[1;31m---------------------------------------------------------------------------\u001b[0m",
      "\u001b[1;31mAttributeError\u001b[0m                            Traceback (most recent call last)",
      "\u001b[1;32m~\\AppData\\Local\\Temp\\ipykernel_7892\\2647604342.py\u001b[0m in \u001b[0;36m<module>\u001b[1;34m\u001b[0m\n\u001b[1;32m----> 1\u001b[1;33m \u001b[0mtuple\u001b[0m\u001b[1;33m.\u001b[0m\u001b[0mreplace\u001b[0m\u001b[1;33m(\u001b[0m\u001b[1;34m\"nikita\"\u001b[0m\u001b[1;33m,\u001b[0m\u001b[1;34m\"ankita\"\u001b[0m\u001b[1;33m)\u001b[0m \u001b[1;31m#it is boz unchaneable (It give error like \"tuple object has no attributes\")\u001b[0m\u001b[1;33m\u001b[0m\u001b[1;33m\u001b[0m\u001b[0m\n\u001b[0m",
      "\u001b[1;31mAttributeError\u001b[0m: 'tuple' object has no attribute 'replace'"
     ]
    }
   ],
   "source": [
    "tuple.replace(\"nikita\",\"ankita\") #it is boz unchaneable (It give error like \"tuple object has no attributes\")"
   ]
  },
  {
   "cell_type": "code",
   "execution_count": 4,
   "id": "b62decf3",
   "metadata": {},
   "outputs": [
    {
     "data": {
      "text/plain": [
       "(1, 2, 3, 4, 5)"
      ]
     },
     "execution_count": 4,
     "metadata": {},
     "output_type": "execute_result"
    }
   ],
   "source": [
    "tuple2=(1,2,3,4,5)\n",
    "tuple2"
   ]
  },
  {
   "cell_type": "code",
   "execution_count": 5,
   "id": "66f5ec7f",
   "metadata": {},
   "outputs": [
    {
     "data": {
      "text/plain": [
       "tuple"
      ]
     },
     "execution_count": 5,
     "metadata": {},
     "output_type": "execute_result"
    }
   ],
   "source": [
    "#create type of  tuple created now\n",
    "type(tuple2)\n"
   ]
  },
  {
   "cell_type": "markdown",
   "id": "a5bc0d03",
   "metadata": {},
   "source": [
    "## Indexing"
   ]
  },
  {
   "cell_type": "markdown",
   "id": "1caa3147",
   "metadata": {},
   "source": [
    "Each element can be obtained by the name of data type followed by square braket [ ] with the index number.To extracting single element any data type we use Indexing.We can used positive index as well as negative indexing.Positive indexing starts with 0 from 1st element to last nth element of any data type.Negative indexing starts with -1 from last element of any data type to 1st element -nth element. "
   ]
  },
  {
   "cell_type": "code",
   "execution_count": 6,
   "id": "eecd37f6",
   "metadata": {},
   "outputs": [
    {
     "name": "stdout",
     "output_type": "stream",
     "text": [
      "nikita\n",
      "1\n",
      "3.4\n"
     ]
    },
    {
     "ename": "IndexError",
     "evalue": "tuple index out of range",
     "output_type": "error",
     "traceback": [
      "\u001b[1;31m---------------------------------------------------------------------------\u001b[0m",
      "\u001b[1;31mIndexError\u001b[0m                                Traceback (most recent call last)",
      "\u001b[1;32m~\\AppData\\Local\\Temp\\ipykernel_7892\\3604627980.py\u001b[0m in \u001b[0;36m<module>\u001b[1;34m\u001b[0m\n\u001b[0;32m      3\u001b[0m \u001b[0mprint\u001b[0m\u001b[1;33m(\u001b[0m\u001b[0mtuple\u001b[0m\u001b[1;33m[\u001b[0m\u001b[1;36m1\u001b[0m\u001b[1;33m]\u001b[0m\u001b[1;33m)\u001b[0m\u001b[1;33m\u001b[0m\u001b[1;33m\u001b[0m\u001b[0m\n\u001b[0;32m      4\u001b[0m \u001b[0mprint\u001b[0m\u001b[1;33m(\u001b[0m\u001b[0mtuple\u001b[0m\u001b[1;33m[\u001b[0m\u001b[1;36m2\u001b[0m\u001b[1;33m]\u001b[0m\u001b[1;33m)\u001b[0m\u001b[1;33m\u001b[0m\u001b[1;33m\u001b[0m\u001b[0m\n\u001b[1;32m----> 5\u001b[1;33m \u001b[0mprint\u001b[0m\u001b[1;33m(\u001b[0m\u001b[0mtuple\u001b[0m\u001b[1;33m[\u001b[0m\u001b[1;36m3\u001b[0m\u001b[1;33m]\u001b[0m\u001b[1;33m)\u001b[0m\u001b[1;31m#It is bcoz our length is 3 but our indexing always start from 0 .\u001b[0m\u001b[1;33m\u001b[0m\u001b[1;33m\u001b[0m\u001b[0m\n\u001b[0m\u001b[0;32m      6\u001b[0m \u001b[1;31m#so in this example our index is from 0 to 2 and at 3rd index their is no element thats why error gives (tuple index out of range)\u001b[0m\u001b[1;33m\u001b[0m\u001b[1;33m\u001b[0m\u001b[0m\n",
      "\u001b[1;31mIndexError\u001b[0m: tuple index out of range"
     ]
    }
   ],
   "source": [
    "#print the variable on each index by positive indexing\n",
    "print(tuple[0])\n",
    "print(tuple[1])\n",
    "print(tuple[2])\n",
    "print(tuple[3])#It is bcoz our length is 3 but our indexing always start from 0 .\n",
    "#so in this example our index is from 0 to 2 and at 3rd index their is no element thats why error gives (tuple index out of range)"
   ]
  },
  {
   "cell_type": "code",
   "execution_count": 7,
   "id": "16a0b312",
   "metadata": {},
   "outputs": [
    {
     "name": "stdout",
     "output_type": "stream",
     "text": [
      "<class 'str'>\n",
      "<class 'int'>\n",
      "<class 'float'>\n"
     ]
    }
   ],
   "source": [
    "#print the type of value on each index\n",
    "print(type(tuple[0]))\n",
    "print(type(tuple[1]))\n",
    "print(type(tuple[2]))"
   ]
  },
  {
   "cell_type": "code",
   "execution_count": 8,
   "id": "74f5e2e6",
   "metadata": {},
   "outputs": [
    {
     "name": "stdout",
     "output_type": "stream",
     "text": [
      "3.4\n",
      "1\n",
      "nikita\n"
     ]
    }
   ],
   "source": [
    "#print the variable on each index by negative indexing\n",
    "print(tuple[-1])\n",
    "print(tuple[-2])\n",
    "print(tuple[-3])"
   ]
  },
  {
   "cell_type": "markdown",
   "id": "fdc2448f",
   "metadata": {},
   "source": [
    "## Concatenate(Combine)"
   ]
  },
  {
   "cell_type": "markdown",
   "id": "ba45450f",
   "metadata": {},
   "source": [
    "we can concatenate the any data type by using  + sign."
   ]
  },
  {
   "cell_type": "code",
   "execution_count": 9,
   "id": "8118a884",
   "metadata": {},
   "outputs": [
    {
     "data": {
      "text/plain": [
       "('nikita', 1, 3.4)"
      ]
     },
     "execution_count": 9,
     "metadata": {},
     "output_type": "execute_result"
    }
   ],
   "source": [
    "tuple"
   ]
  },
  {
   "cell_type": "code",
   "execution_count": 10,
   "id": "1bfedcc1",
   "metadata": {},
   "outputs": [
    {
     "data": {
      "text/plain": [
       "(1, 2, 3, 4, 5)"
      ]
     },
     "execution_count": 10,
     "metadata": {},
     "output_type": "execute_result"
    }
   ],
   "source": [
    "tuple2"
   ]
  },
  {
   "cell_type": "code",
   "execution_count": 11,
   "id": "ef12439d",
   "metadata": {},
   "outputs": [
    {
     "data": {
      "text/plain": [
       "('nikita', 1, 3.4, 1, 2, 3, 4, 5)"
      ]
     },
     "execution_count": 11,
     "metadata": {},
     "output_type": "execute_result"
    }
   ],
   "source": [
    "combine_tuple=tuple+tuple2\n",
    "combine_tuple # for long variable dont need to write whole thing just write 1st letter of variable and press Tab from keyboard select the variable name."
   ]
  },
  {
   "cell_type": "code",
   "execution_count": 12,
   "id": "2082ad27",
   "metadata": {},
   "outputs": [
    {
     "data": {
      "text/plain": [
       "('nikita', 1, 3.4, 1, 2, 3)"
      ]
     },
     "execution_count": 12,
     "metadata": {},
     "output_type": "execute_result"
    }
   ],
   "source": [
    "#We can concatenate like this\n",
    "ct=tuple+(1,2,3)\n",
    "ct"
   ]
  },
  {
   "cell_type": "markdown",
   "id": "dd5d5dde",
   "metadata": {},
   "source": [
    "## Count"
   ]
  },
  {
   "cell_type": "code",
   "execution_count": 13,
   "id": "b2d6013b",
   "metadata": {},
   "outputs": [
    {
     "data": {
      "text/plain": [
       "2"
      ]
     },
     "execution_count": 13,
     "metadata": {},
     "output_type": "execute_result"
    }
   ],
   "source": [
    "# To find occrance of the elements use count function\n",
    "ct.count(1)"
   ]
  },
  {
   "cell_type": "markdown",
   "id": "f2ec983e",
   "metadata": {},
   "source": [
    "## Silicing"
   ]
  },
  {
   "cell_type": "markdown",
   "id": "016e6346",
   "metadata": {},
   "source": [
    "To extracting more than single element of any data type we use Silicing. It always give us  from which element(suppose 0) to what we want (suppose3)then we write variable name[0:4] i.e.(n-1)th element in output."
   ]
  },
  {
   "cell_type": "code",
   "execution_count": 14,
   "id": "be0b97ee",
   "metadata": {},
   "outputs": [
    {
     "data": {
      "text/plain": [
       "('nikita', 1, 3.4)"
      ]
     },
     "execution_count": 14,
     "metadata": {},
     "output_type": "execute_result"
    }
   ],
   "source": [
    "# Silicing from index 0 to index 3 (range 0 to 4) i.e from to n+1\n",
    "tuple\n"
   ]
  },
  {
   "cell_type": "code",
   "execution_count": 15,
   "id": "454c4343",
   "metadata": {},
   "outputs": [
    {
     "data": {
      "text/plain": [
       "('nikita', 1, 3.4)"
      ]
     },
     "execution_count": 15,
     "metadata": {},
     "output_type": "execute_result"
    }
   ],
   "source": [
    "tuple[0:4]# It always give us (n-1)th element"
   ]
  },
  {
   "cell_type": "code",
   "execution_count": 16,
   "id": "690c80e8",
   "metadata": {},
   "outputs": [
    {
     "data": {
      "text/plain": [
       "(1, 2, 3, 4, 5)"
      ]
     },
     "execution_count": 16,
     "metadata": {},
     "output_type": "execute_result"
    }
   ],
   "source": [
    "#Silicing from index 1 to index 2\n",
    "tuple2"
   ]
  },
  {
   "cell_type": "code",
   "execution_count": 17,
   "id": "d5c2ada0",
   "metadata": {},
   "outputs": [
    {
     "data": {
      "text/plain": [
       "(2, 3)"
      ]
     },
     "execution_count": 17,
     "metadata": {},
     "output_type": "execute_result"
    }
   ],
   "source": [
    "tuple2[1:3]"
   ]
  },
  {
   "cell_type": "code",
   "execution_count": 18,
   "id": "d9cdc45d",
   "metadata": {},
   "outputs": [
    {
     "data": {
      "text/plain": [
       "()"
      ]
     },
     "execution_count": 18,
     "metadata": {},
     "output_type": "execute_result"
    }
   ],
   "source": [
    "tuple[3:4]#It gives in output empty bcoz in our data type nothing is present at that index.\n",
    "#Its a advantage of silicing it don't show error after not present the range of index it will print that it have"
   ]
  },
  {
   "cell_type": "code",
   "execution_count": 19,
   "id": "1b462623",
   "metadata": {},
   "outputs": [
    {
     "data": {
      "text/plain": [
       "('nikita', 1, 3.4, 1, 2, 3, 4, 5)"
      ]
     },
     "execution_count": 19,
     "metadata": {},
     "output_type": "execute_result"
    }
   ],
   "source": [
    "combine_tuple"
   ]
  },
  {
   "cell_type": "code",
   "execution_count": 20,
   "id": "5b8cbc20",
   "metadata": {},
   "outputs": [
    {
     "data": {
      "text/plain": [
       "(3.4, 1, 2, 3, 4)"
      ]
     },
     "execution_count": 20,
     "metadata": {},
     "output_type": "execute_result"
    }
   ],
   "source": [
    "combine_tuple[2:7]"
   ]
  },
  {
   "cell_type": "markdown",
   "id": "a94f5cfb",
   "metadata": {},
   "source": [
    "## Length"
   ]
  },
  {
   "cell_type": "markdown",
   "id": "fae2e754",
   "metadata": {},
   "source": [
    "We can obtain the length of any data type by using length command.i.e len(variable name)"
   ]
  },
  {
   "cell_type": "code",
   "execution_count": 21,
   "id": "56400832",
   "metadata": {},
   "outputs": [
    {
     "data": {
      "text/plain": [
       "(1, 2, 3, 4, 5)"
      ]
     },
     "execution_count": 21,
     "metadata": {},
     "output_type": "execute_result"
    }
   ],
   "source": [
    "tuple2"
   ]
  },
  {
   "cell_type": "code",
   "execution_count": 22,
   "id": "2aa2fe6b",
   "metadata": {},
   "outputs": [
    {
     "data": {
      "text/plain": [
       "5"
      ]
     },
     "execution_count": 22,
     "metadata": {},
     "output_type": "execute_result"
    }
   ],
   "source": [
    "len(tuple2)"
   ]
  },
  {
   "cell_type": "code",
   "execution_count": 23,
   "id": "8a00e26d",
   "metadata": {},
   "outputs": [
    {
     "data": {
      "text/plain": [
       "8"
      ]
     },
     "execution_count": 23,
     "metadata": {},
     "output_type": "execute_result"
    }
   ],
   "source": [
    "len(combine_tuple)"
   ]
  },
  {
   "cell_type": "markdown",
   "id": "ac349c56",
   "metadata": {},
   "source": [
    "## Sorting"
   ]
  },
  {
   "cell_type": "markdown",
   "id": "e82fecf5",
   "metadata": {},
   "source": [
    "Arrange the element in increasing or decrasing order."
   ]
  },
  {
   "cell_type": "code",
   "execution_count": 24,
   "id": "25291dfb",
   "metadata": {},
   "outputs": [
    {
     "data": {
      "text/plain": [
       "(1, 2, 3, 4, 5, 6, 4, 6)"
      ]
     },
     "execution_count": 24,
     "metadata": {},
     "output_type": "execute_result"
    }
   ],
   "source": [
    "rating=(1,2,3,4,5,6,4,6)\n",
    "rating"
   ]
  },
  {
   "cell_type": "code",
   "execution_count": 27,
   "id": "2a2887ab",
   "metadata": {},
   "outputs": [
    {
     "data": {
      "text/plain": [
       "[1, 2, 3, 4, 4, 5, 6, 6]"
      ]
     },
     "execution_count": 27,
     "metadata": {},
     "output_type": "execute_result"
    }
   ],
   "source": [
    "rating_sorted=sorted(rating,reverse=False)\n",
    "rating_sorted"
   ]
  },
  {
   "cell_type": "code",
   "execution_count": 28,
   "id": "5021d89a",
   "metadata": {},
   "outputs": [
    {
     "data": {
      "text/plain": [
       "(1, 2.5, 3.5, 'nikita')"
      ]
     },
     "execution_count": 28,
     "metadata": {},
     "output_type": "execute_result"
    }
   ],
   "source": [
    "rating2=(1,2.5,3.5,'nikita')\n",
    "rating2\n"
   ]
  },
  {
   "cell_type": "code",
   "execution_count": 29,
   "id": "c50f2a50",
   "metadata": {},
   "outputs": [
    {
     "ename": "TypeError",
     "evalue": "'<' not supported between instances of 'str' and 'float'",
     "output_type": "error",
     "traceback": [
      "\u001b[1;31m---------------------------------------------------------------------------\u001b[0m",
      "\u001b[1;31mTypeError\u001b[0m                                 Traceback (most recent call last)",
      "\u001b[1;32m~\\AppData\\Local\\Temp\\ipykernel_7892\\2703826088.py\u001b[0m in \u001b[0;36m<module>\u001b[1;34m\u001b[0m\n\u001b[1;32m----> 1\u001b[1;33m \u001b[0mrating2_sorted\u001b[0m\u001b[1;33m=\u001b[0m\u001b[0msorted\u001b[0m\u001b[1;33m(\u001b[0m\u001b[0mrating2\u001b[0m\u001b[1;33m)\u001b[0m\u001b[1;33m\u001b[0m\u001b[1;33m\u001b[0m\u001b[0m\n\u001b[0m\u001b[0;32m      2\u001b[0m \u001b[0mrating2_sorted\u001b[0m \u001b[1;31m# It is bcoz it can't compare between string and integer of float.String have not the value in number to compare.\u001b[0m\u001b[1;33m\u001b[0m\u001b[1;33m\u001b[0m\u001b[0m\n",
      "\u001b[1;31mTypeError\u001b[0m: '<' not supported between instances of 'str' and 'float'"
     ]
    }
   ],
   "source": [
    "rating2_sorted=sorted(rating2)\n",
    "rating2_sorted # It is bcoz it can't compare between string and integer of float.String have not the value in number to compare."
   ]
  },
  {
   "cell_type": "markdown",
   "id": "1cd9f915",
   "metadata": {},
   "source": [
    "## Stride/Step"
   ]
  },
  {
   "cell_type": "markdown",
   "id": "747b9266",
   "metadata": {},
   "source": [
    "Their are 3 range value,1st is from where to 2nd value to up to which index number(n-1) and 3rd is the difference."
   ]
  },
  {
   "cell_type": "code",
   "execution_count": 30,
   "id": "5160c0e1",
   "metadata": {},
   "outputs": [
    {
     "name": "stdout",
     "output_type": "stream",
     "text": [
      "(1, 2, 3, 4, 5, 6, 4, 6)\n"
     ]
    },
    {
     "data": {
      "text/plain": [
       "(3, 5, 4)"
      ]
     },
     "execution_count": 30,
     "metadata": {},
     "output_type": "execute_result"
    }
   ],
   "source": [
    "print(rating)\n",
    "rating[2:10:2]"
   ]
  },
  {
   "cell_type": "code",
   "execution_count": 31,
   "id": "260b9f97",
   "metadata": {},
   "outputs": [
    {
     "name": "stdout",
     "output_type": "stream",
     "text": [
      "(1, 2.5, 3.5, 'nikita')\n"
     ]
    },
    {
     "data": {
      "text/plain": [
       "(1, 3.5)"
      ]
     },
     "execution_count": 31,
     "metadata": {},
     "output_type": "execute_result"
    }
   ],
   "source": [
    "print(rating2)\n",
    "rating2[0:4:2]"
   ]
  },
  {
   "cell_type": "markdown",
   "id": "5ac28b8c",
   "metadata": {},
   "source": [
    "## Nested"
   ]
  },
  {
   "cell_type": "markdown",
   "id": "e01a6e77",
   "metadata": {},
   "source": [
    "Any data type contain another data type as well as other complex data type,the process is called Nested."
   ]
  },
  {
   "cell_type": "code",
   "execution_count": 32,
   "id": "f558294a",
   "metadata": {},
   "outputs": [
    {
     "data": {
      "text/plain": [
       "(1, 2, ('nikita', 'ankita'), (1.2, 3), ('shubham', (4, 5)), 'abc')"
      ]
     },
     "execution_count": 32,
     "metadata": {},
     "output_type": "execute_result"
    }
   ],
   "source": [
    "# Create tuple\n",
    "NT=(1,2,('nikita','ankita'),(1.2,3),(\"shubham\",(4,5)),(\"abc\"))\n",
    "NT"
   ]
  },
  {
   "cell_type": "code",
   "execution_count": 33,
   "id": "dd977681",
   "metadata": {},
   "outputs": [
    {
     "name": "stdout",
     "output_type": "stream",
     "text": [
      "1\n",
      "2\n",
      "('nikita', 'ankita')\n",
      "(1.2, 3)\n",
      "('shubham', (4, 5))\n",
      "abc\n"
     ]
    }
   ],
   "source": [
    "#Print element on each index\n",
    "print(NT[0])\n",
    "print(NT[1])\n",
    "print(NT[2])\n",
    "print(NT[3])\n",
    "print(NT[4])\n",
    "print(NT[5])        "
   ]
  },
  {
   "cell_type": "code",
   "execution_count": 34,
   "id": "00d25658",
   "metadata": {},
   "outputs": [
    {
     "name": "stdout",
     "output_type": "stream",
     "text": [
      "nikita\n",
      "ankita\n",
      "shubham\n",
      "(4, 5)\n",
      "4\n"
     ]
    }
   ],
   "source": [
    "# Print the second element of complex tuple each index\n",
    "print(NT[2][0])\n",
    "print(NT[2][1])\n",
    "print(NT[4][0])\n",
    "print(NT[4][1])\n",
    "print(NT[4][1][0])\n"
   ]
  }
 ],
 "metadata": {
  "kernelspec": {
   "display_name": "Python 3 (ipykernel)",
   "language": "python",
   "name": "python3"
  },
  "language_info": {
   "codemirror_mode": {
    "name": "ipython",
    "version": 3
   },
   "file_extension": ".py",
   "mimetype": "text/x-python",
   "name": "python",
   "nbconvert_exporter": "python",
   "pygments_lexer": "ipython3",
   "version": "3.9.13"
  }
 },
 "nbformat": 4,
 "nbformat_minor": 5
}
