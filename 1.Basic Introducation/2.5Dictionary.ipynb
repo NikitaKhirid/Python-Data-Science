{
 "cells": [
  {
   "cell_type": "markdown",
   "id": "fcd5ba7d",
   "metadata": {},
   "source": [
    "# Dictionary"
   ]
  },
  {
   "cell_type": "code",
   "execution_count": 1,
   "id": "8cf5fcc4",
   "metadata": {},
   "outputs": [],
   "source": [
    "#Elements are like combination/collection of keys & its respective values(meaning)\n",
    "#Key-value pair is a single element of dictionary\n",
    "#We can gives own index as key1,key2,.....so on\n",
    "#It give in {}like {key1:value1,key2:value2,key3:value3,.....so on}\n",
    "#It can handle keys & values of all data types\n",
    "#It is important that each key-value pair are sepreated by comma(,)\n",
    "#It is immutable(unchangeable)\n",
    "#Keys are before the (:) and values are after the (:)\n",
    "\n",
    "#A dictionary consists of keys and values. It is helpful to compare a dictionary to a list. \n",
    "#Instead of the numerical indexes such as a list, dictionaries have keys. \n",
    "#These keys are the keys that are used to access values within a dictionary."
   ]
  },
  {
   "cell_type": "code",
   "execution_count": 2,
   "id": "838c3c55",
   "metadata": {},
   "outputs": [
    {
     "data": {
      "text/plain": [
       "{'key1': 'nikita',\n",
       " 2.3: 1,\n",
       " (1, 2.5): [2, 'ankita'],\n",
       " 'shubham': 3.4,\n",
       " 'key': 'nikita'}"
      ]
     },
     "execution_count": 2,
     "metadata": {},
     "output_type": "execute_result"
    }
   ],
   "source": [
    "#Create an dictionary\n",
    "dic={\"key1\":\"nikita\",2.3:1,(1,2.5):[2,'ankita'],'shubham':3.4,\"key\":\"nikita\"}\n",
    "dic"
   ]
  },
  {
   "cell_type": "code",
   "execution_count": 3,
   "id": "2d7ff3c2",
   "metadata": {},
   "outputs": [
    {
     "data": {
      "text/plain": [
       "1"
      ]
     },
     "execution_count": 3,
     "metadata": {},
     "output_type": "execute_result"
    }
   ],
   "source": [
    "#To access the value use always key\n",
    "dic[2.3]"
   ]
  },
  {
   "cell_type": "code",
   "execution_count": 4,
   "id": "00608de4",
   "metadata": {},
   "outputs": [
    {
     "data": {
      "text/plain": [
       "[2, 'ankita']"
      ]
     },
     "execution_count": 4,
     "metadata": {},
     "output_type": "execute_result"
    }
   ],
   "source": [
    "dic[(1,2.5)]"
   ]
  },
  {
   "cell_type": "markdown",
   "id": "92d60577",
   "metadata": {},
   "source": [
    "Each key is separated from its value by a colon\":\".Commas separate the item,and the whole dictionary is enclosed in curly brackets.An empty dictionary without any items is written with just two curly brackets like this\"{}\".For every key,there can only be single value.however,multiple keys can hold the same value.Keys can only be string,numbers,or tuples,but values can be any data type."
   ]
  },
  {
   "cell_type": "code",
   "execution_count": 5,
   "id": "129cdece",
   "metadata": {},
   "outputs": [
    {
     "data": {
      "text/plain": [
       "{'Thriller': '1982',\n",
       " 'Back and Black': '1980',\n",
       " 'The dark side of the moon': '1973',\n",
       " 'The bodyguard': '1992',\n",
       " 'Bat out of hell': '1977',\n",
       " 'Their greatest hits(1971)': '1976',\n",
       " 'Saturday night fever': '1977',\n",
       " 'Rumos': '1977'}"
      ]
     },
     "execution_count": 5,
     "metadata": {},
     "output_type": "execute_result"
    }
   ],
   "source": [
    "#Create a dictionary\n",
    "release_year_dict={\"Thriller\":\"1982\",\"Back and Black\":\"1980\",\\\n",
    "                  \"The dark side of the moon\":\"1973\",\"The bodyguard\":\"1992\",\\\n",
    "                  \"Bat out of hell\":\"1977\",\"Their greatest hits(1971)\":\"1976\",\\\n",
    "                  \"Saturday night fever\":\"1977\",\"Rumos\":\"1977\"}\n",
    "release_year_dict"
   ]
  },
  {
   "cell_type": "code",
   "execution_count": 6,
   "id": "b9707bc6",
   "metadata": {},
   "outputs": [
    {
     "data": {
      "text/plain": [
       "'1980'"
      ]
     },
     "execution_count": 6,
     "metadata": {},
     "output_type": "execute_result"
    }
   ],
   "source": [
    "#Get values by keys\n",
    "release_year_dict[\"Back and Black\"]"
   ]
  },
  {
   "cell_type": "code",
   "execution_count": 7,
   "id": "c688a6d7",
   "metadata": {},
   "outputs": [
    {
     "data": {
      "text/plain": [
       "dict_keys(['Thriller', 'Back and Black', 'The dark side of the moon', 'The bodyguard', 'Bat out of hell', 'Their greatest hits(1971)', 'Saturday night fever', 'Rumos'])"
      ]
     },
     "execution_count": 7,
     "metadata": {},
     "output_type": "execute_result"
    }
   ],
   "source": [
    "#Get all the keys in dictionary\n",
    "release_year_dict.keys()"
   ]
  },
  {
   "cell_type": "code",
   "execution_count": 8,
   "id": "ff64e576",
   "metadata": {},
   "outputs": [
    {
     "data": {
      "text/plain": [
       "dict_values(['1982', '1980', '1973', '1992', '1977', '1976', '1977', '1977'])"
      ]
     },
     "execution_count": 8,
     "metadata": {},
     "output_type": "execute_result"
    }
   ],
   "source": [
    "#Get all the values in dictionary\n",
    "release_year_dict.values()"
   ]
  },
  {
   "cell_type": "code",
   "execution_count": 9,
   "id": "dd5a8ca3",
   "metadata": {},
   "outputs": [],
   "source": [
    "#Append(Add) the value with keys in dictionary\n",
    "release_year_dict[\"graduation\"]=\"2002\""
   ]
  },
  {
   "cell_type": "code",
   "execution_count": 10,
   "id": "9f698f59",
   "metadata": {},
   "outputs": [
    {
     "data": {
      "text/plain": [
       "{'Thriller': '1982',\n",
       " 'Back and Black': '1980',\n",
       " 'The dark side of the moon': '1973',\n",
       " 'The bodyguard': '1992',\n",
       " 'Bat out of hell': '1977',\n",
       " 'Their greatest hits(1971)': '1976',\n",
       " 'Saturday night fever': '1977',\n",
       " 'Rumos': '1977',\n",
       " 'graduation': '2002'}"
      ]
     },
     "execution_count": 10,
     "metadata": {},
     "output_type": "execute_result"
    }
   ],
   "source": [
    "release_year_dict"
   ]
  },
  {
   "cell_type": "code",
   "execution_count": 14,
   "id": "db557537",
   "metadata": {},
   "outputs": [
    {
     "data": {
      "text/plain": [
       "{'Thriller': '1982',\n",
       " 'Back and Black': '1980',\n",
       " 'The dark side of the moon': '1973',\n",
       " 'The bodyguard': '1992',\n",
       " 'Bat out of hell': '1977',\n",
       " 'Their greatest hits(1971)': '1976',\n",
       " 'Saturday night fever': '1977',\n",
       " 'Rumos': '1977'}"
      ]
     },
     "execution_count": 14,
     "metadata": {},
     "output_type": "execute_result"
    }
   ],
   "source": [
    "#Delete any element in dictionary use key automatically values also deleted corresponding\n",
    "del(release_year_dict['graduation'])\n",
    "release_year_dict"
   ]
  },
  {
   "cell_type": "code",
   "execution_count": 15,
   "id": "68f8daf2",
   "metadata": {},
   "outputs": [
    {
     "data": {
      "text/plain": [
       "True"
      ]
     },
     "execution_count": 15,
     "metadata": {},
     "output_type": "execute_result"
    }
   ],
   "source": [
    "#Verify the keys is in the dictionary \n",
    "\"Back and Black\" in release_year_dict #To check exciting of any element by the using key of dictionary."
   ]
  }
 ],
 "metadata": {
  "kernelspec": {
   "display_name": "Python 3 (ipykernel)",
   "language": "python",
   "name": "python3"
  },
  "language_info": {
   "codemirror_mode": {
    "name": "ipython",
    "version": 3
   },
   "file_extension": ".py",
   "mimetype": "text/x-python",
   "name": "python",
   "nbconvert_exporter": "python",
   "pygments_lexer": "ipython3",
   "version": "3.9.13"
  }
 },
 "nbformat": 4,
 "nbformat_minor": 5
}
