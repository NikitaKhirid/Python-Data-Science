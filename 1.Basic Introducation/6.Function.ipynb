{
 "cells": [
  {
   "cell_type": "markdown",
   "id": "a6fd5b3c",
   "metadata": {},
   "source": [
    "# Function"
   ]
  },
  {
   "cell_type": "markdown",
   "id": "e7e4b752",
   "metadata": {},
   "source": [
    "A function is a reusable(when it needed we call n time) block of code which performs operations specified in the function.They let you break down tasks & allow you to reuse your code in different programs.There are two type of functions:\n",
    "\n",
    "   #### Pre-defined function:In built function(ready to use)\n",
    "   ##### User-defined function:we want to create it (it is not inbuilt)"
   ]
  },
  {
   "cell_type": "markdown",
   "id": "5bf4465c",
   "metadata": {},
   "source": [
    "**Rules :**\n",
    "\n",
    "- Function blocks begin with def followed by the function name and paranthesis(no. of parameters)\n",
    "\n",
    "- There are input parameters or arguments that should be placed within these parenthesis.\n",
    "\n",
    "- You can also define parameters inside these parenthesis.\n",
    "\n",
    "- There is a body within every function that starts with a colon(:) & is indented.\n",
    "\n",
    "- You can also placed documentation before the body.(comment)\n",
    "\n",
    "- The statement return exists a function,optionally passing back a value.(for that function what we want to back use in return)\n"
   ]
  },
  {
   "cell_type": "code",
   "execution_count": 1,
   "id": "fffa342b",
   "metadata": {},
   "outputs": [],
   "source": [
    "#First function example:Add 1 to a and store as b\n",
    "\n",
    "def add(a):\n",
    "    b=a+1\n",
    "    print(a,\"if we add one\",b)\n",
    "    return(b)\n",
    "#from that function output what we want to back from that function(i.e result store in print will return back to me)"
   ]
  },
  {
   "cell_type": "code",
   "execution_count": 2,
   "id": "622e92c4",
   "metadata": {},
   "outputs": [
    {
     "name": "stdout",
     "output_type": "stream",
     "text": [
      "5 if we add one 6\n"
     ]
    },
    {
     "data": {
      "text/plain": [
       "6"
      ]
     },
     "execution_count": 2,
     "metadata": {},
     "output_type": "execute_result"
    }
   ],
   "source": [
    "#Call the function using user-defined function(add())\n",
    "\n",
    "add(5)"
   ]
  },
  {
   "cell_type": "code",
   "execution_count": 3,
   "id": "26934c34",
   "metadata": {},
   "outputs": [
    {
     "name": "stdout",
     "output_type": "stream",
     "text": [
      "Help on function add in module __main__:\n",
      "\n",
      "add(a)\n",
      "\n"
     ]
    }
   ],
   "source": [
    "#Get an help on add function\n",
    "help(add)"
   ]
  },
  {
   "cell_type": "code",
   "execution_count": 4,
   "id": "f9be81c0",
   "metadata": {},
   "outputs": [],
   "source": [
    "#Define function for multiple two numbers\n",
    "def mult(a , b):\n",
    "    c= a * b\n",
    "    return(c)"
   ]
  },
  {
   "cell_type": "code",
   "execution_count": 5,
   "id": "2ea8f268",
   "metadata": {},
   "outputs": [
    {
     "data": {
      "text/plain": [
       "6"
      ]
     },
     "execution_count": 5,
     "metadata": {},
     "output_type": "execute_result"
    }
   ],
   "source": [
    "#Use mult()multiply two integer\n",
    "mult(2,3)"
   ]
  },
  {
   "cell_type": "code",
   "execution_count": 6,
   "id": "8ba30af2",
   "metadata": {},
   "outputs": [],
   "source": [
    "#Define function for division two numbers\n",
    "def div(a, b):\n",
    "    c=a / b\n",
    "    return(c)"
   ]
  },
  {
   "cell_type": "code",
   "execution_count": 7,
   "id": "382b1bac",
   "metadata": {},
   "outputs": [
    {
     "data": {
      "text/plain": [
       "5.0"
      ]
     },
     "execution_count": 7,
     "metadata": {},
     "output_type": "execute_result"
    }
   ],
   "source": [
    "#Use div() division two integer\n",
    "div(10,2)"
   ]
  },
  {
   "cell_type": "markdown",
   "id": "7ed009cc",
   "metadata": {},
   "source": [
    "We can also mult the string with integer"
   ]
  },
  {
   "cell_type": "code",
   "execution_count": 8,
   "id": "41e75b1f",
   "metadata": {},
   "outputs": [
    {
     "data": {
      "text/plain": [
       "' Nikita  Nikita '"
      ]
     },
     "execution_count": 8,
     "metadata": {},
     "output_type": "execute_result"
    }
   ],
   "source": [
    "#Use mult()multiply two different type values together.\n",
    "mult(2 ,\" Nikita \")"
   ]
  },
  {
   "cell_type": "markdown",
   "id": "41e56e0b",
   "metadata": {},
   "source": [
    "## Variables"
   ]
  },
  {
   "cell_type": "markdown",
   "id": "bc747711",
   "metadata": {},
   "source": [
    "The input to a function is called a formal parameter.(i.e also called global variable)\n",
    "  \n",
    "  A variable that is declared inside a function is called a local variable.The paramters only exists within the function(i.e. the point where the function starts and stops.)\n",
    "  \n",
    "  A variable that is declared outside a function defination is a global variable,and its value is accessiable and modifiable throughout the program.We will discuss more about global variables at the endnof the lab.\n",
    "\n",
    "  "
   ]
  },
  {
   "cell_type": "code",
   "execution_count": 9,
   "id": "67a28dc9",
   "metadata": {},
   "outputs": [],
   "source": [
    "#Define the function\n",
    "#if we declared variable outside the function then it is called global variable.\n",
    "def square(a):#a is formal variable\n",
    "    b=1   #Local variable=declared inside the function.so it is accesable for only this function.(i.e b,c)\n",
    "    c=a*a+b\n",
    "    print(a,\"If square of a and add one\",c)\n",
    "    return(c)"
   ]
  },
  {
   "cell_type": "code",
   "execution_count": 10,
   "id": "a6329dc0",
   "metadata": {},
   "outputs": [
    {
     "ename": "NameError",
     "evalue": "name 'b' is not defined",
     "output_type": "error",
     "traceback": [
      "\u001b[1;31m---------------------------------------------------------------------------\u001b[0m",
      "\u001b[1;31mNameError\u001b[0m                                 Traceback (most recent call last)",
      "\u001b[1;32m~\\AppData\\Local\\Temp\\ipykernel_5528\\3392656275.py\u001b[0m in \u001b[0;36m<module>\u001b[1;34m\u001b[0m\n\u001b[1;32m----> 1\u001b[1;33m \u001b[0mb\u001b[0m\u001b[1;31m# This error is found bcoz it is local variable it is accesiable only for square function\u001b[0m\u001b[1;33m\u001b[0m\u001b[1;33m\u001b[0m\u001b[0m\n\u001b[0m",
      "\u001b[1;31mNameError\u001b[0m: name 'b' is not defined"
     ]
    }
   ],
   "source": [
    "b# This error is found bcoz it is local variable it is accesiable only for square function"
   ]
  },
  {
   "cell_type": "code",
   "execution_count": 11,
   "id": "6a56b01a",
   "metadata": {},
   "outputs": [],
   "source": [
    "b=1 #global variable=declared outside the function.so it is accesable for throghout ths program\n",
    "def square(a):\n",
    "    c=a*a+b\n",
    "    print(a,\"If square of a and add one\",c)\n",
    "    return(c)"
   ]
  },
  {
   "cell_type": "code",
   "execution_count": 12,
   "id": "eafc05a3",
   "metadata": {},
   "outputs": [
    {
     "data": {
      "text/plain": [
       "1"
      ]
     },
     "execution_count": 12,
     "metadata": {},
     "output_type": "execute_result"
    }
   ],
   "source": [
    "b#Here we get b value bcoz it is global variable"
   ]
  },
  {
   "cell_type": "code",
   "execution_count": 13,
   "id": "b5e90b9b",
   "metadata": {},
   "outputs": [
    {
     "name": "stdout",
     "output_type": "stream",
     "text": [
      "2 If square of a and add one 5\n"
     ]
    },
    {
     "data": {
      "text/plain": [
       "5"
      ]
     },
     "execution_count": 13,
     "metadata": {},
     "output_type": "execute_result"
    }
   ],
   "source": [
    "#Call the square function \n",
    "square(2)"
   ]
  },
  {
   "cell_type": "code",
   "execution_count": 14,
   "id": "9639ba42",
   "metadata": {},
   "outputs": [
    {
     "name": "stdout",
     "output_type": "stream",
     "text": [
      "3 If square of a and add one 10\n"
     ]
    },
    {
     "data": {
      "text/plain": [
       "10"
      ]
     },
     "execution_count": 14,
     "metadata": {},
     "output_type": "execute_result"
    }
   ],
   "source": [
    "#Initilize gobal variable\n",
    "x=3           #We use this logic a=b   & b=c   then a=c(x=3 & x=a  then a=3)\n",
    "#Make function call and return function a y\n",
    "y=square(x)\n",
    "y\n",
    "#print statement is written inside the function output so it is printed and if we use return then in output give in output[cell]"
   ]
  },
  {
   "cell_type": "code",
   "execution_count": 15,
   "id": "31dea642",
   "metadata": {},
   "outputs": [],
   "source": [
    "#Define function,one with return value None and other without return value\n",
    "def MJ():\n",
    "    print(\" Nikita Khirid \")  \n",
    "#if we return(print(\"Nikita Khirid\")) like this it is not string it is variable so it is not in output(i.e it print is inbuilt function so it in fucntion not in output)   \n",
    "    \n",
    "def MJ1():\n",
    "    print(\" Nikita Khirid \")\n",
    "    return(None)#none=nothing"
   ]
  },
  {
   "cell_type": "code",
   "execution_count": 16,
   "id": "ab79b5b7",
   "metadata": {},
   "outputs": [
    {
     "name": "stdout",
     "output_type": "stream",
     "text": [
      " Nikita Khirid \n"
     ]
    }
   ],
   "source": [
    "#See the output\n",
    "MJ()#That is assecuted this function we print it.not the return any output"
   ]
  },
  {
   "cell_type": "code",
   "execution_count": 17,
   "id": "6b5117d7",
   "metadata": {},
   "outputs": [
    {
     "name": "stdout",
     "output_type": "stream",
     "text": [
      " Nikita Khirid \n"
     ]
    }
   ],
   "source": [
    "#See the output\n",
    "MJ1()#Here we write the return but none so it dont give any output it just print the function"
   ]
  },
  {
   "cell_type": "code",
   "execution_count": 18,
   "id": "1e339963",
   "metadata": {},
   "outputs": [],
   "source": [
    "def con (a, b):\n",
    "    c = a + b\n",
    "    print(a, \"If we add\", c)\n",
    "    return(c)"
   ]
  },
  {
   "cell_type": "code",
   "execution_count": 19,
   "id": "bad3483f",
   "metadata": {},
   "outputs": [
    {
     "name": "stdout",
     "output_type": "stream",
     "text": [
      " Nikita  If we add  Nikita  Khirid \n"
     ]
    },
    {
     "data": {
      "text/plain": [
       "' Nikita  Khirid '"
      ]
     },
     "execution_count": 19,
     "metadata": {},
     "output_type": "execute_result"
    }
   ],
   "source": [
    "con ( \" Nikita \",\" Khirid \")"
   ]
  },
  {
   "cell_type": "code",
   "execution_count": 20,
   "id": "bf666147",
   "metadata": {},
   "outputs": [],
   "source": [
    "def factorial(x):\n",
    "    if x==0:\n",
    "        return 1\n",
    "    else:\n",
    "        return x * factorial(x-1)"
   ]
  },
  {
   "cell_type": "code",
   "execution_count": 21,
   "id": "6c9f5324",
   "metadata": {},
   "outputs": [
    {
     "name": "stdout",
     "output_type": "stream",
     "text": [
      "6\n"
     ]
    }
   ],
   "source": [
    "print(factorial(3))"
   ]
  },
  {
   "cell_type": "code",
   "execution_count": 22,
   "id": "269e81a8",
   "metadata": {},
   "outputs": [
    {
     "name": "stdout",
     "output_type": "stream",
     "text": [
      "Circle area with radius 15: 706.5\n",
      "Sphere area with radius 10: 400\n"
     ]
    }
   ],
   "source": [
    "pi=3.14\n",
    "def circleArea(radius):\n",
    "    return (pi*radius*radius)\n",
    "\n",
    "def sphereArea(radius):\n",
    "    return (4*radius*radius)\n",
    "\n",
    "def main():\n",
    "    print(\"Circle area with radius 15:\",circleArea(15))\n",
    "    print(\"Sphere area with radius 10:\",sphereArea(10))\n",
    "    \n",
    "main()"
   ]
  },
  {
   "cell_type": "markdown",
   "id": "36264c30",
   "metadata": {},
   "source": [
    "## Functions make things simple"
   ]
  },
  {
   "cell_type": "markdown",
   "id": "aa5118d8",
   "metadata": {},
   "source": [
    "Consider the two lines of code in Block1 and Block2:the procedure for each block is identical.The only thing that is different is the variable names and values."
   ]
  },
  {
   "cell_type": "markdown",
   "id": "3975f7ba",
   "metadata": {},
   "source": [
    "## Block 1:"
   ]
  },
  {
   "cell_type": "code",
   "execution_count": 23,
   "id": "70947782",
   "metadata": {},
   "outputs": [
    {
     "data": {
      "text/plain": [
       "8"
      ]
     },
     "execution_count": 23,
     "metadata": {},
     "output_type": "execute_result"
    }
   ],
   "source": [
    "a1=4\n",
    "b1=2\n",
    "c1=3\n",
    "d1=a1+2*b1+c1-3\n",
    "if(d1<0):\n",
    "    d1=0\n",
    "else:\n",
    "    d1\n",
    "d1    "
   ]
  },
  {
   "cell_type": "markdown",
   "id": "301864dd",
   "metadata": {},
   "source": [
    "## Block 2:"
   ]
  },
  {
   "cell_type": "code",
   "execution_count": 24,
   "id": "2a16fd04",
   "metadata": {},
   "outputs": [
    {
     "data": {
      "text/plain": [
       "0"
      ]
     },
     "execution_count": 24,
     "metadata": {},
     "output_type": "execute_result"
    }
   ],
   "source": [
    "a2=0\n",
    "b2=0\n",
    "c2=0\n",
    "d2=a2+2*b2+c2-3\n",
    "if(d2<0):\n",
    "    d2=0\n",
    "else:\n",
    "    d2\n",
    "d2    "
   ]
  },
  {
   "cell_type": "markdown",
   "id": "cd451f00",
   "metadata": {},
   "source": [
    "We can replace the line of code with a function.A function combines many instructions combine many instructions into a single line of code.Once a function is defined,it can be used repeatedly.You can invole the same function many times in your program.You can save your function and use it in another program or use someone else's function.The lines of code Block1 and code Block2 can be replaced by the following function:"
   ]
  },
  {
   "cell_type": "code",
   "execution_count": 25,
   "id": "53db2b6b",
   "metadata": {},
   "outputs": [],
   "source": [
    "#Make function for the calculation above\n",
    "def equation(a,b,c):\n",
    "    d=a+2*b+c-3\n",
    "    if(d<0):\n",
    "        d=0\n",
    "    else:\n",
    "        print(d)\n",
    "    return(d)    "
   ]
  },
  {
   "cell_type": "markdown",
   "id": "0816e27b",
   "metadata": {},
   "source": [
    "## Block 3:"
   ]
  },
  {
   "cell_type": "code",
   "execution_count": 26,
   "id": "b7c71571",
   "metadata": {},
   "outputs": [
    {
     "name": "stdout",
     "output_type": "stream",
     "text": [
      "13\n"
     ]
    },
    {
     "data": {
      "text/plain": [
       "13"
      ]
     },
     "execution_count": 26,
     "metadata": {},
     "output_type": "execute_result"
    }
   ],
   "source": [
    "a=4\n",
    "b=5\n",
    "c=2\n",
    "d=equation(a,b,c)\n",
    "d"
   ]
  },
  {
   "cell_type": "markdown",
   "id": "afd1496f",
   "metadata": {},
   "source": [
    "## Block 4:"
   ]
  },
  {
   "cell_type": "code",
   "execution_count": 27,
   "id": "5fe7361b",
   "metadata": {},
   "outputs": [
    {
     "data": {
      "text/plain": [
       "0"
      ]
     },
     "execution_count": 27,
     "metadata": {},
     "output_type": "execute_result"
    }
   ],
   "source": [
    "a=0\n",
    "b=0\n",
    "c=0\n",
    "d=equation(a,b,c)\n",
    "d"
   ]
  },
  {
   "cell_type": "code",
   "execution_count": 28,
   "id": "deec0b5c",
   "metadata": {},
   "outputs": [
    {
     "data": {
      "text/plain": [
       "0"
      ]
     },
     "execution_count": 28,
     "metadata": {},
     "output_type": "execute_result"
    }
   ],
   "source": [
    "#We can directly call the function also\n",
    "equation(0,0,1)"
   ]
  },
  {
   "cell_type": "markdown",
   "id": "a8881315",
   "metadata": {},
   "source": [
    "## Pre-defined function\n",
    "     Their are many pre-defined function."
   ]
  },
  {
   "cell_type": "code",
   "execution_count": 29,
   "id": "ec2ff07e",
   "metadata": {},
   "outputs": [
    {
     "name": "stdout",
     "output_type": "stream",
     "text": [
      "[10.0, 8.5, 8, 9, 5.2, 2.8]\n"
     ]
    }
   ],
   "source": [
    "#Built-in function print()\n",
    "album_rating=[10.0,8.5,8,9,5.2,2.8]\n",
    "print(album_rating)#pre-defined function"
   ]
  },
  {
   "cell_type": "code",
   "execution_count": 30,
   "id": "2856f278",
   "metadata": {},
   "outputs": [
    {
     "data": {
      "text/plain": [
       "43.5"
      ]
     },
     "execution_count": 30,
     "metadata": {},
     "output_type": "execute_result"
    }
   ],
   "source": [
    "#Use sum()to add every element in a list or tuple together but condition is all are integer or float\n",
    "sum(album_rating)"
   ]
  },
  {
   "cell_type": "code",
   "execution_count": 31,
   "id": "202aba3b",
   "metadata": {},
   "outputs": [
    {
     "data": {
      "text/plain": [
       "6"
      ]
     },
     "execution_count": 31,
     "metadata": {},
     "output_type": "execute_result"
    }
   ],
   "source": [
    "#Show the length of the list or tuple\n",
    "len(album_rating)"
   ]
  },
  {
   "cell_type": "markdown",
   "id": "f22d2008",
   "metadata": {},
   "source": [
    "## Using if_else Statements and Loops in functions"
   ]
  },
  {
   "cell_type": "markdown",
   "id": "3ee668c1",
   "metadata": {},
   "source": [
    "The return() function is particularly  useful if you have any IF statements in the function,when you want your output to be dependent on some sondition:"
   ]
  },
  {
   "cell_type": "code",
   "execution_count": 32,
   "id": "aa1c5872",
   "metadata": {},
   "outputs": [],
   "source": [
    "#Function example\n",
    "\n",
    "def type_of_year(artics,album,release_year):\n",
    "    \n",
    "    print(\"artics,album,release_year\")\n",
    "    if (release_year>1980):\n",
    "        return \"Modern\"\n",
    "    else:\n",
    "        return \"Oldie\"\n"
   ]
  },
  {
   "cell_type": "code",
   "execution_count": 33,
   "id": "bb42837a",
   "metadata": {},
   "outputs": [
    {
     "name": "stdout",
     "output_type": "stream",
     "text": [
      "artics,album,release_year\n",
      "Modern\n"
     ]
    }
   ],
   "source": [
    "x=type_of_year(\"Nikita\",\"Doughter\",2001)\n",
    "print(x)\n",
    "#While calling the function we remember the sequence bcoz it goes with sequentially"
   ]
  },
  {
   "cell_type": "code",
   "execution_count": 34,
   "id": "0fd4620e",
   "metadata": {},
   "outputs": [
    {
     "name": "stdout",
     "output_type": "stream",
     "text": [
      "Enter the release_year1970\n",
      "1970\n"
     ]
    }
   ],
   "source": [
    "release_year=int(input(\"Enter the release_year\"))\n",
    "print(release_year)\n",
    "def type_of_year(artics,album,release_year):\n",
    "    \n",
    "    print(\"artics,album,release_year\")\n",
    "    if (release_year>1980):\n",
    "        return \"Modern\"\n",
    "    else:\n",
    "        return \"Oldie\""
   ]
  },
  {
   "cell_type": "code",
   "execution_count": 35,
   "id": "02967957",
   "metadata": {},
   "outputs": [
    {
     "name": "stdout",
     "output_type": "stream",
     "text": [
      "artics,album,release_year\n"
     ]
    },
    {
     "data": {
      "text/plain": [
       "'Oldie'"
      ]
     },
     "execution_count": 35,
     "metadata": {},
     "output_type": "execute_result"
    }
   ],
   "source": [
    "type_of_year(\"Nikita\",\"doughter\",release_year)"
   ]
  },
  {
   "cell_type": "code",
   "execution_count": 36,
   "id": "3cd9b383",
   "metadata": {},
   "outputs": [],
   "source": [
    "#we can print out each element in a list:\n",
    "\n",
    "def Printlist(the_list):\n",
    "    for element in the_list:\n",
    "        print(element)"
   ]
  },
  {
   "cell_type": "code",
   "execution_count": 37,
   "id": "87c1627d",
   "metadata": {},
   "outputs": [
    {
     "name": "stdout",
     "output_type": "stream",
     "text": [
      "1\n",
      "2\n",
      "The moon\n",
      "abc\n"
     ]
    }
   ],
   "source": [
    "Printlist([\"1\",2,\"The moon\",'abc'])"
   ]
  },
  {
   "cell_type": "code",
   "execution_count": 38,
   "id": "c327f87c",
   "metadata": {},
   "outputs": [],
   "source": [
    "#for update the list using function \n",
    "def print_list(the_list):\n",
    "    \n",
    "    for i in the_list:\n",
    "        if i==1:\n",
    "            the_list[i]=\"Ashwini\"\n",
    "    print(the_list)       "
   ]
  },
  {
   "cell_type": "code",
   "execution_count": 39,
   "id": "0041e9ae",
   "metadata": {},
   "outputs": [
    {
     "name": "stdout",
     "output_type": "stream",
     "text": [
      "[1, 'Ashwini', 'Nikita', 'ankita']\n"
     ]
    }
   ],
   "source": [
    "print_list([1,2,\"Nikita\",'ankita'])"
   ]
  },
  {
   "cell_type": "code",
   "execution_count": 40,
   "id": "b027dde2",
   "metadata": {},
   "outputs": [],
   "source": [
    "def printlist(the_list):\n",
    "    for i in the_list:\n",
    "        if (i>5):\n",
    "            i=\"big number\"\n",
    "        else:\n",
    "            i=\"small number\"  \n",
    "        print(i)"
   ]
  },
  {
   "cell_type": "code",
   "execution_count": 41,
   "id": "f2aa74d1",
   "metadata": {},
   "outputs": [
    {
     "name": "stdout",
     "output_type": "stream",
     "text": [
      "small number\n",
      "small number\n",
      "big number\n",
      "small number\n",
      "None\n"
     ]
    }
   ],
   "source": [
    "x=printlist([2,3.6,9,0])\n",
    "print(x)"
   ]
  },
  {
   "cell_type": "code",
   "execution_count": 42,
   "id": "07263f6b",
   "metadata": {},
   "outputs": [],
   "source": [
    "def printlist(the_list):\n",
    "    for i in the_list:\n",
    "        if (i=='khirid'):\n",
    "            the_list[0]=\"Nikita\"\n",
    "        elif (i=='abc'):\n",
    "            the_list[1]=\"Ankita\"\n",
    "    print(the_list)    "
   ]
  },
  {
   "cell_type": "code",
   "execution_count": 43,
   "id": "0e31b92f",
   "metadata": {},
   "outputs": [
    {
     "name": "stdout",
     "output_type": "stream",
     "text": [
      "['abc', 'Ankita', 2.3, 'ashwini']\n"
     ]
    }
   ],
   "source": [
    "printlist(['abc',1,2.3,\"ashwini\"])"
   ]
  },
  {
   "cell_type": "markdown",
   "id": "633e614d",
   "metadata": {},
   "source": [
    "## Setting default argument values in your custom functions"
   ]
  },
  {
   "cell_type": "markdown",
   "id": "bfd4bbb9",
   "metadata": {},
   "source": [
    "You can set a default value for arguments in your function.If we wanted to create a thershold for what we consider to be.\n",
    "    If we dont have value but we want output then default argument will pass in function"
   ]
  },
  {
   "cell_type": "markdown",
   "id": "a0f9c28a",
   "metadata": {},
   "source": [
    "default argument=parameter value"
   ]
  },
  {
   "cell_type": "code",
   "execution_count": 44,
   "id": "aa6cbd93",
   "metadata": {},
   "outputs": [],
   "source": [
    "#Example for setting parameter with default value \n",
    "def isGoodRating(rating=10):\n",
    "    if (rating>15):\n",
    "        print(\"This album suck's it's rating is : \",rating)\n",
    "    else:\n",
    "        print(\"THis album is good it's rating is : \",rating)"
   ]
  },
  {
   "cell_type": "code",
   "execution_count": 45,
   "id": "f1621e68",
   "metadata": {},
   "outputs": [
    {
     "name": "stdout",
     "output_type": "stream",
     "text": [
      "THis album is good it's rating is :  10\n",
      "This album suck's it's rating is :  19\n"
     ]
    }
   ],
   "source": [
    "isGoodRating()#Here is no error bcoz we give the default value/argument\n",
    "isGoodRating(19)"
   ]
  },
  {
   "cell_type": "code",
   "execution_count": 46,
   "id": "a3e65dd4",
   "metadata": {},
   "outputs": [],
   "source": [
    "def isGoodRating(rating):\n",
    "    if (rating>15):\n",
    "        print(\"This album suck's it's rating is : \",rating)\n",
    "    else:\n",
    "        print(\"THis album is good it's rating is : \",rating)"
   ]
  },
  {
   "cell_type": "code",
   "execution_count": 47,
   "id": "1a464550",
   "metadata": {},
   "outputs": [
    {
     "ename": "TypeError",
     "evalue": "isGoodRating() missing 1 required positional argument: 'rating'",
     "output_type": "error",
     "traceback": [
      "\u001b[1;31m---------------------------------------------------------------------------\u001b[0m",
      "\u001b[1;31mTypeError\u001b[0m                                 Traceback (most recent call last)",
      "\u001b[1;32m~\\AppData\\Local\\Temp\\ipykernel_5528\\3803161785.py\u001b[0m in \u001b[0;36m<module>\u001b[1;34m\u001b[0m\n\u001b[1;32m----> 1\u001b[1;33m \u001b[0misGoodRating\u001b[0m\u001b[1;33m(\u001b[0m\u001b[1;33m)\u001b[0m\u001b[1;31m#it give error bcoz we dont give any value here\u001b[0m\u001b[1;33m\u001b[0m\u001b[1;33m\u001b[0m\u001b[0m\n\u001b[0m",
      "\u001b[1;31mTypeError\u001b[0m: isGoodRating() missing 1 required positional argument: 'rating'"
     ]
    }
   ],
   "source": [
    "isGoodRating()#it give error bcoz we dont give any value here"
   ]
  },
  {
   "cell_type": "markdown",
   "id": "b6bb0648",
   "metadata": {},
   "source": [
    "## Global Variable"
   ]
  },
  {
   "cell_type": "markdown",
   "id": "2d9137b1",
   "metadata": {},
   "source": [
    "We've been creating variables within function,but we have not discussed variables outside  the function.These are called global variable"
   ]
  },
  {
   "cell_type": "code",
   "execution_count": 48,
   "id": "45beca70",
   "metadata": {},
   "outputs": [
    {
     "name": "stdout",
     "output_type": "stream",
     "text": [
      "Nikita Khirid is an artist\n"
     ]
    },
    {
     "ename": "NameError",
     "evalue": "name 'internal_var' is not defined",
     "output_type": "error",
     "traceback": [
      "\u001b[1;31m---------------------------------------------------------------------------\u001b[0m",
      "\u001b[1;31mNameError\u001b[0m                                 Traceback (most recent call last)",
      "\u001b[1;32m~\\AppData\\Local\\Temp\\ipykernel_5528\\239042722.py\u001b[0m in \u001b[0;36m<module>\u001b[1;34m\u001b[0m\n\u001b[0;32m      7\u001b[0m \u001b[1;33m\u001b[0m\u001b[0m\n\u001b[0;32m      8\u001b[0m \u001b[0mprinter1\u001b[0m\u001b[1;33m(\u001b[0m\u001b[0martist\u001b[0m\u001b[1;33m)\u001b[0m\u001b[1;33m\u001b[0m\u001b[1;33m\u001b[0m\u001b[0m\n\u001b[1;32m----> 9\u001b[1;33m \u001b[0mprinter1\u001b[0m\u001b[1;33m(\u001b[0m\u001b[0minternal_var\u001b[0m\u001b[1;33m)\u001b[0m\u001b[1;31m#it is bcoz internal_var is internal variable it is assecable only for function.\u001b[0m\u001b[1;33m\u001b[0m\u001b[1;33m\u001b[0m\u001b[0m\n\u001b[0m",
      "\u001b[1;31mNameError\u001b[0m: name 'internal_var' is not defined"
     ]
    }
   ],
   "source": [
    "#Example of global variable\n",
    "\n",
    "artist=\"Nikita Khirid\"#global variable\n",
    "def printer1(artist):\n",
    "    internal_var=artist#here we store the artist but it is local variable so it through an eroor\n",
    "    print(artist,\"is an artist\")#here artist can print bcoz it is global so assceable for function also.\n",
    "\n",
    "printer1(artist) \n",
    "printer1(internal_var)#it is bcoz internal_var is internal variable it is assecable only for function."
   ]
  },
  {
   "cell_type": "code",
   "execution_count": 49,
   "id": "2085b4e4",
   "metadata": {},
   "outputs": [
    {
     "name": "stdout",
     "output_type": "stream",
     "text": [
      "Nikita Khirid is an artist\n",
      "Ashwini zanzane is an artist\n"
     ]
    }
   ],
   "source": [
    "#Creating global variables from within a function\n",
    "\n",
    "artist=\"Nikita Khirid\"#global variable\n",
    "\n",
    "def printer1(artist):\n",
    "    global internal_var#If we want to access of local variable outside the function then we make it global\n",
    "    internal_var=\"Ashwini zanzane\"\n",
    "    print(artist,\"is an artist\")#here artist can print bcoz it is global so assceable for function also.\n",
    "\n",
    "printer1(artist) \n",
    "printer1(internal_var)#here is also print the internal_variable bcoz we can assign internal_var as a global variable."
   ]
  }
 ],
 "metadata": {
  "kernelspec": {
   "display_name": "Python 3 (ipykernel)",
   "language": "python",
   "name": "python3"
  },
  "language_info": {
   "codemirror_mode": {
    "name": "ipython",
    "version": 3
   },
   "file_extension": ".py",
   "mimetype": "text/x-python",
   "name": "python",
   "nbconvert_exporter": "python",
   "pygments_lexer": "ipython3",
   "version": "3.9.13"
  }
 },
 "nbformat": 4,
 "nbformat_minor": 5
}
