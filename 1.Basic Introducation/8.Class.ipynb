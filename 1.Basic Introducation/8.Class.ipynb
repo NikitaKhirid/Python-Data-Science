{
 "cells": [
  {
   "cell_type": "markdown",
   "id": "d579814a",
   "metadata": {},
   "source": [
    "## Creating a Class"
   ]
  },
  {
   "cell_type": "markdown",
   "id": "c4cf93b5",
   "metadata": {},
   "source": [
    "The first part of creating a class is giving it a name:In this notebook,we will create two classes,Circle and Rectangle.We need to determine all the data that make up that class,and we call that an attribute.Think about this step as creating a blue print that we will use to create objects.We see the two classes circle and rectangle.Each has their attributes,they are variables.The class circle has the attribute radius and color,while the rectangle has the attribute height and width."
   ]
  },
  {
   "cell_type": "markdown",
   "id": "a7e8ea00",
   "metadata": {},
   "source": [
    "## Instances of a Class:Objects and Attributes"
   ]
  },
  {
   "cell_type": "markdown",
   "id": "a3b3010e",
   "metadata": {},
   "source": [
    "An instance of an object is the realisation of a Class,and we see the three instance of the class circle.We give each object a name:red circle,yellow circle and green circle.Each object has different attributes.So let's focus on the attribute of color for each object.\n",
    "\n",
    "The color attribute for the red color is the color red,for the green circle object the color attribute is green,and for the yellow circle the color attribute is yellow."
   ]
  },
  {
   "cell_type": "markdown",
   "id": "f0ec243d",
   "metadata": {},
   "source": [
    "## Methods"
   ]
  },
  {
   "cell_type": "markdown",
   "id": "4d3a564f",
   "metadata": {},
   "source": [
    "Methods give you a way to change or interact with the object,they are functions that interact with objects.\n",
    "\n",
    "For example,\n",
    "        Let's say we would like to increase the radius by a specified amount of a circle.We can create a method called add_radius(r) that increase the radius by r.After applying the method to the \"orange circle object\",the radius of the object increases accordingly.The \"dot\"notation means to apply the method to the object,which is essentially applying a function to the information in the object."
   ]
  },
  {
   "cell_type": "markdown",
   "id": "a66a7913",
   "metadata": {},
   "source": [
    "### Steps:\n",
    "       1.The first step in creating your own class to use the class keyword,then the name of the class in this class parent will always be object:\n",
    "       class(class definaation) Circle(Name of the Class) (object):\n",
    "       \n",
    "       2.The next step is a special method called a \"constructor\" '__init__' which is used to initalize the object.The input are data attributes.The term 'self' contains all the attributes in the set.\n",
    "       for example, the 'self.color' given the value of the attribute color and self.radius will give you the radius of the object.We also have the method 'add_radius()' with the parameter 'r',the method adds the value of 'r'to the attribute radius.To access the radius we use the syntax \"self.radius\"\n",
    "       class Circle(object):  #define your class\n",
    "             def __init__(self,radius,color):\n",
    "                self.radius=radius\n",
    "                self.color=color        #from the define your class to this line is called as data attributes used to initialize object\n",
    "             def add_radius(self,r):\n",
    "                self.radius=self.radius+r\n",
    "                return(self.radius)     #from the def add_radius to this line is called as method used to add r to radius\n",
    "       "
   ]
  },
  {
   "cell_type": "code",
   "execution_count": 1,
   "id": "911b802a",
   "metadata": {},
   "outputs": [],
   "source": [
    "# create a class circle\n",
    "\n",
    "# Constractor\n",
    "class Circle(object):#Class is collection of functions and methods\n",
    "    \n",
    "    def __init__(self,radius=3,color=\"Blue\"):#init is constructor(to form the class with the help of attribute we construct the class)\n",
    "#self is a class method,it should be at 1st position of init method & we don't give any value for self.\n",
    "# It is bcoz to access the element of class(i.e. attribute),self is a part of structure of class        \n",
    "        \n",
    " #we pass the default the parameter (if we dont give any value then it take that value )\n",
    "        self.radius=radius\n",
    "        self.color=color\n",
    "    \n",
    "    def add_radius(self,r):#when we use function inside the class and trying to utilize is called method.\n",
    "        self.radius=self.radius+r\n",
    "        return(self.radius)"
   ]
  },
  {
   "cell_type": "markdown",
   "id": "fd69fce5",
   "metadata": {},
   "source": [
    "## Creating an instance of a class circle"
   ]
  },
  {
   "cell_type": "code",
   "execution_count": 2,
   "id": "8b59808f",
   "metadata": {},
   "outputs": [],
   "source": [
    "#Create an object RedCircle\n",
    "RedCircle=Circle(20,'red')#create object / instance of class\n",
    "#Give name of object relate to attribute which we have to pass bcoz we make many objects with same class to our convenice"
   ]
  },
  {
   "cell_type": "code",
   "execution_count": 3,
   "id": "19bde3e3",
   "metadata": {},
   "outputs": [
    {
     "data": {
      "text/plain": [
       "['__class__',\n",
       " '__delattr__',\n",
       " '__dict__',\n",
       " '__dir__',\n",
       " '__doc__',\n",
       " '__eq__',\n",
       " '__format__',\n",
       " '__ge__',\n",
       " '__getattribute__',\n",
       " '__gt__',\n",
       " '__hash__',\n",
       " '__init__',\n",
       " '__init_subclass__',\n",
       " '__le__',\n",
       " '__lt__',\n",
       " '__module__',\n",
       " '__ne__',\n",
       " '__new__',\n",
       " '__reduce__',\n",
       " '__reduce_ex__',\n",
       " '__repr__',\n",
       " '__setattr__',\n",
       " '__sizeof__',\n",
       " '__str__',\n",
       " '__subclasshook__',\n",
       " '__weakref__',\n",
       " 'add_radius',\n",
       " 'color',\n",
       " 'radius']"
      ]
     },
     "execution_count": 3,
     "metadata": {},
     "output_type": "execute_result"
    }
   ],
   "source": [
    "#Find out the method can be used on the object RedCircle\n",
    "dir(RedCircle)"
   ]
  },
  {
   "cell_type": "code",
   "execution_count": 4,
   "id": "486a2735",
   "metadata": {},
   "outputs": [
    {
     "data": {
      "text/plain": [
       "20"
      ]
     },
     "execution_count": 4,
     "metadata": {},
     "output_type": "execute_result"
    }
   ],
   "source": [
    "#Print the object attribute radius\n",
    "RedCircle.radius"
   ]
  },
  {
   "cell_type": "code",
   "execution_count": 5,
   "id": "0eecd255",
   "metadata": {},
   "outputs": [
    {
     "data": {
      "text/plain": [
       "'red'"
      ]
     },
     "execution_count": 5,
     "metadata": {},
     "output_type": "execute_result"
    }
   ],
   "source": [
    "#Print the object attribute color\n",
    "RedCircle.color"
   ]
  },
  {
   "cell_type": "code",
   "execution_count": 6,
   "id": "26e516e8",
   "metadata": {},
   "outputs": [
    {
     "data": {
      "text/plain": [
       "1"
      ]
     },
     "execution_count": 6,
     "metadata": {},
     "output_type": "execute_result"
    }
   ],
   "source": [
    "#Set the object attribute radius\n",
    "RedCircle.radius=1\n",
    "RedCircle.radius"
   ]
  },
  {
   "cell_type": "code",
   "execution_count": 7,
   "id": "3345b6d3",
   "metadata": {},
   "outputs": [
    {
     "data": {
      "text/plain": [
       "5"
      ]
     },
     "execution_count": 7,
     "metadata": {},
     "output_type": "execute_result"
    }
   ],
   "source": [
    "#Call the method to add_radius\n",
    "RedCircle.add_radius(4)"
   ]
  },
  {
   "cell_type": "code",
   "execution_count": 8,
   "id": "f33fc645",
   "metadata": {},
   "outputs": [
    {
     "name": "stdout",
     "output_type": "stream",
     "text": [
      "Radius of object 5\n",
      "Radius of object of after applying the method add_radius(2):  7\n",
      "Radius of object of after applying the method add_radius(5):  12\n"
     ]
    }
   ],
   "source": [
    "#Use method to change the object attribute radius\n",
    "print(\"Radius of object\",RedCircle.radius)\n",
    "RedCircle.add_radius(2)\n",
    "print(\"Radius of object of after applying the method add_radius(2): \",RedCircle.radius)\n",
    "RedCircle.add_radius(5)\n",
    "print(\"Radius of object of after applying the method add_radius(5): \",RedCircle.radius)"
   ]
  },
  {
   "cell_type": "code",
   "execution_count": 9,
   "id": "3bbdc2c7",
   "metadata": {},
   "outputs": [],
   "source": [
    "#Create a new circle with a given radius\n",
    "BlueCircle=Circle(radius=100)"
   ]
  },
  {
   "cell_type": "code",
   "execution_count": 10,
   "id": "0620c9b2",
   "metadata": {},
   "outputs": [
    {
     "data": {
      "text/plain": [
       "100"
      ]
     },
     "execution_count": 10,
     "metadata": {},
     "output_type": "execute_result"
    }
   ],
   "source": [
    "BlueCircle.radius"
   ]
  },
  {
   "cell_type": "code",
   "execution_count": 11,
   "id": "98f8dcb7",
   "metadata": {},
   "outputs": [
    {
     "data": {
      "text/plain": [
       "'Blue'"
      ]
     },
     "execution_count": 11,
     "metadata": {},
     "output_type": "execute_result"
    }
   ],
   "source": [
    "BlueCircle.color"
   ]
  },
  {
   "cell_type": "markdown",
   "id": "3993d1e3",
   "metadata": {},
   "source": [
    "## The Rectangle Class"
   ]
  },
  {
   "cell_type": "code",
   "execution_count": 12,
   "id": "52484ef2",
   "metadata": {},
   "outputs": [],
   "source": [
    "#Create a new Rectangle class for creating a rectangle object\n",
    "\n",
    "class Rectangle(object):\n",
    "    \n",
    "    #Constructor   \n",
    "    def __init__(self,width=2,height=5,color=\"Red\"):\n",
    "        self.width=width\n",
    "        self.height=height\n",
    "        self.color=color\n",
    "     \n",
    "    #Method\n",
    "    def changeColor(self,color):\n",
    "        self.color=color\n",
    "        return(self.color)\n",
    "        "
   ]
  },
  {
   "cell_type": "code",
   "execution_count": 13,
   "id": "9af4dac4",
   "metadata": {},
   "outputs": [],
   "source": [
    "#Create a new object rectangle\n",
    "SkinyBlueRectangle=Rectangle(3,15,\"Blue\")"
   ]
  },
  {
   "cell_type": "code",
   "execution_count": 14,
   "id": "8fe67000",
   "metadata": {},
   "outputs": [
    {
     "data": {
      "text/plain": [
       "3"
      ]
     },
     "execution_count": 14,
     "metadata": {},
     "output_type": "execute_result"
    }
   ],
   "source": [
    "#Print the object attribute width\n",
    "SkinyBlueRectangle.width"
   ]
  },
  {
   "cell_type": "code",
   "execution_count": 15,
   "id": "e4803623",
   "metadata": {},
   "outputs": [
    {
     "data": {
      "text/plain": [
       "15"
      ]
     },
     "execution_count": 15,
     "metadata": {},
     "output_type": "execute_result"
    }
   ],
   "source": [
    "#Print the object attribute height\n",
    "SkinyBlueRectangle.height"
   ]
  },
  {
   "cell_type": "code",
   "execution_count": 16,
   "id": "f6957e6b",
   "metadata": {},
   "outputs": [
    {
     "data": {
      "text/plain": [
       "'Blue'"
      ]
     },
     "execution_count": 16,
     "metadata": {},
     "output_type": "execute_result"
    }
   ],
   "source": [
    "#Print the object attribute color\n",
    "SkinyBlueRectangle.color"
   ]
  },
  {
   "cell_type": "code",
   "execution_count": 17,
   "id": "f9b8821e",
   "metadata": {},
   "outputs": [
    {
     "data": {
      "text/plain": [
       "'Pink'"
      ]
     },
     "execution_count": 17,
     "metadata": {},
     "output_type": "execute_result"
    }
   ],
   "source": [
    "#Call the method to changeColor\n",
    "SkinyBlueRectangle.changeColor(\"Pink\")"
   ]
  },
  {
   "cell_type": "code",
   "execution_count": 18,
   "id": "57137b23",
   "metadata": {},
   "outputs": [
    {
     "data": {
      "text/plain": [
       "'Pink'"
      ]
     },
     "execution_count": 18,
     "metadata": {},
     "output_type": "execute_result"
    }
   ],
   "source": [
    "SkinyBlueRectangle.color"
   ]
  },
  {
   "cell_type": "markdown",
   "id": "c5a1caf0",
   "metadata": {},
   "source": [
    "## Class method and Variable"
   ]
  },
  {
   "cell_type": "code",
   "execution_count": 19,
   "id": "725262f2",
   "metadata": {},
   "outputs": [],
   "source": [
    "class Car():\n",
    "    \n",
    "    def __init__(self,model,color):\n",
    "        self.model=model\n",
    "        self.color=color\n",
    "        \n",
    "    def show(self):\n",
    "        print(\"Model is :::\",self.model)\n",
    "        print(\"Color is :::\",self.color)\n",
    "        "
   ]
  },
  {
   "cell_type": "code",
   "execution_count": 20,
   "id": "ce8763b6",
   "metadata": {},
   "outputs": [
    {
     "name": "stdout",
     "output_type": "stream",
     "text": [
      "<__main__.Car object at 0x0000025989970460>\n",
      "<__main__.Car object at 0x0000025989970F10>\n"
     ]
    }
   ],
   "source": [
    "#Create object of car\n",
    "audi=Car(\"audi01\",\"red\")\n",
    "print(audi)\n",
    "panda=Car(\"Panda4\",\"blue\")\n",
    "print(panda)"
   ]
  },
  {
   "cell_type": "code",
   "execution_count": 21,
   "id": "3591ddb8",
   "metadata": {},
   "outputs": [
    {
     "data": {
      "text/plain": [
       "['__class__',\n",
       " '__delattr__',\n",
       " '__dict__',\n",
       " '__dir__',\n",
       " '__doc__',\n",
       " '__eq__',\n",
       " '__format__',\n",
       " '__ge__',\n",
       " '__getattribute__',\n",
       " '__gt__',\n",
       " '__hash__',\n",
       " '__init__',\n",
       " '__init_subclass__',\n",
       " '__le__',\n",
       " '__lt__',\n",
       " '__module__',\n",
       " '__ne__',\n",
       " '__new__',\n",
       " '__reduce__',\n",
       " '__reduce_ex__',\n",
       " '__repr__',\n",
       " '__setattr__',\n",
       " '__sizeof__',\n",
       " '__str__',\n",
       " '__subclasshook__',\n",
       " '__weakref__',\n",
       " 'color',\n",
       " 'model',\n",
       " 'show']"
      ]
     },
     "execution_count": 21,
     "metadata": {},
     "output_type": "execute_result"
    }
   ],
   "source": [
    "dir(audi)"
   ]
  },
  {
   "cell_type": "code",
   "execution_count": 22,
   "id": "e4413f09",
   "metadata": {},
   "outputs": [
    {
     "data": {
      "text/plain": [
       "'audi01'"
      ]
     },
     "execution_count": 22,
     "metadata": {},
     "output_type": "execute_result"
    }
   ],
   "source": [
    "#Print the attribute model\n",
    "audi.model"
   ]
  },
  {
   "cell_type": "code",
   "execution_count": 23,
   "id": "125053dc",
   "metadata": {},
   "outputs": [
    {
     "name": "stdout",
     "output_type": "stream",
     "text": [
      "Model is ::: audi01\n",
      "Color is ::: red\n",
      "Model is ::: Panda4\n",
      "Color is ::: blue\n"
     ]
    }
   ],
   "source": [
    "#Call the method show\n",
    "audi.show()\n",
    "panda.show()"
   ]
  },
  {
   "cell_type": "code",
   "execution_count": 24,
   "id": "8d223100",
   "metadata": {},
   "outputs": [],
   "source": [
    "#Creating a class and object with class and instance attributes\n",
    "\n",
    "class Dog():\n",
    "    \n",
    "    #Class attribute limited to class\n",
    "    attrt1=\"Mamal\"\n",
    "    \n",
    "    #Instance attribute\n",
    "    def __init__(self,name):#Use to object creaction\n",
    "        self.name=name\n",
    "    \n",
    "    def speak(self):\n",
    "        print(\"My name is:::\",self.name)"
   ]
  },
  {
   "cell_type": "code",
   "execution_count": 25,
   "id": "2453950a",
   "metadata": {},
   "outputs": [],
   "source": [
    "#Create a object\n",
    "jummy=Dog(\"jummy\")\n",
    "tommy=Dog(\"tommy\")"
   ]
  },
  {
   "cell_type": "code",
   "execution_count": 26,
   "id": "38dbc322",
   "metadata": {},
   "outputs": [
    {
     "name": "stdout",
     "output_type": "stream",
     "text": [
      "jummy\n",
      "tommy\n"
     ]
    }
   ],
   "source": [
    "#Print the attribute name \n",
    "print(jummy.name)\n",
    "print(tommy.name)"
   ]
  },
  {
   "cell_type": "code",
   "execution_count": 27,
   "id": "53f24acd",
   "metadata": {},
   "outputs": [
    {
     "name": "stdout",
     "output_type": "stream",
     "text": [
      "My name is::: jummy\n",
      "My name is::: tommy\n"
     ]
    }
   ],
   "source": [
    "#Call the method speak\n",
    "jummy.speak()\n",
    "tommy.speak()"
   ]
  },
  {
   "cell_type": "code",
   "execution_count": 28,
   "id": "db12b89a",
   "metadata": {},
   "outputs": [
    {
     "data": {
      "text/plain": [
       "'Mamal'"
      ]
     },
     "execution_count": 28,
     "metadata": {},
     "output_type": "execute_result"
    }
   ],
   "source": [
    "#Accessing class attribute\n",
    "jummy.__class__.attrt1\n",
    "tommy.__class__.attrt1"
   ]
  },
  {
   "cell_type": "code",
   "execution_count": 29,
   "id": "1a82d4ba",
   "metadata": {},
   "outputs": [
    {
     "name": "stdout",
     "output_type": "stream",
     "text": [
      "jummy is a dog\n",
      "tommy is a dog\n"
     ]
    }
   ],
   "source": [
    "#Accessing instance attributes\n",
    "print(\"{} is a dog\".format(jummy.name))#To print the variable {}inside the statement we use format\n",
    "print(\"{} is a dog\".format(tommy.name))"
   ]
  },
  {
   "cell_type": "code",
   "execution_count": 30,
   "id": "ac7b5578",
   "metadata": {},
   "outputs": [
    {
     "name": "stdout",
     "output_type": "stream",
     "text": [
      "Mamal is a dog\n",
      "Mamal is a dog\n"
     ]
    }
   ],
   "source": [
    "#Accessing class attributes\n",
    "print(\"{} is a dog\".format(jummy.__class__.attrt1))#To print the variable {}inside the statement we use format\n",
    "print(\"{} is a dog\".format(tommy.__class__.attrt1))"
   ]
  },
  {
   "cell_type": "markdown",
   "id": "fb201419",
   "metadata": {},
   "source": [
    "## Inheritance\n",
    "##### It is capability of one class to derive or inherite the properties of another class.Class that derived the properties is called as derived class or child class.Class form which the properties are derived or inherite is called as parent class."
   ]
  },
  {
   "cell_type": "code",
   "execution_count": 31,
   "id": "2bf62e16",
   "metadata": {},
   "outputs": [],
   "source": [
    "#Parent class\n",
    "class Person(object):\n",
    "    def __init__(self,name,idnumber,age):\n",
    "        self.name=name\n",
    "        self.idnumber=idnumber\n",
    "        self.age=age\n",
    "    def display(self):\n",
    "        print(self.name)\n",
    "        print(self.idnumber)\n",
    "    def details(self):\n",
    "        print(\"My name is {}\".format(self.name))\n",
    "        print(\"My id number is {}\".format(self.idnumber))\n",
    "    def change(self,age):\n",
    "        self.age=age\n",
    "        print(\"My age is after the 2year {}\".format(self.age))"
   ]
  },
  {
   "cell_type": "code",
   "execution_count": 32,
   "id": "3dc2633a",
   "metadata": {},
   "outputs": [],
   "source": [
    "#Child class\n",
    "class Student(Person):#In child class parameter pass parent class name\n",
    "    def __init__(self,name,idnumber,age,marks,standard,rollnumber):#\n",
    "        self.marks=marks\n",
    "        self.standard=standard\n",
    "        self.rollnumber=rollnumber\n",
    "        \n",
    "    # invoking the __init__ of the parentclass\n",
    "        Person.__init__(self,name,idnumber,age)#It give access the person class inside the student class\n",
    "      \n",
    "    def details(self):\n",
    "        print(\"My name is {}\".format(self.name))\n",
    "        print(\"My id number is {}\".format(self.idnumber))\n",
    "        print(\"My marks is {}\".format(self.marks))\n",
    "        print(\"I am in standard{}\".format(self.standard))\n",
    "        print(\"My age is \",self.age)"
   ]
  },
  {
   "cell_type": "code",
   "execution_count": 33,
   "id": "89deb8b0",
   "metadata": {},
   "outputs": [],
   "source": [
    "a=Student(\"Nikita\",1822,21,90,\"last year\",\"IOC6162\")"
   ]
  },
  {
   "cell_type": "code",
   "execution_count": 34,
   "id": "c55446c9",
   "metadata": {},
   "outputs": [
    {
     "name": "stdout",
     "output_type": "stream",
     "text": [
      "My age is after the 2year 22\n"
     ]
    }
   ],
   "source": [
    "a.change(22)\n",
    "#We create the object of child class but throghout we access the parent class method"
   ]
  },
  {
   "cell_type": "code",
   "execution_count": 35,
   "id": "5d6e02f4",
   "metadata": {},
   "outputs": [
    {
     "name": "stdout",
     "output_type": "stream",
     "text": [
      "Nikita\n",
      "1822\n"
     ]
    }
   ],
   "source": [
    "a.display()"
   ]
  },
  {
   "cell_type": "code",
   "execution_count": 36,
   "id": "d912aa2d",
   "metadata": {},
   "outputs": [
    {
     "name": "stdout",
     "output_type": "stream",
     "text": [
      "My name is Nikita\n",
      "My id number is 1822\n",
      "My marks is 90\n",
      "I am in standardlast year\n",
      "My age is  22\n"
     ]
    }
   ],
   "source": [
    "a.details()\n",
    "#It search  1st inside the child class if method is present it give output if not present it go to search the parent class method"
   ]
  }
 ],
 "metadata": {
  "kernelspec": {
   "display_name": "Python 3 (ipykernel)",
   "language": "python",
   "name": "python3"
  },
  "language_info": {
   "codemirror_mode": {
    "name": "ipython",
    "version": 3
   },
   "file_extension": ".py",
   "mimetype": "text/x-python",
   "name": "python",
   "nbconvert_exporter": "python",
   "pygments_lexer": "ipython3",
   "version": "3.9.13"
  }
 },
 "nbformat": 4,
 "nbformat_minor": 5
}
