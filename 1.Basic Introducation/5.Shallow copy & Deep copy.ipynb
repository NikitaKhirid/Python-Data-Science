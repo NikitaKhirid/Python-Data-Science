{
 "cells": [
  {
   "cell_type": "markdown",
   "id": "cb388586",
   "metadata": {},
   "source": [
    "## Copy"
   ]
  },
  {
   "cell_type": "markdown",
   "id": "31be7060",
   "metadata": {},
   "source": [
    "It dont copy elements it copy the whole list(shares same memory location).If we change in any new/old variable elements then both variable element is also change bcoz it shares same memory location(Copy by reference)"
   ]
  },
  {
   "cell_type": "code",
   "execution_count": 1,
   "id": "dd120204",
   "metadata": {},
   "outputs": [],
   "source": [
    "#a,copy(),deepcopy()\n",
    "list1=[1,2,3,4]\n",
    "list2=list1\n",
    "#We dont copy elements we copy the whole list(shares same memory location)"
   ]
  },
  {
   "cell_type": "code",
   "execution_count": 2,
   "id": "7505c97f",
   "metadata": {},
   "outputs": [
    {
     "data": {
      "text/plain": [
       "[1, 2, 3, 4]"
      ]
     },
     "execution_count": 2,
     "metadata": {},
     "output_type": "execute_result"
    }
   ],
   "source": [
    "list2"
   ]
  },
  {
   "cell_type": "code",
   "execution_count": 3,
   "id": "0f18005c",
   "metadata": {},
   "outputs": [
    {
     "name": "stdout",
     "output_type": "stream",
     "text": [
      "[1, 7, 3, 4]\n",
      "[1, 7, 3, 4]\n"
     ]
    }
   ],
   "source": [
    "list1[1]=7\n",
    "print(list1)\n",
    "print(list2) \n",
    "#if we change in any new/old variable elements then both variable element is also change bcoz it shares same memory location(Copy by reference)"
   ]
  },
  {
   "cell_type": "code",
   "execution_count": 4,
   "id": "2312de9b",
   "metadata": {},
   "outputs": [
    {
     "data": {
      "text/plain": [
       "([1, 7, 10, 4], [1, 7, 10, 4])"
      ]
     },
     "execution_count": 4,
     "metadata": {},
     "output_type": "execute_result"
    }
   ],
   "source": [
    "list2[2]=10\n",
    "list1,list2"
   ]
  },
  {
   "cell_type": "code",
   "execution_count": 5,
   "id": "26653700",
   "metadata": {},
   "outputs": [
    {
     "data": {
      "text/plain": [
       "([1, 7, 10, 4, 9], [1, 7, 10, 4, 9])"
      ]
     },
     "execution_count": 5,
     "metadata": {},
     "output_type": "execute_result"
    }
   ],
   "source": [
    "list1.append(9)\n",
    "list1,list2\n",
    "#From it we can understand that if we do any operation of any (new/old)varible it change in both the variable bcoz it shares the same memory location.\n"
   ]
  },
  {
   "cell_type": "code",
   "execution_count": 6,
   "id": "3008ee70",
   "metadata": {},
   "outputs": [
    {
     "data": {
      "text/plain": [
       "([1, 7, 10, 4, 9, 8], [1, 7, 10, 4, 9, 8])"
      ]
     },
     "execution_count": 6,
     "metadata": {},
     "output_type": "execute_result"
    }
   ],
   "source": [
    "list2.append(8)\n",
    "list1,list2"
   ]
  },
  {
   "cell_type": "markdown",
   "id": "efbfdf1f",
   "metadata": {},
   "source": [
    "## Shallow Copy"
   ]
  },
  {
   "cell_type": "markdown",
   "id": "b6e0a549",
   "metadata": {},
   "source": [
    "It dont take as its copy(take another location) and then save it in other variable.If we change in new/old variable the old/new variable is also change bcoz it shar the same memory location for copy element(vis_versa)of nested list.If we do changes other than copy element in both or at least one of the old or new variable then it don't affect on each other.\n",
    "       \n",
    "   #####  In normal list shallow copy==deep copy, So shallow copy for normal list work similar as to deep copy"
   ]
  },
  {
   "cell_type": "code",
   "execution_count": 7,
   "id": "70ecc293",
   "metadata": {},
   "outputs": [
    {
     "data": {
      "text/plain": [
       "[1, 2, 3, 4]"
      ]
     },
     "execution_count": 7,
     "metadata": {},
     "output_type": "execute_result"
    }
   ],
   "source": [
    "#Shallow copy\n",
    "list1=[1,2,3,4]\n",
    "list2=list1.copy()#It means that dont take as it copy(take another location) and then save it in other variable.\n",
    "list2"
   ]
  },
  {
   "cell_type": "code",
   "execution_count": 8,
   "id": "6fd805cf",
   "metadata": {},
   "outputs": [
    {
     "data": {
      "text/plain": [
       "([1, 2, 3, 4], [1, 2, 10, 4])"
      ]
     },
     "execution_count": 8,
     "metadata": {},
     "output_type": "execute_result"
    }
   ],
   "source": [
    "list2[2]=10\n",
    "list1,list2 #If we change in new variable the old variable is also change bcoz it shar the same memory location for the copy elements"
   ]
  },
  {
   "cell_type": "code",
   "execution_count": 9,
   "id": "4fce7712",
   "metadata": {},
   "outputs": [
    {
     "data": {
      "text/plain": [
       "[1, 2, 3, 4]"
      ]
     },
     "execution_count": 9,
     "metadata": {},
     "output_type": "execute_result"
    }
   ],
   "source": [
    "list1=[1,2,3,4]\n",
    "list2=list1.copy()#It means that dont take as it copy(take another location) and then save it in other variable.\n",
    "list2"
   ]
  },
  {
   "cell_type": "code",
   "execution_count": 10,
   "id": "eaa8bdca",
   "metadata": {},
   "outputs": [
    {
     "data": {
      "text/plain": [
       "([90, 2, 3, 4], [1, 2, 3, 4])"
      ]
     },
     "execution_count": 10,
     "metadata": {},
     "output_type": "execute_result"
    }
   ],
   "source": [
    "list1[0]=90\n",
    "list1,list2"
   ]
  },
  {
   "cell_type": "code",
   "execution_count": 11,
   "id": "7d2e40d2",
   "metadata": {},
   "outputs": [
    {
     "data": {
      "text/plain": [
       "[1, 2, ['nikita'], [2.9, 'ankita']]"
      ]
     },
     "execution_count": 11,
     "metadata": {},
     "output_type": "execute_result"
    }
   ],
   "source": [
    "#Shallow copy for nested list\n",
    "NT1=[1,2,[\"nikita\"],[2.9,'ankita']]\n",
    "NT2=NT1.copy()\n",
    "NT2"
   ]
  },
  {
   "cell_type": "code",
   "execution_count": 12,
   "id": "c4325f8f",
   "metadata": {},
   "outputs": [
    {
     "data": {
      "text/plain": [
       "([1, 2, ['nikita'], [100, 'ankita']], [1, 2, ['nikita'], [100, 'ankita']])"
      ]
     },
     "execution_count": 12,
     "metadata": {},
     "output_type": "execute_result"
    }
   ],
   "source": [
    "NT2[3][0]=100\n",
    "NT1,NT2"
   ]
  },
  {
   "cell_type": "code",
   "execution_count": 13,
   "id": "ebbee1c7",
   "metadata": {},
   "outputs": [
    {
     "data": {
      "text/plain": [
       "[1, 2, ['nikita'], [2.9, 'ankita']]"
      ]
     },
     "execution_count": 13,
     "metadata": {},
     "output_type": "execute_result"
    }
   ],
   "source": [
    "NT1=[1,2,[\"nikita\"],[2.9,'ankita']]\n",
    "NT2=NT1.copy()\n",
    "NT2"
   ]
  },
  {
   "cell_type": "code",
   "execution_count": 14,
   "id": "0ea5bd33",
   "metadata": {},
   "outputs": [
    {
     "data": {
      "text/plain": [
       "([1, 2, ['nikita'], [90, 'ankita']], [1, 2, ['nikita'], [90, 'ankita']])"
      ]
     },
     "execution_count": 14,
     "metadata": {},
     "output_type": "execute_result"
    }
   ],
   "source": [
    "NT1[3][0]=90\n",
    "NT1,NT2"
   ]
  },
  {
   "cell_type": "code",
   "execution_count": 15,
   "id": "69fd5643",
   "metadata": {},
   "outputs": [
    {
     "data": {
      "text/plain": [
       "([1, 2, ['nikita'], [90, 'ankita'], 9], [1, 2, ['nikita'], [90, 'ankita']])"
      ]
     },
     "execution_count": 15,
     "metadata": {},
     "output_type": "execute_result"
    }
   ],
   "source": [
    "NT1.append(9)#If we do changes other than copy element in both old and/or new variable it dont affect on each other.\n",
    "NT1,NT2#append,insert,extend etc.like"
   ]
  },
  {
   "cell_type": "code",
   "execution_count": 16,
   "id": "b14903fb",
   "metadata": {},
   "outputs": [
    {
     "data": {
      "text/plain": [
       "([1, 2, ['nikita'], [90, 'ankita'], 9],\n",
       " [1, 2, ['nikita'], [90, 'ankita'], 100])"
      ]
     },
     "execution_count": 16,
     "metadata": {},
     "output_type": "execute_result"
    }
   ],
   "source": [
    "NT2.append(100)\n",
    "NT1,NT2"
   ]
  },
  {
   "cell_type": "markdown",
   "id": "d5405aba",
   "metadata": {},
   "source": [
    "## Deep Copy"
   ]
  },
  {
   "cell_type": "markdown",
   "id": "144e64e1",
   "metadata": {},
   "source": [
    "Import copy(package) for deep copy.It dont take as its deepcopy(take another location) and then save it in other variable.If we do changes in any one or both new/old variable elements then old/new variable elements is not change/not affected bcoz it share different memory location for whole list."
   ]
  },
  {
   "cell_type": "code",
   "execution_count": 17,
   "id": "00730a9d",
   "metadata": {},
   "outputs": [
    {
     "data": {
      "text/plain": [
       "([1, 2, 3, 4], [1, 2, 3, 4])"
      ]
     },
     "execution_count": 17,
     "metadata": {},
     "output_type": "execute_result"
    }
   ],
   "source": [
    "import copy\n",
    "lst1=[1,2,3,4]\n",
    "lst2=copy.deepcopy(lst1)\n",
    "lst1,lst2"
   ]
  },
  {
   "cell_type": "markdown",
   "id": "10f3771f",
   "metadata": {},
   "source": [
    "Package=Functions & method both are their(eg.deepcopy is one of the method of this pakage)we want to import but not install it\n",
    "\n",
    "library=Complete scripted code(eg.numpy,pandas in which their is all scipted ready to use functions,method,defination)It contains readymet functions.we want to import as well as install for before use it."
   ]
  },
  {
   "cell_type": "code",
   "execution_count": 18,
   "id": "5aff8701",
   "metadata": {},
   "outputs": [
    {
     "data": {
      "text/plain": [
       "([1, 2, 3, 4], [1, 10, 3, 4])"
      ]
     },
     "execution_count": 18,
     "metadata": {},
     "output_type": "execute_result"
    }
   ],
   "source": [
    "lst2[1]=10 \n",
    "lst1,lst2"
   ]
  },
  {
   "cell_type": "code",
   "execution_count": 19,
   "id": "f5e8d052",
   "metadata": {},
   "outputs": [
    {
     "data": {
      "text/plain": [
       "([1, 2, 3, 4], [1, 2, 3, 4])"
      ]
     },
     "execution_count": 19,
     "metadata": {},
     "output_type": "execute_result"
    }
   ],
   "source": [
    "lst1=[1,2,3,4]\n",
    "lst2=copy.deepcopy(lst1)\n",
    "lst1,lst2"
   ]
  },
  {
   "cell_type": "code",
   "execution_count": 20,
   "id": "7e9cf998",
   "metadata": {},
   "outputs": [
    {
     "data": {
      "text/plain": [
       "([1, 10, 3, 4], [1, 2, 3, 4])"
      ]
     },
     "execution_count": 20,
     "metadata": {},
     "output_type": "execute_result"
    }
   ],
   "source": [
    "lst1[1]=10 \n",
    "lst1,lst2"
   ]
  },
  {
   "cell_type": "markdown",
   "id": "ac65acc4",
   "metadata": {},
   "source": [
    "### In normal list Shallow copy==Deep copy"
   ]
  },
  {
   "cell_type": "code",
   "execution_count": 21,
   "id": "db72e62a",
   "metadata": {},
   "outputs": [
    {
     "data": {
      "text/plain": [
       "([[1, 2, 3], [4, 5, 6], [7, 8, 9]], [[1, 2, 3], [4, 5, 6], [7, 8, 9]])"
      ]
     },
     "execution_count": 21,
     "metadata": {},
     "output_type": "execute_result"
    }
   ],
   "source": [
    "#Deep copy by nested list\n",
    "lst1=[[1,2,3],[4,5,6],[7,8,9]]\n",
    "lst2=copy.deepcopy(lst1)\n",
    "lst1,lst2"
   ]
  },
  {
   "cell_type": "code",
   "execution_count": 22,
   "id": "8ae2166e",
   "metadata": {},
   "outputs": [
    {
     "data": {
      "text/plain": [
       "([[1, 2, 3], [4, 5, 6], [7, 8, 9]], [[1, 2, 3], [4, 5, 6], [10, 8, 9]])"
      ]
     },
     "execution_count": 22,
     "metadata": {},
     "output_type": "execute_result"
    }
   ],
   "source": [
    "lst2[2][0]=10\n",
    "lst1,lst2"
   ]
  },
  {
   "cell_type": "code",
   "execution_count": 23,
   "id": "edfc1fc0",
   "metadata": {},
   "outputs": [
    {
     "data": {
      "text/plain": [
       "([[1, 2, 3], [4, 5, 6], [7, 8, 9]], [[1, 2, 3], [4, 5, 6], [7, 8, 9]])"
      ]
     },
     "execution_count": 23,
     "metadata": {},
     "output_type": "execute_result"
    }
   ],
   "source": [
    "lst1=[[1,2,3],[4,5,6],[7,8,9]]\n",
    "lst2=copy.deepcopy(lst1)\n",
    "lst1,lst2"
   ]
  },
  {
   "cell_type": "code",
   "execution_count": 24,
   "id": "be32ffdf",
   "metadata": {},
   "outputs": [
    {
     "data": {
      "text/plain": [
       "([[1, 2, 3], [4, 5, 6], [100, 8, 9]], [[1, 2, 3], [4, 5, 6], [7, 8, 9]])"
      ]
     },
     "execution_count": 24,
     "metadata": {},
     "output_type": "execute_result"
    }
   ],
   "source": [
    "lst1[2][0]=100\n",
    "lst1,lst2"
   ]
  }
 ],
 "metadata": {
  "kernelspec": {
   "display_name": "Python 3 (ipykernel)",
   "language": "python",
   "name": "python3"
  },
  "language_info": {
   "codemirror_mode": {
    "name": "ipython",
    "version": 3
   },
   "file_extension": ".py",
   "mimetype": "text/x-python",
   "name": "python",
   "nbconvert_exporter": "python",
   "pygments_lexer": "ipython3",
   "version": "3.9.13"
  }
 },
 "nbformat": 4,
 "nbformat_minor": 5
}
