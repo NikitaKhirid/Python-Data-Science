{
 "cells": [
  {
   "cell_type": "markdown",
   "id": "1e91a0f8",
   "metadata": {},
   "source": [
    "## What is for loop?\n"
   ]
  },
  {
   "cell_type": "markdown",
   "id": "6ae8f608",
   "metadata": {},
   "source": [
    "The for loop enables to you to execute a code block multiple times.\n",
    "A for loop is used for iterating over a sequence(i.e list,tuple,set,dictionary,string)& perform the same action for each entry.\n",
    "  It is used when number of iteration is known,that's why we have to specify the ending point in the for loop initialization."
   ]
  },
  {
   "cell_type": "code",
   "execution_count": 1,
   "id": "c07fc642",
   "metadata": {},
   "outputs": [
    {
     "name": "stdout",
     "output_type": "stream",
     "text": [
      "1980\n",
      "1982\n",
      "1984\n",
      " \n"
     ]
    }
   ],
   "source": [
    "# For loop example\n",
    "dates=[1980,1982,1984]\n",
    "N=len(dates)\n",
    "\n",
    "for i in range(N): ##(0,1,2,)\n",
    "    print(dates[i])\n",
    "  \n",
    "'''1st iteration:\n",
    "for 0 in range(0,1,2,):\n",
    "    print(dates[0]) it means it print 0th index element 1980\n",
    "\n",
    "2nd iteration:\n",
    "for 1 in range(0,1,2):\n",
    "    print(dates[1]) it means it print 1st index element 1982\n",
    "\n",
    "3rd iteration:\n",
    "for 2 in range(0,1,2):\n",
    "    print(dates[2]) it means it print 2nd index element 1984'''\n",
    "print(\" \") #Here we used it only for that comment part is not give in ouput\n",
    "#Comment get printed in output if we dont write after it any operation."
   ]
  },
  {
   "cell_type": "markdown",
   "id": "fc162b31",
   "metadata": {},
   "source": [
    "The code in the indent is executed N times,each time the value of i is increased by 1 for every execution."
   ]
  },
  {
   "cell_type": "code",
   "execution_count": 2,
   "id": "99107d55",
   "metadata": {},
   "outputs": [
    {
     "name": "stdout",
     "output_type": "stream",
     "text": [
      "5\n",
      "6\n",
      "7\n"
     ]
    }
   ],
   "source": [
    "#Example for loop\n",
    "for i in range(5,8):   #we can print out a sequence of number from 0 to 7\n",
    "       print(i)\n",
    "\n",
    "        \n",
    "#In the range we mention the start value and end value(n-1) but by defoult  difference it take 1"
   ]
  },
  {
   "cell_type": "code",
   "execution_count": 3,
   "id": "d5766762",
   "metadata": {},
   "outputs": [
    {
     "name": "stdout",
     "output_type": "stream",
     "text": [
      "0\n",
      "1\n",
      "2\n",
      "3\n",
      "4\n",
      "5\n",
      "6\n",
      "7\n"
     ]
    }
   ],
   "source": [
    "for i in range(8):\n",
    "       print(i)\n",
    "\n",
    "#It means range take value automatically/defoult 0 to specified value(n-1)          "
   ]
  },
  {
   "cell_type": "code",
   "execution_count": 4,
   "id": "3daa718b",
   "metadata": {},
   "outputs": [
    {
     "name": "stdout",
     "output_type": "stream",
     "text": [
      "5\n",
      "10\n",
      "15\n",
      "20\n",
      "25\n",
      "30\n",
      "35\n",
      "40\n",
      "45\n",
      "50\n",
      "55\n",
      "60\n",
      "65\n",
      "70\n",
      "75\n",
      "80\n",
      "85\n",
      "90\n",
      "95\n"
     ]
    }
   ],
   "source": [
    "for i in range(5,100,5):\n",
    "       print(i)\n",
    "\n",
    "#It means range take value from starting to end value(n-1)by specified difference/step."
   ]
  },
  {
   "cell_type": "code",
   "execution_count": 5,
   "id": "54396ced",
   "metadata": {},
   "outputs": [
    {
     "name": "stdout",
     "output_type": "stream",
     "text": [
      "1980\n",
      "1982\n",
      "1984\n",
      "1986\n",
      "1988\n",
      "1990\n",
      " \n"
     ]
    }
   ],
   "source": [
    "#Example of for loop,loop through list\n",
    "dates=[1980,1982,1984,1986,1988,1990]\n",
    "for year in dates:\n",
    "        print(year)   #we use this if we dont want to use range function\n",
    "        \n",
    "'''1st iteration:\n",
    "for 1980 in (1980,1982,1984,1986,1988,1990)\n",
    "print(1980)\n",
    "\n",
    "2nd iteration:\n",
    "for 1982 in (1980,1982,1984,1986,1988,1990)\n",
    "print(1982)\n",
    "\n",
    "3rd iteration:\n",
    "for 1984 in (1980,1982,1984,1986,1988,1990)\n",
    "print(1984)\n",
    "\n",
    "so on...till last element get printed.'''\n",
    "print(\" \")"
   ]
  },
  {
   "cell_type": "code",
   "execution_count": 6,
   "id": "82355af1",
   "metadata": {},
   "outputs": [
    {
     "name": "stdout",
     "output_type": "stream",
     "text": [
      "1980\n",
      "nikita\n",
      "2.5\n",
      " \n"
     ]
    }
   ],
   "source": [
    "#Example of for loop,loop through tuple\n",
    "number=(1980,\"nikita\",2.5)\n",
    "for i in range(3):  \n",
    "    print(number[i])\n",
    "    \n",
    "'''Another way to write the for loop\n",
    "for i in number:\n",
    "print(i)'''\n",
    "print(\" \")\n",
    "#If we use range then in print use variable name[i]"
   ]
  },
  {
   "cell_type": "code",
   "execution_count": 7,
   "id": "46495c38",
   "metadata": {},
   "outputs": [
    {
     "name": "stdout",
     "output_type": "stream",
     "text": [
      "1\n",
      "3.5\n",
      "ankita\n",
      "nikita\n"
     ]
    }
   ],
   "source": [
    "#Example of for loop,loop through set\n",
    "num={1,3.5,\"nikita\",'ankita',\"ankita\"}\n",
    "for i in num:\n",
    "    print(i)   \n",
    "#If we dont use range then in print directly i"
   ]
  },
  {
   "cell_type": "code",
   "execution_count": 8,
   "id": "09330a52",
   "metadata": {},
   "outputs": [
    {
     "name": "stdout",
     "output_type": "stream",
     "text": [
      "Nikita\n",
      "Before the change 1 Ankita\n",
      "After the change 1 Khirid\n",
      "Shubham\n",
      "Kishori\n",
      "Shantaram\n"
     ]
    },
    {
     "data": {
      "text/plain": [
       "['Nikita', 'Khirid', 'Shubham', 'Kishori', 'Shantaram']"
      ]
     },
     "execution_count": 8,
     "metadata": {},
     "output_type": "execute_result"
    }
   ],
   "source": [
    "#Use for loop to change the element in list\n",
    "names=[\"Nikita\",\"Ankita\",\"Shubham\",\"Kishori\",\"Shantaram\",]\n",
    "for i in range(5):\n",
    "   \n",
    "    if (names[i]==\"Ankita\"):\n",
    "        print(\"Before the change\",i,names[i])\n",
    "        names[i]=\"Khirid\"\n",
    "        print(\"After the change\",i,names[i])   \n",
    "    else:\n",
    "        print(names[i])\n",
    "names  #we can write like this also dont need to write message in print but for understanding what is happen we will write print  "
   ]
  },
  {
   "cell_type": "code",
   "execution_count": 9,
   "id": "aa793410",
   "metadata": {},
   "outputs": [
    {
     "name": "stdout",
     "output_type": "stream",
     "text": [
      "Before the change 0 Nikita\n",
      "After the change 0 Khirid\n",
      "Before the change 1 Ankita\n",
      "After the change 1 Khirid\n",
      "Shubham\n",
      "Kishori\n",
      "Shantaram\n"
     ]
    },
    {
     "data": {
      "text/plain": [
       "['Khirid', 'Khirid', 'Shubham', 'Kishori', 'Shantaram']"
      ]
     },
     "execution_count": 9,
     "metadata": {},
     "output_type": "execute_result"
    }
   ],
   "source": [
    "names=[\"Nikita\",\"Ankita\",\"Shubham\",\"Kishori\",\"Shantaram\",]\n",
    "for i in range(5):\n",
    "    if (i<2):\n",
    "        print(\"Before the change\",i,names[i])\n",
    "        names[i]=\"Khirid\"\n",
    "        print(\"After the change\",i,names[i])   \n",
    "    else:\n",
    "        print(names[i])\n",
    "names  "
   ]
  },
  {
   "cell_type": "code",
   "execution_count": 10,
   "id": "620fe45a",
   "metadata": {},
   "outputs": [
    {
     "name": "stdout",
     "output_type": "stream",
     "text": [
      "0 Nikita\n",
      "1 Ankita\n",
      "2 Shubham\n",
      "3 Kishori\n",
      "4 Shantaram\n"
     ]
    }
   ],
   "source": [
    "#Loop through the list and iterate on both index and element value\n",
    "names=[\"Nikita\",\"Ankita\",\"Shubham\",\"Kishori\",\"Shantaram\"]\n",
    "for i ,x in enumerate(names):\n",
    "    print(i,x)"
   ]
  },
  {
   "cell_type": "code",
   "execution_count": 11,
   "id": "43d263ce",
   "metadata": {},
   "outputs": [
    {
     "data": {
      "text/plain": [
       "[(0, 'Nikita'),\n",
       " (1, 'Ankita'),\n",
       " (2, 'Shubham'),\n",
       " (3, 'Kishori'),\n",
       " (4, 'Shantaram')]"
      ]
     },
     "execution_count": 11,
     "metadata": {},
     "output_type": "execute_result"
    }
   ],
   "source": [
    "list(enumerate(names))"
   ]
  },
  {
   "cell_type": "code",
   "execution_count": 12,
   "id": "a49facb3",
   "metadata": {},
   "outputs": [
    {
     "name": "stdout",
     "output_type": "stream",
     "text": [
      "Nikita\n",
      "Ankita\n",
      "Shubham\n",
      "Shantaram\n"
     ]
    }
   ],
   "source": [
    "names=[\"Nikita\",\"Ankita\",\"Shubham\",\"Kishori\",\"Shantaram\"]\n",
    "for i in names:\n",
    "    if i!=\"Kishori\":\n",
    "        print(i)\n",
    "        "
   ]
  },
  {
   "cell_type": "code",
   "execution_count": 13,
   "id": "46d83470",
   "metadata": {},
   "outputs": [
    {
     "name": "stdout",
     "output_type": "stream",
     "text": [
      "Nikita\n",
      "Ankita\n",
      "Shubham\n"
     ]
    }
   ],
   "source": [
    "names=[\"Nikita\",\"Ankita\",\"Shubham\",\"Kishori\",\"Shantaram\"]\n",
    "for i in names:\n",
    "    if i==\"Kishori\":\n",
    "        break\n",
    "    print(i)\n",
    "        "
   ]
  },
  {
   "cell_type": "code",
   "execution_count": 14,
   "id": "0d23dca0",
   "metadata": {},
   "outputs": [
    {
     "name": "stdout",
     "output_type": "stream",
     "text": [
      "1\n",
      "wrong number\n",
      "wrong number\n",
      "wrong number\n",
      "5\n"
     ]
    }
   ],
   "source": [
    "my_list=[1,2,3,4,5]\n",
    "for i in my_list:\n",
    "    if i==1:\n",
    "        print(i)\n",
    "    elif i==5:\n",
    "        print(i)\n",
    "    else:\n",
    "        print(\"wrong number\")"
   ]
  },
  {
   "cell_type": "code",
   "execution_count": 15,
   "id": "67e1256e",
   "metadata": {},
   "outputs": [
    {
     "name": "stdout",
     "output_type": "stream",
     "text": [
      "2 4 8\n",
      "3 9 27\n",
      "5 25 125\n"
     ]
    }
   ],
   "source": [
    "prime=[2,3,5]\n",
    "for i in prime:\n",
    "    squared=i**2\n",
    "    cube=i**3\n",
    "    print(i,squared,cube)"
   ]
  },
  {
   "cell_type": "code",
   "execution_count": 16,
   "id": "5c9af7ef",
   "metadata": {},
   "outputs": [
    {
     "name": "stdout",
     "output_type": "stream",
     "text": [
      "55\n"
     ]
    }
   ],
   "source": [
    "total=0\n",
    "for i in range(10):\n",
    "    total=total+(i+1)\n",
    "print(total)    "
   ]
  },
  {
   "cell_type": "code",
   "execution_count": 17,
   "id": "c1b956a8",
   "metadata": {},
   "outputs": [
    {
     "name": "stdout",
     "output_type": "stream",
     "text": [
      "mahbuhS\n"
     ]
    }
   ],
   "source": [
    "original=\"Shubham\"\n",
    "result=\"\"\n",
    "for i in original:\n",
    "    result=i+result\n",
    "print(result)"
   ]
  },
  {
   "cell_type": "code",
   "execution_count": 18,
   "id": "85395d37",
   "metadata": {},
   "outputs": [
    {
     "name": "stdout",
     "output_type": "stream",
     "text": [
      "['red', 'green', 'pink', 'blue', 'orange']\n"
     ]
    }
   ],
   "source": [
    "word=[\"red\",\"green\",\"pink\",\"blue\",\"orange\"]\n",
    "length=[]\n",
    "for i in word:\n",
    "    length.extend(word)\n",
    "    break\n",
    "print(length)"
   ]
  },
  {
   "cell_type": "code",
   "execution_count": 19,
   "id": "343e8a2d",
   "metadata": {},
   "outputs": [
    {
     "name": "stdout",
     "output_type": "stream",
     "text": [
      "35\n"
     ]
    }
   ],
   "source": [
    "list_=[20,10,5]\n",
    "total=0\n",
    "for i in list_:\n",
    "    total=total+i\n",
    "print(total)"
   ]
  },
  {
   "cell_type": "code",
   "execution_count": 20,
   "id": "a2aaa38c",
   "metadata": {},
   "outputs": [
    {
     "name": "stdout",
     "output_type": "stream",
     "text": [
      "9\n"
     ]
    }
   ],
   "source": [
    "t=0\n",
    "for i in range(1,8):\n",
    "    if i % 3==0:\n",
    "        t=t+i\n",
    "print(t)        "
   ]
  },
  {
   "cell_type": "code",
   "execution_count": 21,
   "id": "093403db",
   "metadata": {},
   "outputs": [
    {
     "name": "stdout",
     "output_type": "stream",
     "text": [
      "2318\n"
     ]
    }
   ],
   "source": [
    "t=0\n",
    "for i in range(1,100):\n",
    "    if i%3==0 or i%5==0:\n",
    "        t=t+i\n",
    "print(t)"
   ]
  },
  {
   "cell_type": "code",
   "execution_count": 22,
   "id": "6a872770",
   "metadata": {},
   "outputs": [
    {
     "name": "stdout",
     "output_type": "stream",
     "text": [
      "[2, 4, 6, 8, 10]\n",
      "[1, 3, 5, 7, 9]\n"
     ]
    }
   ],
   "source": [
    "no=[1,2,3,4,5,6,7,8,9,10]\n",
    "even_no=[]\n",
    "odd_no=[]\n",
    "for i in no:\n",
    "    if  i%2==0:\n",
    "        even_no.append(i)\n",
    "#       print(i,\" is a even number\")\n",
    "    else:\n",
    "#       print(i,\" is a odd number\")\n",
    "        odd_no.append(i)\n",
    "print(even_no)\n",
    "print(odd_no)"
   ]
  },
  {
   "cell_type": "code",
   "execution_count": 23,
   "id": "a74abb39",
   "metadata": {},
   "outputs": [
    {
     "name": "stdout",
     "output_type": "stream",
     "text": [
      "N\n",
      "i\n",
      "k\n",
      "i\n",
      "t\n",
      "a\n"
     ]
    }
   ],
   "source": [
    "for i in \"Nikita\":\n",
    "    print(i)"
   ]
  },
  {
   "cell_type": "code",
   "execution_count": 24,
   "id": "798ba615",
   "metadata": {},
   "outputs": [
    {
     "name": "stdout",
     "output_type": "stream",
     "text": [
      "(0,0)\n",
      "(0,1)\n",
      "(0,2)\n",
      "(1,0)\n",
      "(1,1)\n",
      "(1,2)\n",
      "(2,0)\n",
      "(2,1)\n",
      "(2,2)\n",
      "(3,0)\n",
      "(3,1)\n",
      "(3,2)\n",
      "(4,0)\n",
      "(4,1)\n",
      "(4,2)\n"
     ]
    }
   ],
   "source": [
    "for i in range(5):\n",
    "    for j in range(3):\n",
    "        print(f\"({i},{j})\")"
   ]
  },
  {
   "cell_type": "code",
   "execution_count": 25,
   "id": "56941920",
   "metadata": {},
   "outputs": [
    {
     "name": "stdout",
     "output_type": "stream",
     "text": [
      "1 2 3 4 5 6 7 8 9 10 \n",
      "2 4 6 8 10 12 14 16 18 20 \n",
      "3 6 9 12 15 18 21 24 27 30 \n",
      "4 8 12 16 20 24 28 32 36 40 \n",
      "5 10 15 20 25 30 35 40 45 50 \n",
      "6 12 18 24 30 36 42 48 54 60 \n",
      "7 14 21 28 35 42 49 56 63 70 \n",
      "8 16 24 32 40 48 56 64 72 80 \n",
      "9 18 27 36 45 54 63 72 81 90 \n",
      "10 20 30 40 50 60 70 80 90 100 \n"
     ]
    }
   ],
   "source": [
    "for i in range(1,11):\n",
    "    for j in range(1,11):\n",
    "        print(i*j,end=\" \")\n",
    "    print()"
   ]
  },
  {
   "cell_type": "code",
   "execution_count": 26,
   "id": "d394edd8",
   "metadata": {},
   "outputs": [
    {
     "name": "stdout",
     "output_type": "stream",
     "text": [
      "1 2 3 4 5 6 7 8 9 10 \n",
      "2 4 6 8 10 12 14 16 18 20 \n",
      "3 6 9 12 15 18 21 24 27 30 \n",
      "4 8 12 16 20 24 28 32 36 40 \n",
      "\n",
      "6 12 18 24 30 36 42 48 54 60 \n",
      "7 14 21 28 35 42 49 56 63 70 \n",
      "8 16 24 32 40 48 56 64 72 80 \n",
      "9 18 27 36 45 54 63 72 81 90 \n",
      "10 20 30 40 50 60 70 80 90 100 \n"
     ]
    }
   ],
   "source": [
    "for i in range(1,11):\n",
    "    for j in range(1,11):\n",
    "        if i==5:\n",
    "            continue \n",
    "        print(i*j,end=\" \")\n",
    "    print()"
   ]
  },
  {
   "cell_type": "code",
   "execution_count": 27,
   "id": "07aecece",
   "metadata": {},
   "outputs": [
    {
     "name": "stdout",
     "output_type": "stream",
     "text": [
      "75\n",
      "150\n",
      "145\n"
     ]
    }
   ],
   "source": [
    "#Display numbers from a list using loop which satisfy the condition:\n",
    "\n",
    "# 1.The numbers must be divisible by 5\n",
    "# 2.If number is greater than 150,then skip it,and move to next number\n",
    "# 3.If number is greater than 500,then stop the loop\n",
    "numbers=[12,75,150,180,145,525,50]\n",
    "for i in numbers:\n",
    "    if i>500:\n",
    "        break\n",
    "    elif i>150:\n",
    "        continue\n",
    "    elif i%5==0:\n",
    "        print(i)    \n",
    "        "
   ]
  },
  {
   "cell_type": "code",
   "execution_count": 28,
   "id": "f85e31c5",
   "metadata": {},
   "outputs": [
    {
     "name": "stdout",
     "output_type": "stream",
     "text": [
      "N\n",
      "i\n",
      "k\n",
      "i\n",
      "t\n",
      "a\n"
     ]
    }
   ],
   "source": [
    "for name in \"Nikita\":#print like list \n",
    "    print(name)"
   ]
  },
  {
   "cell_type": "code",
   "execution_count": 29,
   "id": "d1c8b415",
   "metadata": {},
   "outputs": [
    {
     "name": "stdout",
     "output_type": "stream",
     "text": [
      "N\n",
      "i\n",
      "k\n",
      "i\n",
      "the end\n",
      " \n"
     ]
    }
   ],
   "source": [
    "#use of break statement inside the loop\n",
    "for name in \"Nikita\":\n",
    "    if name ==\"t\":\n",
    "        break #If condition is true then go outside the loop directly\n",
    "    print(name)\n",
    "print(\"the end\")\n",
    "'''1st iteration:N==t false then it print(N)\n",
    "2nd iteration:i==t false then it print(i)\n",
    "3rd iteration:k==t false then it print(k)\n",
    "4th iteration:i==t false then it print(i)\n",
    "5th iteration:t==t true then it break and go outside the for loop directly'''\n",
    "print(\" \")\n",
    "#for loop is used for iteration and if loop is used for condition checking "
   ]
  },
  {
   "cell_type": "code",
   "execution_count": 30,
   "id": "85662845",
   "metadata": {},
   "outputs": [
    {
     "name": "stdout",
     "output_type": "stream",
     "text": [
      "S\n",
      "u\n",
      "b\n",
      "a\n",
      "m\n",
      "the end\n"
     ]
    }
   ],
   "source": [
    "#Use of continue statement inside the loop\n",
    "for name in \"Shubham\":\n",
    "    if name ==\"h\":\n",
    "        continue#If condtion true then continue(skip the true condition value)and go to next index upto all index\n",
    "    print(name)\n",
    "print(\"the end\")\n",
    "     "
   ]
  },
  {
   "cell_type": "code",
   "execution_count": 31,
   "id": "40f6a617",
   "metadata": {},
   "outputs": [
    {
     "name": "stdout",
     "output_type": "stream",
     "text": [
      "2 * 1 = 2\n",
      "2 * 2 = 4\n",
      "2 * 3 = 6\n",
      "2 * 4 = 8\n",
      "2 * 5 = 10\n",
      "2 * 6 = 12\n",
      "2 * 7 = 14\n",
      "2 * 8 = 16\n",
      "2 * 9 = 18\n",
      "2 * 10 = 20\n"
     ]
    }
   ],
   "source": [
    "#Write a program to print multiplication table of a given number 2\n",
    "n=2#or from the user int(input(\"Enter the number\"))\n",
    "for i in range(1,11,1):\n",
    "    mult=n*i\n",
    "    print(n,\"*\",i,\"=\",mult)"
   ]
  },
  {
   "cell_type": "code",
   "execution_count": 32,
   "id": "e053e2a6",
   "metadata": {},
   "outputs": [
    {
     "name": "stdout",
     "output_type": "stream",
     "text": [
      "Hello Nikita\n",
      "Hello Ankita\n",
      "Hello Shubham\n",
      "Hello Ashwini\n",
      "Hello Kishori\n"
     ]
    }
   ],
   "source": [
    "list_=[\"Nikita\",\"Ankita\",\"Shubham\",\"Ashwini\",\"Kishori\"]\n",
    "for i in range(len(list_)):\n",
    "    print(\"Hello\",list_[i])"
   ]
  },
  {
   "cell_type": "code",
   "execution_count": 33,
   "id": "9cb691cb",
   "metadata": {},
   "outputs": [
    {
     "name": "stdout",
     "output_type": "stream",
     "text": [
      "Enter the plyaer name here: Carmelo\n",
      "20\n"
     ]
    }
   ],
   "source": [
    "# plyaer_name=\"Carmelo\"\n",
    "player_name=str(input(\"Enter the plyaer name here: \"))\n",
    "goals={\"Edison\":14,\"Bernat\":4,\"Carmelo\":20}\n",
    "\n",
    "for player in goals:\n",
    "    if player==player_name:\n",
    "        print(goals[player])\n",
    "        break\n",
    "else:\n",
    "    print(\"No player with that name found.\")"
   ]
  },
  {
   "cell_type": "code",
   "execution_count": 34,
   "id": "fbf286a4",
   "metadata": {},
   "outputs": [
    {
     "name": "stdout",
     "output_type": "stream",
     "text": [
      "[8, 27, 64, 125, 216, 343, 512, 729, 1000]\n"
     ]
    }
   ],
   "source": [
    "num=[2,3,4,5,6,7,8,9,10]\n",
    "cube=[]\n",
    "for i in num:\n",
    "    cube.append(i**3)\n",
    "print(cube)"
   ]
  },
  {
   "cell_type": "markdown",
   "id": "31f2202e",
   "metadata": {},
   "source": [
    "# While loop\n",
    "The while loop exists as a tool for repeated execution based on a condition.The code block will keep being executed until the given logical condition returns a false boolean value.It is used when number of iteration is unknown.For loop & while loop are alternarive to each other."
   ]
  },
  {
   "cell_type": "code",
   "execution_count": 35,
   "id": "c1068996",
   "metadata": {},
   "outputs": [
    {
     "name": "stdout",
     "output_type": "stream",
     "text": [
      "1990\n",
      "1991\n",
      "1992\n",
      "1993\n",
      "It took 4 to go out of the loop\n",
      " \n"
     ]
    }
   ],
   "source": [
    "#while loop example\n",
    "number=[\"1990\",\"1991\",\"1992\",\"1993\",\"1994\"]\n",
    "i=0  #here for the while indexes to increment iterate by defoult we declare the variable(i=index)\n",
    "digit=0  #For conditon we initilaze the new variable assign the value(mostly 0)\n",
    "while(digit!=\"1993\"):\n",
    "    digit=number[i]\n",
    "    i=i+1\n",
    "    print(digit)\n",
    "    \n",
    "print(\"It took\",i,\"to go out of the loop\")\n",
    "\n",
    "''' 1st iteration :Enters into the loop before i=0,digit=0---> after digit=1982 i=1 print(1982)\n",
    "  2nd iteration :Enters into the loop before i=1,digit=1982---> after digit=1980 i=2 print(1980) \n",
    "  3rd iteration :Enters into the loop before i=2,digit=1980---> after digit=1973 i=3 print(1973)'''\n",
    "print(\" \")"
   ]
  },
  {
   "cell_type": "code",
   "execution_count": 36,
   "id": "49131d6d",
   "metadata": {},
   "outputs": [
    {
     "name": "stdout",
     "output_type": "stream",
     "text": [
      "1\n",
      "2\n",
      "3\n",
      "4\n",
      "5\n"
     ]
    }
   ],
   "source": [
    "i=1\n",
    "while(i<6):\n",
    "    print(i)#it give value from 1 to 5 bcoz it 1st execute then add by 1\n",
    "    i+=1\n",
    "#     print(i)# it give value from 2 to 5 bcoz it 1st add by 1 then execute"
   ]
  },
  {
   "cell_type": "code",
   "execution_count": 37,
   "id": "de27dfd5",
   "metadata": {},
   "outputs": [
    {
     "name": "stdout",
     "output_type": "stream",
     "text": [
      "My Name is NIKITA KHIRID\n",
      "My Name is NIKITA KHIRID\n",
      "My Name is NIKITA KHIRID\n",
      "My Name is NIKITA KHIRID\n",
      "My Name is NIKITA KHIRID\n",
      "My Name is NIKITA KHIRID\n",
      "My Name is NIKITA KHIRID\n",
      "My Name is NIKITA KHIRID\n",
      "My Name is NIKITA KHIRID\n",
      "My Name is NIKITA KHIRID\n"
     ]
    }
   ],
   "source": [
    "i=10\n",
    "while(i>=1):\n",
    "    print(\"My Name is NIKITA KHIRID\")\n",
    "    i -=1"
   ]
  },
  {
   "cell_type": "code",
   "execution_count": 38,
   "id": "b6187de4",
   "metadata": {},
   "outputs": [
    {
     "name": "stdout",
     "output_type": "stream",
     "text": [
      "55\n"
     ]
    }
   ],
   "source": [
    "i=1\n",
    "sum=0\n",
    "while i<=10:\n",
    "    sum=sum+i\n",
    "    i +=1\n",
    "print(sum)"
   ]
  },
  {
   "cell_type": "code",
   "execution_count": 39,
   "id": "3ec972c8",
   "metadata": {},
   "outputs": [
    {
     "name": "stdout",
     "output_type": "stream",
     "text": [
      "30\n"
     ]
    }
   ],
   "source": [
    "i=1\n",
    "sum=0\n",
    "while i<=10:\n",
    "    if i%2==0:\n",
    "        sum=sum+i\n",
    "    i +=1\n",
    "print(sum)"
   ]
  }
 ],
 "metadata": {
  "kernelspec": {
   "display_name": "Python 3 (ipykernel)",
   "language": "python",
   "name": "python3"
  },
  "language_info": {
   "codemirror_mode": {
    "name": "ipython",
    "version": 3
   },
   "file_extension": ".py",
   "mimetype": "text/x-python",
   "name": "python",
   "nbconvert_exporter": "python",
   "pygments_lexer": "ipython3",
   "version": "3.9.13"
  }
 },
 "nbformat": 4,
 "nbformat_minor": 5
}
