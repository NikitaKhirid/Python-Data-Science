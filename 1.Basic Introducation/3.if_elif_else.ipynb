{
 "cells": [
  {
   "cell_type": "markdown",
   "id": "079ca552",
   "metadata": {},
   "source": [
    "# Condition Statements"
   ]
  },
  {
   "cell_type": "markdown",
   "id": "145788e3",
   "metadata": {},
   "source": [
    "## Comparison Operators"
   ]
  },
  {
   "cell_type": "markdown",
   "id": "77756f1b",
   "metadata": {},
   "source": [
    "#Comparison operations compare some value or operand and,based on a condition,they produce a Boolean.When comparing two values you can use these operations:\n",
    "  \n",
    "equal:  ==\n",
    "\n",
    "not equal:  !=\n",
    "\n",
    "grater than:  >\n",
    "\n",
    "less than:   <\n",
    "\n",
    "greater than or equal to:  >=\n",
    "\n",
    "less than or equal to:   <="
   ]
  },
  {
   "cell_type": "code",
   "execution_count": 1,
   "id": "a318f5fa",
   "metadata": {},
   "outputs": [
    {
     "data": {
      "text/plain": [
       "False"
      ]
     },
     "execution_count": 1,
     "metadata": {},
     "output_type": "execute_result"
    }
   ],
   "source": [
    "#Condition Equal\n",
    "a=6\n",
    "a==8"
   ]
  },
  {
   "cell_type": "code",
   "execution_count": 2,
   "id": "7c16d54b",
   "metadata": {},
   "outputs": [
    {
     "data": {
      "text/plain": [
       "False"
      ]
     },
     "execution_count": 2,
     "metadata": {},
     "output_type": "execute_result"
    }
   ],
   "source": [
    "#Greater than sign\n",
    "i=5\n",
    "i>8"
   ]
  },
  {
   "cell_type": "code",
   "execution_count": 3,
   "id": "29a0d478",
   "metadata": {},
   "outputs": [
    {
     "data": {
      "text/plain": [
       "True"
      ]
     },
     "execution_count": 3,
     "metadata": {},
     "output_type": "execute_result"
    }
   ],
   "source": [
    "#Less than sign\n",
    "i=8\n",
    "i<10"
   ]
  },
  {
   "cell_type": "code",
   "execution_count": 4,
   "id": "3d92f441",
   "metadata": {},
   "outputs": [
    {
     "data": {
      "text/plain": [
       "True"
      ]
     },
     "execution_count": 4,
     "metadata": {},
     "output_type": "execute_result"
    }
   ],
   "source": [
    "#Inequality sign\n",
    "i=2\n",
    "i!=5"
   ]
  },
  {
   "cell_type": "code",
   "execution_count": 5,
   "id": "36c67e26",
   "metadata": {},
   "outputs": [
    {
     "data": {
      "text/plain": [
       "False"
      ]
     },
     "execution_count": 5,
     "metadata": {},
     "output_type": "execute_result"
    }
   ],
   "source": [
    "#Inequality sign to compare the string\n",
    "\"ABCD\"== \"NIKITA KHIRID\""
   ]
  },
  {
   "cell_type": "code",
   "execution_count": 6,
   "id": "6dcccacf",
   "metadata": {},
   "outputs": [
    {
     "data": {
      "text/plain": [
       "True"
      ]
     },
     "execution_count": 6,
     "metadata": {},
     "output_type": "execute_result"
    }
   ],
   "source": [
    "\"ABCD\"!=\"NIKITA KHIRID\" #Not equal to sign"
   ]
  },
  {
   "cell_type": "markdown",
   "id": "72d49000",
   "metadata": {},
   "source": [
    "Each and every english alphabets has a specific code number,that particulare number is called ASCII code.Upper & Lower case alphabets have different ASCII code(number)"
   ]
  },
  {
   "cell_type": "code",
   "execution_count": 7,
   "id": "61b805b0",
   "metadata": {},
   "outputs": [
    {
     "data": {
      "text/plain": [
       "True"
      ]
     },
     "execution_count": 7,
     "metadata": {},
     "output_type": "execute_result"
    }
   ],
   "source": [
    "#Compare charater\n",
    "\"B\">\"A\"#A=101 ,B=102"
   ]
  },
  {
   "cell_type": "markdown",
   "id": "23e6c7d1",
   "metadata": {},
   "source": [
    "When there are multiple letters,the first letter takes precedence in ordering:(Only first letter consider code then give output according to it)"
   ]
  },
  {
   "cell_type": "code",
   "execution_count": 8,
   "id": "d6f5b653",
   "metadata": {},
   "outputs": [
    {
     "data": {
      "text/plain": [
       "True"
      ]
     },
     "execution_count": 8,
     "metadata": {},
     "output_type": "execute_result"
    }
   ],
   "source": [
    "#Compare characters\n",
    "\"BA\">\"AB\""
   ]
  },
  {
   "cell_type": "code",
   "execution_count": 9,
   "id": "ec07b135",
   "metadata": {},
   "outputs": [],
   "source": [
    "# Note: \n",
    "# Upper case letters have different ASCII code than lower case letters,\n",
    "#which means comparison between the letters in python is case sensitive."
   ]
  },
  {
   "cell_type": "markdown",
   "id": "70751812",
   "metadata": {},
   "source": [
    "## if statement"
   ]
  },
  {
   "cell_type": "code",
   "execution_count": 10,
   "id": "41f921db",
   "metadata": {},
   "outputs": [],
   "source": [
    "#If statement example\n",
    "age=15\n",
    "if age>18:   #expression that can be true or false\n",
    "    print(\"You can enter\")   #within an indent,we have the expression that is run if the condition is true\n",
    "    print(\"Move on\")   #It dont give any output bcoz condition is false  "
   ]
  },
  {
   "cell_type": "code",
   "execution_count": 11,
   "id": "255905a1",
   "metadata": {},
   "outputs": [
    {
     "name": "stdout",
     "output_type": "stream",
     "text": [
      "You can enter\n",
      "Move on\n"
     ]
    }
   ],
   "source": [
    "#If Condition is true.\n",
    "\n",
    "age=20\n",
    "if age>18:   #expression that can be true or false\n",
    "    print(\"You can enter\")   #within an indent,we have the expression that is run if the condition is true\n",
    "    print(\"Move on\")   #It print within an indent bcoz condition is true \n",
    "\n",
    "    \n",
    "    \n",
    "    #Condition is true that's way it enter in loop then go outside the loop and\n",
    "    #print the remeaning part that are outside the (if)loop    "
   ]
  },
  {
   "cell_type": "code",
   "execution_count": 12,
   "id": "c70a9e28",
   "metadata": {},
   "outputs": [
    {
     "name": "stdout",
     "output_type": "stream",
     "text": [
      "Move on\n"
     ]
    }
   ],
   "source": [
    "#If condition is false.\n",
    "\n",
    "age=15\n",
    "if age>18:   #expression that can be true or false\n",
    "    print(\"You can enter\")   #within an indent,we have the expression that is run if the condition is true\n",
    "print(\"Move on\")   #The statement after the if loop statement will run regardless if condition is true or false \n",
    "\n",
    "\n",
    "\n",
    "#Condition is false that's way it don't enter in loop it go directly outside the loop and \n",
    "#print the remeaning part that are outside of hole(if)loop"
   ]
  },
  {
   "cell_type": "markdown",
   "id": "d819fb02",
   "metadata": {},
   "source": [
    "## if_else statement(Only for check two condition)"
   ]
  },
  {
   "cell_type": "code",
   "execution_count": 13,
   "id": "67466a20",
   "metadata": {},
   "outputs": [
    {
     "name": "stdout",
     "output_type": "stream",
     "text": [
      "You can enter\n",
      "Move on\n"
     ]
    }
   ],
   "source": [
    "#if_else statement example\n",
    "\n",
    "#if condition is true\n",
    "age=19\n",
    "if age>18:\n",
    "    print(\"You can enter\")  #within an indent,we have the expression that is run if the condition is true\n",
    "else: #If condition is false then print the next line\n",
    "    print(\"Go to see meat loaf\")   ##within an indent of else,we have the expression that is run if the condition is false\n",
    "print(\"Move on\")      #The statement after the (if_else)loop statement will run regardless if condition is true or false \n",
    "\n",
    "\n",
    "#Condition is true that's way it enter in  for loop.  \n",
    "#Then go outside the loop and print the reameaning  part that are outside of hole(if_else)loop  "
   ]
  },
  {
   "cell_type": "code",
   "execution_count": 14,
   "id": "4a5c1afc",
   "metadata": {},
   "outputs": [
    {
     "name": "stdout",
     "output_type": "stream",
     "text": [
      "Go to see meat loaf\n",
      "Move on\n"
     ]
    }
   ],
   "source": [
    "#if_else statement example\n",
    "\n",
    "#if condition is false\n",
    "age=15\n",
    "if age>18:\n",
    "    print(\"You can enter\")  #within an indent,we have the expression that is run if the condition is true\n",
    "else: #If condition is false then print the next line\n",
    "    print(\"Go to see meat loaf\")   ##within an indent of else,we have the expression that is run if the condition is false\n",
    "print(\"Move on\")      #The statement after the (if_else) loop statement will run regardless if condition is true or false \n",
    "\n",
    "\n",
    "#Condition is false that's way it don't enter in if loop  it go to else part  directly print the result. \n",
    "#Then go to outside the loop and print the remeaning part that are outside of hole (if_else)loop."
   ]
  },
  {
   "cell_type": "code",
   "execution_count": 15,
   "id": "d2720fe3",
   "metadata": {},
   "outputs": [
    {
     "name": "stdout",
     "output_type": "stream",
     "text": [
      "Album year is greater than 1980\n",
      "Do something\n"
     ]
    }
   ],
   "source": [
    "#Another example of (if_else)loop\n",
    "\n",
    "album_year=1983\n",
    "if album_year > 1980:\n",
    "    print(\"Album year is greater than 1980\")\n",
    "else:\n",
    "    print(\"Album year is less than 1980\")\n",
    "print(\"Do something\")"
   ]
  },
  {
   "cell_type": "code",
   "execution_count": 16,
   "id": "83378e3b",
   "metadata": {},
   "outputs": [
    {
     "name": "stdout",
     "output_type": "stream",
     "text": [
      "Album year is not between in 1980 to 1990\n",
      "\n",
      "Do stuff...\n"
     ]
    }
   ],
   "source": [
    "#Condition statement example for (if_else)loop\n",
    "\n",
    "album_year=1996\n",
    "if (album_year > 1980) and (album_year<1990): #And print true statement(if part statement) only if both the condition is true\n",
    "    print(\"Album year is between in 1980 to 1990\")\n",
    "else:\n",
    "    print(\"Album year is not between in 1980 to 1990\") #And print false statement(else part statement) only if one of the condition is false.\n",
    "    print(\"\")  #It give space or black line in output\n",
    "print(\"Do stuff...\")  #The statement after the (if_else)loop statement will run regardless if condition is true or false \n"
   ]
  },
  {
   "cell_type": "code",
   "execution_count": 17,
   "id": "5c3d16b8",
   "metadata": {},
   "outputs": [
    {
     "name": "stdout",
     "output_type": "stream",
     "text": [
      "Album year was not made in the 1980's\n",
      "\n"
     ]
    }
   ],
   "source": [
    "album_year=1975\n",
    "if (album_year > 1980) or (album_year<1990): #or print ture statement (if part statement)only if one of the condition is true\n",
    "    print(\"Album year was not made in the 1980's\")\n",
    "else:\n",
    "    print(\"Album year was made in the 1980's\") #or print false statement (else part statement)only if both condition is false\n",
    "print(\"\")   #The statement after the (if_else)loop statement will run regardless if condition is true or false \n"
   ]
  },
  {
   "cell_type": "code",
   "execution_count": 18,
   "id": "d5ceca8c",
   "metadata": {},
   "outputs": [
    {
     "name": "stdout",
     "output_type": "stream",
     "text": [
      "Album year is in 1980\n"
     ]
    }
   ],
   "source": [
    "album_year=1981\n",
    "if not(album_year<1980):\n",
    "    print(\"Album year is in 1980\")  #not print true statement(if part statement)only if condition is false\n",
    "else:\n",
    "    print(\"Album year is  not in 1980\")  #not print false statement (else part statement)only if condition is true\n"
   ]
  },
  {
   "cell_type": "markdown",
   "id": "b94cd491",
   "metadata": {},
   "source": [
    "## if_elif_else Statement (nth number condition at a time)"
   ]
  },
  {
   "cell_type": "code",
   "execution_count": 19,
   "id": "a77aa0e8",
   "metadata": {},
   "outputs": [
    {
     "name": "stdout",
     "output_type": "stream",
     "text": [
      "You can enter\n",
      "Move on\n"
     ]
    }
   ],
   "source": [
    "# Elif statement example\n",
    "\n",
    "#first condition is ture\n",
    "age=19\n",
    "if age>18:\n",
    "    print(\"You can enter\") #It is first condition\n",
    "elif age==18:\n",
    "    print(\"Go to see pink floyd\")#It is second condition\n",
    "else:\n",
    "    print(\"Go to see meat loaf\")#If both first and second condition false then print else part\n",
    "    \n",
    "print(\"Move on\")    \n",
    "\n",
    "\n",
    "#Here if condition is true that's way it print  if part and go outside the (elif_else)loop directly bcoz if condition is true.\n",
    "#Print the remeaning part bcoz it is outside the (if_elif_else)loop"
   ]
  },
  {
   "cell_type": "code",
   "execution_count": 20,
   "id": "00775bd0",
   "metadata": {},
   "outputs": [
    {
     "name": "stdout",
     "output_type": "stream",
     "text": [
      "Go to see pink floyd\n",
      "Move on\n"
     ]
    }
   ],
   "source": [
    "#second condition is true\n",
    "age=18\n",
    "if age>18:\n",
    "    print(\"You can enter\") #It is first condition\n",
    "elif age==18:\n",
    "    print(\"Go to see pink floyd\")#It is second condition\n",
    "else:\n",
    "    print(\"Go to see meat loaf\")#If both first and second condition false then print else part\n",
    "    \n",
    "print(\"Move on\")    \n",
    "\n",
    "\n",
    "#Here if condition is false that's way it go to elif condition it is true that's way elif print that part.\n",
    "#and go outside the (else)loop directly bcoz elif condition is true.\n",
    "#Print the remeaning part bcoz it is outside the (if_elif_else)loop"
   ]
  },
  {
   "cell_type": "code",
   "execution_count": 21,
   "id": "dd1ec279",
   "metadata": {},
   "outputs": [
    {
     "name": "stdout",
     "output_type": "stream",
     "text": [
      "Go to see meat loaf\n",
      "Move on\n"
     ]
    }
   ],
   "source": [
    "#Both first and second condition false\n",
    "age=17\n",
    "if age>18:\n",
    "    print(\"You can enter\") #It is first condition\n",
    "elif age==18:\n",
    "    print(\"Go to see pink floyd\")#It is second condition\n",
    "else:\n",
    "    print(\"Go to see meat loaf\")#If both first and second condition false then print else part\n",
    "    \n",
    "print(\"Move on\")    \n",
    "\n",
    "\n",
    "#Here if condition is false that's way it go to elif condition it is also false that's way it go to else part and print that part.\n",
    "#because (if_elif)loop condition both are false it print the else part\n",
    "#Print the remeaning part bcoz it is outside the (if_elif_else)loop"
   ]
  }
 ],
 "metadata": {
  "kernelspec": {
   "display_name": "Python 3 (ipykernel)",
   "language": "python",
   "name": "python3"
  },
  "language_info": {
   "codemirror_mode": {
    "name": "ipython",
    "version": 3
   },
   "file_extension": ".py",
   "mimetype": "text/x-python",
   "name": "python",
   "nbconvert_exporter": "python",
   "pygments_lexer": "ipython3",
   "version": "3.9.13"
  }
 },
 "nbformat": 4,
 "nbformat_minor": 5
}
