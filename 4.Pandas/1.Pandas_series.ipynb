{
 "cells": [
  {
   "cell_type": "markdown",
   "id": "965d13fb",
   "metadata": {},
   "source": [
    "# Pandas Series\n",
    "Basically,a series is very similiar to a NumPy array (in fact is built on top of the NumPy array object.)\n",
    "\n",
    "## Basic Difference between Series and NumPy Array from a Series:\n",
    "-  Series can have explicitly(defined manually/update) defined indices(labelled index)whereas NumPy Arrays have only implicitly(automatic indexes) defined integer indicies.\n",
    "- Therefore,it can be indexed by a label,instead of just an integer location.\n",
    "- Series is heterogeneous(any data type) in nature so it's not necessary to hold numeric data for a series."
   ]
  },
  {
   "cell_type": "code",
   "execution_count": 1,
   "id": "a4b72f81",
   "metadata": {},
   "outputs": [],
   "source": [
    "import numpy as np\n",
    "import pandas as pd"
   ]
  },
  {
   "cell_type": "markdown",
   "id": "e9c6b1aa",
   "metadata": {},
   "source": [
    "## Creating a series"
   ]
  },
  {
   "cell_type": "code",
   "execution_count": 2,
   "id": "cb92ab73",
   "metadata": {},
   "outputs": [],
   "source": [
    "streams = ['Aeronautical','Civil','Mechanical']\n",
    "strength = [40,145,164]\n",
    "strgth = np.array([40,145,164]) \n",
    "dict1 = {'Aeronautical':40,'Civil':145,'Mechanical':164}"
   ]
  },
  {
   "cell_type": "markdown",
   "id": "f9c3b120",
   "metadata": {},
   "source": [
    "### a. Using Lists"
   ]
  },
  {
   "cell_type": "code",
   "execution_count": 3,
   "id": "61856db5",
   "metadata": {},
   "outputs": [
    {
     "data": {
      "text/plain": [
       "0     40\n",
       "1    145\n",
       "2    164\n",
       "dtype: int64"
      ]
     },
     "execution_count": 3,
     "metadata": {},
     "output_type": "execute_result"
    }
   ],
   "source": [
    "pd.Series(data=strength)"
   ]
  },
  {
   "cell_type": "code",
   "execution_count": 4,
   "id": "95d136ff",
   "metadata": {},
   "outputs": [
    {
     "data": {
      "text/plain": [
       "Aeronautical     40\n",
       "Civil           145\n",
       "Mechanical      164\n",
       "dtype: int64"
      ]
     },
     "execution_count": 4,
     "metadata": {},
     "output_type": "execute_result"
    }
   ],
   "source": [
    "pd.Series(data=strength,index=streams)"
   ]
  },
  {
   "cell_type": "code",
   "execution_count": 5,
   "id": "0bddd129",
   "metadata": {},
   "outputs": [
    {
     "data": {
      "text/plain": [
       "Aeronautical     40\n",
       "Civil           145\n",
       "Mechanical      164\n",
       "dtype: int64"
      ]
     },
     "execution_count": 5,
     "metadata": {},
     "output_type": "execute_result"
    }
   ],
   "source": [
    "pd.Series(strength,streams)"
   ]
  },
  {
   "cell_type": "markdown",
   "id": "400edf61",
   "metadata": {},
   "source": [
    "### b. Using Numpy Arrays"
   ]
  },
  {
   "cell_type": "code",
   "execution_count": 6,
   "id": "6cfbdd7f",
   "metadata": {},
   "outputs": [
    {
     "data": {
      "text/plain": [
       "0     40\n",
       "1    145\n",
       "2    164\n",
       "dtype: int32"
      ]
     },
     "execution_count": 6,
     "metadata": {},
     "output_type": "execute_result"
    }
   ],
   "source": [
    "pd.Series(strgth)"
   ]
  },
  {
   "cell_type": "code",
   "execution_count": 7,
   "id": "0d71d31e",
   "metadata": {},
   "outputs": [
    {
     "data": {
      "text/plain": [
       "Aeronautical     40\n",
       "Civil           145\n",
       "Mechanical      164\n",
       "dtype: int32"
      ]
     },
     "execution_count": 7,
     "metadata": {},
     "output_type": "execute_result"
    }
   ],
   "source": [
    "pd.Series(strgth,streams)"
   ]
  },
  {
   "cell_type": "markdown",
   "id": "3b9c5d3f",
   "metadata": {},
   "source": [
    "### c. Using Dictionary"
   ]
  },
  {
   "cell_type": "code",
   "execution_count": 8,
   "id": "bae15987",
   "metadata": {},
   "outputs": [
    {
     "data": {
      "text/plain": [
       "Aeronautical     40\n",
       "Civil           145\n",
       "Mechanical      164\n",
       "dtype: int64"
      ]
     },
     "execution_count": 8,
     "metadata": {},
     "output_type": "execute_result"
    }
   ],
   "source": [
    "pd.Series(dict1)#Keys consider as index for dictionary data type"
   ]
  },
  {
   "cell_type": "code",
   "execution_count": 9,
   "id": "9cebe721",
   "metadata": {},
   "outputs": [
    {
     "data": {
      "text/plain": [
       "A   NaN\n",
       "C   NaN\n",
       "M   NaN\n",
       "dtype: float64"
      ]
     },
     "execution_count": 9,
     "metadata": {},
     "output_type": "execute_result"
    }
   ],
   "source": [
    "pd.Series(dict1,[\"A\",\"C\",\"M\"])"
   ]
  },
  {
   "cell_type": "markdown",
   "id": "30331010",
   "metadata": {},
   "source": [
    "## Data in Series\n",
    "A series can contain any data of python object."
   ]
  },
  {
   "cell_type": "code",
   "execution_count": 10,
   "id": "f67a93b9",
   "metadata": {},
   "outputs": [
    {
     "data": {
      "text/plain": [
       "0    Aeronautical\n",
       "1           Civil\n",
       "2      Mechanical\n",
       "dtype: object"
      ]
     },
     "execution_count": 10,
     "metadata": {},
     "output_type": "execute_result"
    }
   ],
   "source": [
    "pd.Series(data=streams)"
   ]
  },
  {
   "cell_type": "code",
   "execution_count": 11,
   "id": "01fa5897",
   "metadata": {},
   "outputs": [
    {
     "data": {
      "text/plain": [
       "0    Nikita\n",
       "1        20\n",
       "2       abc\n",
       "3       2.3\n",
       "dtype: object"
      ]
     },
     "execution_count": 11,
     "metadata": {},
     "output_type": "execute_result"
    }
   ],
   "source": [
    "pd.Series([\"Nikita\",20,\"abc\",2.3])"
   ]
  },
  {
   "cell_type": "code",
   "execution_count": 12,
   "id": "c1295daf",
   "metadata": {},
   "outputs": [
    {
     "data": {
      "text/plain": [
       "0      <built-in function sum>\n",
       "1    <built-in function print>\n",
       "2      <built-in function len>\n",
       "dtype: object"
      ]
     },
     "execution_count": 12,
     "metadata": {},
     "output_type": "execute_result"
    }
   ],
   "source": [
    "#Even functions\n",
    "pd.Series([sum,print,len])"
   ]
  },
  {
   "cell_type": "markdown",
   "id": "eb834ad6",
   "metadata": {},
   "source": [
    "## Using an Index\n",
    "The  key to using a series is understanding its index.Pandas makes use of these index name or numbers by allowing for fast loop ups of information(works like a hash table or dictionary.)\n",
    "\n",
    "Let's see how to grab information from a series."
   ]
  },
  {
   "cell_type": "code",
   "execution_count": 13,
   "id": "6e930a89",
   "metadata": {},
   "outputs": [
    {
     "data": {
      "text/plain": [
       "Civil         5\n",
       "Mechanical    8\n",
       "Petroleum     3\n",
       "CS            9\n",
       "dtype: int64"
      ]
     },
     "execution_count": 13,
     "metadata": {},
     "output_type": "execute_result"
    }
   ],
   "source": [
    "no_of_labs1 = pd.Series([5,8,3,9],['Civil', 'Mechanical','Petroleum', 'CS'])\n",
    "no_of_labs1"
   ]
  },
  {
   "cell_type": "code",
   "execution_count": 14,
   "id": "f39f5667",
   "metadata": {},
   "outputs": [
    {
     "data": {
      "text/plain": [
       "Civil           5\n",
       "CS              8\n",
       "Mechanical      4\n",
       "Aeronautical    9\n",
       "dtype: int64"
      ]
     },
     "execution_count": 14,
     "metadata": {},
     "output_type": "execute_result"
    }
   ],
   "source": [
    "no_of_labs2= pd.Series([5,8,4,9],index = ['Civil', 'CS','Mechanical','Aeronautical'])\n",
    "no_of_labs2"
   ]
  },
  {
   "cell_type": "code",
   "execution_count": 15,
   "id": "84eacf21",
   "metadata": {},
   "outputs": [
    {
     "data": {
      "text/plain": [
       "pandas.core.series.Series"
      ]
     },
     "execution_count": 15,
     "metadata": {},
     "output_type": "execute_result"
    }
   ],
   "source": [
    "type(no_of_labs1)"
   ]
  },
  {
   "cell_type": "code",
   "execution_count": 16,
   "id": "9fb7b705",
   "metadata": {},
   "outputs": [
    {
     "data": {
      "text/plain": [
       "9"
      ]
     },
     "execution_count": 16,
     "metadata": {},
     "output_type": "execute_result"
    }
   ],
   "source": [
    "no_of_labs1[\"CS\"]"
   ]
  },
  {
   "cell_type": "code",
   "execution_count": 17,
   "id": "c8b6bfc1",
   "metadata": {},
   "outputs": [
    {
     "data": {
      "text/plain": [
       "8"
      ]
     },
     "execution_count": 17,
     "metadata": {},
     "output_type": "execute_result"
    }
   ],
   "source": [
    "no_of_labs1[\"Mechanical\"]"
   ]
  },
  {
   "cell_type": "code",
   "execution_count": 18,
   "id": "fdbdf918",
   "metadata": {},
   "outputs": [
    {
     "data": {
      "text/plain": [
       "Aeronautical     NaN\n",
       "CS              17.0\n",
       "Civil           10.0\n",
       "Mechanical      12.0\n",
       "Petroleum        NaN\n",
       "dtype: float64"
      ]
     },
     "execution_count": 18,
     "metadata": {},
     "output_type": "execute_result"
    }
   ],
   "source": [
    "result=no_of_labs1 + no_of_labs2\n",
    "result#It give NaN bcoz it has only one data type value(It indicates that one of the data type value is missing)"
   ]
  },
  {
   "cell_type": "code",
   "execution_count": 19,
   "id": "ed3984b5",
   "metadata": {},
   "outputs": [
    {
     "data": {
      "text/plain": [
       "3"
      ]
     },
     "execution_count": 19,
     "metadata": {},
     "output_type": "execute_result"
    }
   ],
   "source": [
    "result.count()#it only count the added index"
   ]
  },
  {
   "cell_type": "code",
   "execution_count": 20,
   "id": "497ce39b",
   "metadata": {},
   "outputs": [
    {
     "data": {
      "text/plain": [
       "(5,)"
      ]
     },
     "execution_count": 20,
     "metadata": {},
     "output_type": "execute_result"
    }
   ],
   "source": [
    "result.shape#it give as numbers of rows,column"
   ]
  },
  {
   "cell_type": "code",
   "execution_count": null,
   "id": "7ae3cb9e",
   "metadata": {},
   "outputs": [],
   "source": []
  }
 ],
 "metadata": {
  "kernelspec": {
   "display_name": "Python 3 (ipykernel)",
   "language": "python",
   "name": "python3"
  },
  "language_info": {
   "codemirror_mode": {
    "name": "ipython",
    "version": 3
   },
   "file_extension": ".py",
   "mimetype": "text/x-python",
   "name": "python",
   "nbconvert_exporter": "python",
   "pygments_lexer": "ipython3",
   "version": "3.9.13"
  }
 },
 "nbformat": 4,
 "nbformat_minor": 5
}
