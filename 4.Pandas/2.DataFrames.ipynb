{
 "cells": [
  {
   "cell_type": "markdown",
   "id": "eea4860e",
   "metadata": {},
   "source": [
    "## DataFrames\n",
    "Consider DataFrame as a combination of Series object  put together they share the same index."
   ]
  },
  {
   "cell_type": "code",
   "execution_count": 1,
   "id": "93e021e6",
   "metadata": {},
   "outputs": [],
   "source": [
    "import numpy as np\n",
    "import pandas as pd"
   ]
  },
  {
   "cell_type": "code",
   "execution_count": 2,
   "id": "adf03ac6",
   "metadata": {},
   "outputs": [
    {
     "data": {
      "text/html": [
       "<div>\n",
       "<style scoped>\n",
       "    .dataframe tbody tr th:only-of-type {\n",
       "        vertical-align: middle;\n",
       "    }\n",
       "\n",
       "    .dataframe tbody tr th {\n",
       "        vertical-align: top;\n",
       "    }\n",
       "\n",
       "    .dataframe thead th {\n",
       "        text-align: right;\n",
       "    }\n",
       "</style>\n",
       "<table border=\"1\" class=\"dataframe\">\n",
       "  <thead>\n",
       "    <tr style=\"text-align: right;\">\n",
       "      <th></th>\n",
       "      <th>Col1</th>\n",
       "      <th>Col2</th>\n",
       "      <th>Col3</th>\n",
       "    </tr>\n",
       "  </thead>\n",
       "  <tbody>\n",
       "    <tr>\n",
       "      <th>0</th>\n",
       "      <td>10</td>\n",
       "      <td>20</td>\n",
       "      <td>30</td>\n",
       "    </tr>\n",
       "    <tr>\n",
       "      <th>1</th>\n",
       "      <td>50</td>\n",
       "      <td>60</td>\n",
       "      <td>70</td>\n",
       "    </tr>\n",
       "    <tr>\n",
       "      <th>2</th>\n",
       "      <td>20</td>\n",
       "      <td>30</td>\n",
       "      <td>40</td>\n",
       "    </tr>\n",
       "  </tbody>\n",
       "</table>\n",
       "</div>"
      ],
      "text/plain": [
       "   Col1  Col2  Col3\n",
       "0    10    20    30\n",
       "1    50    60    70\n",
       "2    20    30    40"
      ]
     },
     "execution_count": 2,
     "metadata": {},
     "output_type": "execute_result"
    }
   ],
   "source": [
    "df=pd.DataFrame([[10,20,30],[50,60,70],[20,30,40]],columns=['Col1','Col2', 'Col3'])\n",
    "df"
   ]
  },
  {
   "cell_type": "code",
   "execution_count": 3,
   "id": "db5d0a1f",
   "metadata": {},
   "outputs": [
    {
     "data": {
      "text/plain": [
       "pandas.core.frame.DataFrame"
      ]
     },
     "execution_count": 3,
     "metadata": {},
     "output_type": "execute_result"
    }
   ],
   "source": [
    "type(df)"
   ]
  },
  {
   "cell_type": "code",
   "execution_count": 4,
   "id": "52471df5",
   "metadata": {},
   "outputs": [
    {
     "data": {
      "text/plain": [
       "Index(['Col1', 'Col2', 'Col3'], dtype='object')"
      ]
     },
     "execution_count": 4,
     "metadata": {},
     "output_type": "execute_result"
    }
   ],
   "source": [
    "df.columns#It give the column name"
   ]
  },
  {
   "cell_type": "code",
   "execution_count": 5,
   "id": "d7f83a93",
   "metadata": {},
   "outputs": [
    {
     "data": {
      "text/plain": [
       "Col1    int64\n",
       "Col2    int64\n",
       "Col3    int64\n",
       "dtype: object"
      ]
     },
     "execution_count": 5,
     "metadata": {},
     "output_type": "execute_result"
    }
   ],
   "source": [
    "df.dtypes#give us data type of the series element"
   ]
  },
  {
   "cell_type": "code",
   "execution_count": 6,
   "id": "6500f64c",
   "metadata": {},
   "outputs": [
    {
     "data": {
      "text/plain": [
       "RangeIndex(start=0, stop=3, step=1)"
      ]
     },
     "execution_count": 6,
     "metadata": {},
     "output_type": "execute_result"
    }
   ],
   "source": [
    "df.index#dataframe index"
   ]
  },
  {
   "cell_type": "code",
   "execution_count": 7,
   "id": "fce5106f",
   "metadata": {},
   "outputs": [
    {
     "data": {
      "text/html": [
       "<div>\n",
       "<style scoped>\n",
       "    .dataframe tbody tr th:only-of-type {\n",
       "        vertical-align: middle;\n",
       "    }\n",
       "\n",
       "    .dataframe tbody tr th {\n",
       "        vertical-align: top;\n",
       "    }\n",
       "\n",
       "    .dataframe thead th {\n",
       "        text-align: right;\n",
       "    }\n",
       "</style>\n",
       "<table border=\"1\" class=\"dataframe\">\n",
       "  <thead>\n",
       "    <tr style=\"text-align: right;\">\n",
       "      <th></th>\n",
       "      <th>Col1</th>\n",
       "      <th>Col2</th>\n",
       "      <th>Col3</th>\n",
       "    </tr>\n",
       "  </thead>\n",
       "  <tbody>\n",
       "    <tr>\n",
       "      <th>R1</th>\n",
       "      <td>10</td>\n",
       "      <td>20</td>\n",
       "      <td>30</td>\n",
       "    </tr>\n",
       "    <tr>\n",
       "      <th>R2</th>\n",
       "      <td>50</td>\n",
       "      <td>60</td>\n",
       "      <td>70</td>\n",
       "    </tr>\n",
       "    <tr>\n",
       "      <th>R3</th>\n",
       "      <td>20</td>\n",
       "      <td>30</td>\n",
       "      <td>40</td>\n",
       "    </tr>\n",
       "  </tbody>\n",
       "</table>\n",
       "</div>"
      ],
      "text/plain": [
       "    Col1  Col2  Col3\n",
       "R1    10    20    30\n",
       "R2    50    60    70\n",
       "R3    20    30    40"
      ]
     },
     "execution_count": 7,
     "metadata": {},
     "output_type": "execute_result"
    }
   ],
   "source": [
    "df.index=[\"R1\",\"R2\",\"R3\"]#We can change the index of the series \n",
    "df"
   ]
  },
  {
   "cell_type": "code",
   "execution_count": 8,
   "id": "e248a09e",
   "metadata": {},
   "outputs": [
    {
     "data": {
      "text/html": [
       "<div>\n",
       "<style scoped>\n",
       "    .dataframe tbody tr th:only-of-type {\n",
       "        vertical-align: middle;\n",
       "    }\n",
       "\n",
       "    .dataframe tbody tr th {\n",
       "        vertical-align: top;\n",
       "    }\n",
       "\n",
       "    .dataframe thead th {\n",
       "        text-align: right;\n",
       "    }\n",
       "</style>\n",
       "<table border=\"1\" class=\"dataframe\">\n",
       "  <thead>\n",
       "    <tr style=\"text-align: right;\">\n",
       "      <th></th>\n",
       "      <th>C1</th>\n",
       "      <th>C2</th>\n",
       "      <th>C3</th>\n",
       "    </tr>\n",
       "  </thead>\n",
       "  <tbody>\n",
       "    <tr>\n",
       "      <th>R1</th>\n",
       "      <td>10</td>\n",
       "      <td>20</td>\n",
       "      <td>30</td>\n",
       "    </tr>\n",
       "    <tr>\n",
       "      <th>R2</th>\n",
       "      <td>50</td>\n",
       "      <td>60</td>\n",
       "      <td>70</td>\n",
       "    </tr>\n",
       "    <tr>\n",
       "      <th>R3</th>\n",
       "      <td>20</td>\n",
       "      <td>30</td>\n",
       "      <td>40</td>\n",
       "    </tr>\n",
       "  </tbody>\n",
       "</table>\n",
       "</div>"
      ],
      "text/plain": [
       "    C1  C2  C3\n",
       "R1  10  20  30\n",
       "R2  50  60  70\n",
       "R3  20  30  40"
      ]
     },
     "execution_count": 8,
     "metadata": {},
     "output_type": "execute_result"
    }
   ],
   "source": [
    "df.columns=[\"C1\",\"C2\",\"C3\"]\n",
    "df"
   ]
  },
  {
   "cell_type": "code",
   "execution_count": 9,
   "id": "20afd165",
   "metadata": {},
   "outputs": [
    {
     "data": {
      "text/plain": [
       "Index(['R1', 'R2', 'R3'], dtype='object')"
      ]
     },
     "execution_count": 9,
     "metadata": {},
     "output_type": "execute_result"
    }
   ],
   "source": [
    "df.index"
   ]
  },
  {
   "cell_type": "code",
   "execution_count": 10,
   "id": "c7155c96",
   "metadata": {},
   "outputs": [
    {
     "data": {
      "text/html": [
       "<div>\n",
       "<style scoped>\n",
       "    .dataframe tbody tr th:only-of-type {\n",
       "        vertical-align: middle;\n",
       "    }\n",
       "\n",
       "    .dataframe tbody tr th {\n",
       "        vertical-align: top;\n",
       "    }\n",
       "\n",
       "    .dataframe thead th {\n",
       "        text-align: right;\n",
       "    }\n",
       "</style>\n",
       "<table border=\"1\" class=\"dataframe\">\n",
       "  <thead>\n",
       "    <tr style=\"text-align: right;\">\n",
       "      <th></th>\n",
       "      <th>C1</th>\n",
       "      <th>C2</th>\n",
       "      <th>C3</th>\n",
       "      <th>C4</th>\n",
       "      <th>C5</th>\n",
       "    </tr>\n",
       "  </thead>\n",
       "  <tbody>\n",
       "    <tr>\n",
       "      <th>R1</th>\n",
       "      <td>-0.266566</td>\n",
       "      <td>0.914637</td>\n",
       "      <td>0.745863</td>\n",
       "      <td>-0.125728</td>\n",
       "      <td>-0.158065</td>\n",
       "    </tr>\n",
       "    <tr>\n",
       "      <th>R2</th>\n",
       "      <td>-0.548292</td>\n",
       "      <td>-0.547616</td>\n",
       "      <td>-0.151272</td>\n",
       "      <td>-1.458121</td>\n",
       "      <td>-0.938856</td>\n",
       "    </tr>\n",
       "    <tr>\n",
       "      <th>R3</th>\n",
       "      <td>-0.076550</td>\n",
       "      <td>-1.843722</td>\n",
       "      <td>0.134763</td>\n",
       "      <td>-0.052669</td>\n",
       "      <td>-1.482812</td>\n",
       "    </tr>\n",
       "    <tr>\n",
       "      <th>R4</th>\n",
       "      <td>-0.683793</td>\n",
       "      <td>1.131662</td>\n",
       "      <td>-0.948860</td>\n",
       "      <td>-0.553347</td>\n",
       "      <td>-0.613757</td>\n",
       "    </tr>\n",
       "  </tbody>\n",
       "</table>\n",
       "</div>"
      ],
      "text/plain": [
       "          C1        C2        C3        C4        C5\n",
       "R1 -0.266566  0.914637  0.745863 -0.125728 -0.158065\n",
       "R2 -0.548292 -0.547616 -0.151272 -1.458121 -0.938856\n",
       "R3 -0.076550 -1.843722  0.134763 -0.052669 -1.482812\n",
       "R4 -0.683793  1.131662 -0.948860 -0.553347 -0.613757"
      ]
     },
     "execution_count": 10,
     "metadata": {},
     "output_type": "execute_result"
    }
   ],
   "source": [
    "df1 = pd.DataFrame(np.random.randn(4,5),index=['R1','R2', 'R3', 'R4'],columns=['C1', 'C2', 'C3', 'C4','C5'],dtype=float)\n",
    "df1"
   ]
  },
  {
   "cell_type": "code",
   "execution_count": 11,
   "id": "7e2f18b5",
   "metadata": {},
   "outputs": [
    {
     "data": {
      "text/html": [
       "<div>\n",
       "<style scoped>\n",
       "    .dataframe tbody tr th:only-of-type {\n",
       "        vertical-align: middle;\n",
       "    }\n",
       "\n",
       "    .dataframe tbody tr th {\n",
       "        vertical-align: top;\n",
       "    }\n",
       "\n",
       "    .dataframe thead th {\n",
       "        text-align: right;\n",
       "    }\n",
       "</style>\n",
       "<table border=\"1\" class=\"dataframe\">\n",
       "  <thead>\n",
       "    <tr style=\"text-align: right;\">\n",
       "      <th></th>\n",
       "      <th>Brand</th>\n",
       "      <th>Camera</th>\n",
       "      <th>RAM</th>\n",
       "      <th>Price</th>\n",
       "    </tr>\n",
       "  </thead>\n",
       "  <tbody>\n",
       "    <tr>\n",
       "      <th>0</th>\n",
       "      <td>Samsung</td>\n",
       "      <td>48</td>\n",
       "      <td>6</td>\n",
       "      <td>17500</td>\n",
       "    </tr>\n",
       "    <tr>\n",
       "      <th>1</th>\n",
       "      <td>Realme</td>\n",
       "      <td>24</td>\n",
       "      <td>4</td>\n",
       "      <td>12000</td>\n",
       "    </tr>\n",
       "    <tr>\n",
       "      <th>2</th>\n",
       "      <td>Mi</td>\n",
       "      <td>16</td>\n",
       "      <td>3</td>\n",
       "      <td>6999</td>\n",
       "    </tr>\n",
       "    <tr>\n",
       "      <th>3</th>\n",
       "      <td>Nokia</td>\n",
       "      <td>32</td>\n",
       "      <td>4</td>\n",
       "      <td>22000</td>\n",
       "    </tr>\n",
       "  </tbody>\n",
       "</table>\n",
       "</div>"
      ],
      "text/plain": [
       "     Brand  Camera  RAM  Price\n",
       "0  Samsung      48    6  17500\n",
       "1   Realme      24    4  12000\n",
       "2       Mi      16    3   6999\n",
       "3    Nokia      32    4  22000"
      ]
     },
     "execution_count": 11,
     "metadata": {},
     "output_type": "execute_result"
    }
   ],
   "source": [
    "df_dict = pd.DataFrame({\"Brand\":['Samsung','Realme','Mi','Nokia'], \n",
    "                 \"Camera\":[48,24,16,32], \"RAM\":[6,4,3,4], \"Price\" : [17500, 12000, 6999, 22000]})\n",
    "df_dict"
   ]
  },
  {
   "cell_type": "markdown",
   "id": "85845676",
   "metadata": {},
   "source": [
    "## Selecting Columns"
   ]
  },
  {
   "cell_type": "code",
   "execution_count": 12,
   "id": "05d1b8a3",
   "metadata": {},
   "outputs": [
    {
     "data": {
      "text/html": [
       "<div>\n",
       "<style scoped>\n",
       "    .dataframe tbody tr th:only-of-type {\n",
       "        vertical-align: middle;\n",
       "    }\n",
       "\n",
       "    .dataframe tbody tr th {\n",
       "        vertical-align: top;\n",
       "    }\n",
       "\n",
       "    .dataframe thead th {\n",
       "        text-align: right;\n",
       "    }\n",
       "</style>\n",
       "<table border=\"1\" class=\"dataframe\">\n",
       "  <thead>\n",
       "    <tr style=\"text-align: right;\">\n",
       "      <th></th>\n",
       "      <th>C1</th>\n",
       "      <th>C2</th>\n",
       "      <th>C3</th>\n",
       "      <th>C4</th>\n",
       "      <th>C5</th>\n",
       "    </tr>\n",
       "  </thead>\n",
       "  <tbody>\n",
       "    <tr>\n",
       "      <th>R1</th>\n",
       "      <td>-0.266566</td>\n",
       "      <td>0.914637</td>\n",
       "      <td>0.745863</td>\n",
       "      <td>-0.125728</td>\n",
       "      <td>-0.158065</td>\n",
       "    </tr>\n",
       "    <tr>\n",
       "      <th>R2</th>\n",
       "      <td>-0.548292</td>\n",
       "      <td>-0.547616</td>\n",
       "      <td>-0.151272</td>\n",
       "      <td>-1.458121</td>\n",
       "      <td>-0.938856</td>\n",
       "    </tr>\n",
       "    <tr>\n",
       "      <th>R3</th>\n",
       "      <td>-0.076550</td>\n",
       "      <td>-1.843722</td>\n",
       "      <td>0.134763</td>\n",
       "      <td>-0.052669</td>\n",
       "      <td>-1.482812</td>\n",
       "    </tr>\n",
       "    <tr>\n",
       "      <th>R4</th>\n",
       "      <td>-0.683793</td>\n",
       "      <td>1.131662</td>\n",
       "      <td>-0.948860</td>\n",
       "      <td>-0.553347</td>\n",
       "      <td>-0.613757</td>\n",
       "    </tr>\n",
       "  </tbody>\n",
       "</table>\n",
       "</div>"
      ],
      "text/plain": [
       "          C1        C2        C3        C4        C5\n",
       "R1 -0.266566  0.914637  0.745863 -0.125728 -0.158065\n",
       "R2 -0.548292 -0.547616 -0.151272 -1.458121 -0.938856\n",
       "R3 -0.076550 -1.843722  0.134763 -0.052669 -1.482812\n",
       "R4 -0.683793  1.131662 -0.948860 -0.553347 -0.613757"
      ]
     },
     "execution_count": 12,
     "metadata": {},
     "output_type": "execute_result"
    }
   ],
   "source": [
    "df1"
   ]
  },
  {
   "cell_type": "code",
   "execution_count": 13,
   "id": "1fc4bd60",
   "metadata": {},
   "outputs": [
    {
     "data": {
      "text/plain": [
       "R1    0.745863\n",
       "R2   -0.151272\n",
       "R3    0.134763\n",
       "R4   -0.948860\n",
       "Name: C3, dtype: float64"
      ]
     },
     "execution_count": 13,
     "metadata": {},
     "output_type": "execute_result"
    }
   ],
   "source": [
    "df1[\"C3\"]#To select particular column"
   ]
  },
  {
   "cell_type": "code",
   "execution_count": 14,
   "id": "534620cf",
   "metadata": {},
   "outputs": [
    {
     "data": {
      "text/html": [
       "<div>\n",
       "<style scoped>\n",
       "    .dataframe tbody tr th:only-of-type {\n",
       "        vertical-align: middle;\n",
       "    }\n",
       "\n",
       "    .dataframe tbody tr th {\n",
       "        vertical-align: top;\n",
       "    }\n",
       "\n",
       "    .dataframe thead th {\n",
       "        text-align: right;\n",
       "    }\n",
       "</style>\n",
       "<table border=\"1\" class=\"dataframe\">\n",
       "  <thead>\n",
       "    <tr style=\"text-align: right;\">\n",
       "      <th></th>\n",
       "      <th>C2</th>\n",
       "      <th>C5</th>\n",
       "    </tr>\n",
       "  </thead>\n",
       "  <tbody>\n",
       "    <tr>\n",
       "      <th>R1</th>\n",
       "      <td>0.914637</td>\n",
       "      <td>-0.158065</td>\n",
       "    </tr>\n",
       "    <tr>\n",
       "      <th>R2</th>\n",
       "      <td>-0.547616</td>\n",
       "      <td>-0.938856</td>\n",
       "    </tr>\n",
       "    <tr>\n",
       "      <th>R3</th>\n",
       "      <td>-1.843722</td>\n",
       "      <td>-1.482812</td>\n",
       "    </tr>\n",
       "    <tr>\n",
       "      <th>R4</th>\n",
       "      <td>1.131662</td>\n",
       "      <td>-0.613757</td>\n",
       "    </tr>\n",
       "  </tbody>\n",
       "</table>\n",
       "</div>"
      ],
      "text/plain": [
       "          C2        C5\n",
       "R1  0.914637 -0.158065\n",
       "R2 -0.547616 -0.938856\n",
       "R3 -1.843722 -1.482812\n",
       "R4  1.131662 -0.613757"
      ]
     },
     "execution_count": 14,
     "metadata": {},
     "output_type": "execute_result"
    }
   ],
   "source": [
    "#Pass a list of columns name\n",
    "df1[[\"C2\",'C5']]"
   ]
  },
  {
   "cell_type": "code",
   "execution_count": 15,
   "id": "d69574d1",
   "metadata": {},
   "outputs": [
    {
     "data": {
      "text/plain": [
       "R1   -0.266566\n",
       "R2   -0.548292\n",
       "R3   -0.076550\n",
       "R4   -0.683793\n",
       "Name: C1, dtype: float64"
      ]
     },
     "execution_count": 15,
     "metadata": {},
     "output_type": "execute_result"
    }
   ],
   "source": [
    "#Similar to SQl syntax(NOT RECOMMENDED)\n",
    "df1.C1"
   ]
  },
  {
   "cell_type": "code",
   "execution_count": 16,
   "id": "12562836",
   "metadata": {},
   "outputs": [
    {
     "data": {
      "text/plain": [
       "pandas.core.series.Series"
      ]
     },
     "execution_count": 16,
     "metadata": {},
     "output_type": "execute_result"
    }
   ],
   "source": [
    "type(df1[\"C2\"])"
   ]
  },
  {
   "cell_type": "code",
   "execution_count": 17,
   "id": "3010778f",
   "metadata": {},
   "outputs": [
    {
     "data": {
      "text/plain": [
       "pandas.core.frame.DataFrame"
      ]
     },
     "execution_count": 17,
     "metadata": {},
     "output_type": "execute_result"
    }
   ],
   "source": [
    "type(df1[[\"C2\",\"C5\"]])"
   ]
  },
  {
   "cell_type": "markdown",
   "id": "7babbbb9",
   "metadata": {},
   "source": [
    "## Creating a new column"
   ]
  },
  {
   "cell_type": "code",
   "execution_count": 18,
   "id": "06382441",
   "metadata": {},
   "outputs": [
    {
     "data": {
      "text/html": [
       "<div>\n",
       "<style scoped>\n",
       "    .dataframe tbody tr th:only-of-type {\n",
       "        vertical-align: middle;\n",
       "    }\n",
       "\n",
       "    .dataframe tbody tr th {\n",
       "        vertical-align: top;\n",
       "    }\n",
       "\n",
       "    .dataframe thead th {\n",
       "        text-align: right;\n",
       "    }\n",
       "</style>\n",
       "<table border=\"1\" class=\"dataframe\">\n",
       "  <thead>\n",
       "    <tr style=\"text-align: right;\">\n",
       "      <th></th>\n",
       "      <th>C1</th>\n",
       "      <th>C2</th>\n",
       "      <th>C3</th>\n",
       "      <th>C4</th>\n",
       "      <th>C5</th>\n",
       "    </tr>\n",
       "  </thead>\n",
       "  <tbody>\n",
       "    <tr>\n",
       "      <th>R1</th>\n",
       "      <td>-0.266566</td>\n",
       "      <td>0.914637</td>\n",
       "      <td>0.745863</td>\n",
       "      <td>-0.125728</td>\n",
       "      <td>-0.158065</td>\n",
       "    </tr>\n",
       "    <tr>\n",
       "      <th>R2</th>\n",
       "      <td>-0.548292</td>\n",
       "      <td>-0.547616</td>\n",
       "      <td>-0.151272</td>\n",
       "      <td>-1.458121</td>\n",
       "      <td>-0.938856</td>\n",
       "    </tr>\n",
       "    <tr>\n",
       "      <th>R3</th>\n",
       "      <td>-0.076550</td>\n",
       "      <td>-1.843722</td>\n",
       "      <td>0.134763</td>\n",
       "      <td>-0.052669</td>\n",
       "      <td>-1.482812</td>\n",
       "    </tr>\n",
       "    <tr>\n",
       "      <th>R4</th>\n",
       "      <td>-0.683793</td>\n",
       "      <td>1.131662</td>\n",
       "      <td>-0.948860</td>\n",
       "      <td>-0.553347</td>\n",
       "      <td>-0.613757</td>\n",
       "    </tr>\n",
       "  </tbody>\n",
       "</table>\n",
       "</div>"
      ],
      "text/plain": [
       "          C1        C2        C3        C4        C5\n",
       "R1 -0.266566  0.914637  0.745863 -0.125728 -0.158065\n",
       "R2 -0.548292 -0.547616 -0.151272 -1.458121 -0.938856\n",
       "R3 -0.076550 -1.843722  0.134763 -0.052669 -1.482812\n",
       "R4 -0.683793  1.131662 -0.948860 -0.553347 -0.613757"
      ]
     },
     "execution_count": 18,
     "metadata": {},
     "output_type": "execute_result"
    }
   ],
   "source": [
    "df1"
   ]
  },
  {
   "cell_type": "code",
   "execution_count": 19,
   "id": "43f454c5",
   "metadata": {},
   "outputs": [
    {
     "data": {
      "text/html": [
       "<div>\n",
       "<style scoped>\n",
       "    .dataframe tbody tr th:only-of-type {\n",
       "        vertical-align: middle;\n",
       "    }\n",
       "\n",
       "    .dataframe tbody tr th {\n",
       "        vertical-align: top;\n",
       "    }\n",
       "\n",
       "    .dataframe thead th {\n",
       "        text-align: right;\n",
       "    }\n",
       "</style>\n",
       "<table border=\"1\" class=\"dataframe\">\n",
       "  <thead>\n",
       "    <tr style=\"text-align: right;\">\n",
       "      <th></th>\n",
       "      <th>C1</th>\n",
       "      <th>C2</th>\n",
       "      <th>C3</th>\n",
       "      <th>C4</th>\n",
       "      <th>C5</th>\n",
       "      <th>C6</th>\n",
       "    </tr>\n",
       "  </thead>\n",
       "  <tbody>\n",
       "    <tr>\n",
       "      <th>R1</th>\n",
       "      <td>-0.266566</td>\n",
       "      <td>0.914637</td>\n",
       "      <td>0.745863</td>\n",
       "      <td>-0.125728</td>\n",
       "      <td>-0.158065</td>\n",
       "      <td>1.055475</td>\n",
       "    </tr>\n",
       "    <tr>\n",
       "      <th>R2</th>\n",
       "      <td>-0.548292</td>\n",
       "      <td>-0.547616</td>\n",
       "      <td>-0.151272</td>\n",
       "      <td>-1.458121</td>\n",
       "      <td>-0.938856</td>\n",
       "      <td>-1.457445</td>\n",
       "    </tr>\n",
       "    <tr>\n",
       "      <th>R3</th>\n",
       "      <td>-0.076550</td>\n",
       "      <td>-1.843722</td>\n",
       "      <td>0.134763</td>\n",
       "      <td>-0.052669</td>\n",
       "      <td>-1.482812</td>\n",
       "      <td>-1.819842</td>\n",
       "    </tr>\n",
       "    <tr>\n",
       "      <th>R4</th>\n",
       "      <td>-0.683793</td>\n",
       "      <td>1.131662</td>\n",
       "      <td>-0.948860</td>\n",
       "      <td>-0.553347</td>\n",
       "      <td>-0.613757</td>\n",
       "      <td>1.262108</td>\n",
       "    </tr>\n",
       "  </tbody>\n",
       "</table>\n",
       "</div>"
      ],
      "text/plain": [
       "          C1        C2        C3        C4        C5        C6\n",
       "R1 -0.266566  0.914637  0.745863 -0.125728 -0.158065  1.055475\n",
       "R2 -0.548292 -0.547616 -0.151272 -1.458121 -0.938856 -1.457445\n",
       "R3 -0.076550 -1.843722  0.134763 -0.052669 -1.482812 -1.819842\n",
       "R4 -0.683793  1.131662 -0.948860 -0.553347 -0.613757  1.262108"
      ]
     },
     "execution_count": 19,
     "metadata": {},
     "output_type": "execute_result"
    }
   ],
   "source": [
    "df1[\"C6\"]=df1[\"C2\"]+df1[\"C4\"]-df1[\"C1\"]\n",
    "df1"
   ]
  },
  {
   "cell_type": "markdown",
   "id": "70d40b7f",
   "metadata": {},
   "source": [
    "## Removing columns and rows"
   ]
  },
  {
   "cell_type": "code",
   "execution_count": 20,
   "id": "67e11e67",
   "metadata": {},
   "outputs": [
    {
     "data": {
      "text/html": [
       "<div>\n",
       "<style scoped>\n",
       "    .dataframe tbody tr th:only-of-type {\n",
       "        vertical-align: middle;\n",
       "    }\n",
       "\n",
       "    .dataframe tbody tr th {\n",
       "        vertical-align: top;\n",
       "    }\n",
       "\n",
       "    .dataframe thead th {\n",
       "        text-align: right;\n",
       "    }\n",
       "</style>\n",
       "<table border=\"1\" class=\"dataframe\">\n",
       "  <thead>\n",
       "    <tr style=\"text-align: right;\">\n",
       "      <th></th>\n",
       "      <th>C1</th>\n",
       "      <th>C2</th>\n",
       "      <th>C3</th>\n",
       "      <th>C4</th>\n",
       "      <th>C5</th>\n",
       "      <th>C6</th>\n",
       "    </tr>\n",
       "  </thead>\n",
       "  <tbody>\n",
       "    <tr>\n",
       "      <th>R1</th>\n",
       "      <td>-0.266566</td>\n",
       "      <td>0.914637</td>\n",
       "      <td>0.745863</td>\n",
       "      <td>-0.125728</td>\n",
       "      <td>-0.158065</td>\n",
       "      <td>1.055475</td>\n",
       "    </tr>\n",
       "    <tr>\n",
       "      <th>R3</th>\n",
       "      <td>-0.076550</td>\n",
       "      <td>-1.843722</td>\n",
       "      <td>0.134763</td>\n",
       "      <td>-0.052669</td>\n",
       "      <td>-1.482812</td>\n",
       "      <td>-1.819842</td>\n",
       "    </tr>\n",
       "    <tr>\n",
       "      <th>R4</th>\n",
       "      <td>-0.683793</td>\n",
       "      <td>1.131662</td>\n",
       "      <td>-0.948860</td>\n",
       "      <td>-0.553347</td>\n",
       "      <td>-0.613757</td>\n",
       "      <td>1.262108</td>\n",
       "    </tr>\n",
       "  </tbody>\n",
       "</table>\n",
       "</div>"
      ],
      "text/plain": [
       "          C1        C2        C3        C4        C5        C6\n",
       "R1 -0.266566  0.914637  0.745863 -0.125728 -0.158065  1.055475\n",
       "R3 -0.076550 -1.843722  0.134763 -0.052669 -1.482812 -1.819842\n",
       "R4 -0.683793  1.131662 -0.948860 -0.553347 -0.613757  1.262108"
      ]
     },
     "execution_count": 20,
     "metadata": {},
     "output_type": "execute_result"
    }
   ],
   "source": [
    "df1.drop(\"R2\")\n",
    "#To remove the row but not refelect in original data frame bcoz inplace by defoult it is false"
   ]
  },
  {
   "cell_type": "code",
   "execution_count": 21,
   "id": "1b3fc0e2",
   "metadata": {},
   "outputs": [
    {
     "data": {
      "text/html": [
       "<div>\n",
       "<style scoped>\n",
       "    .dataframe tbody tr th:only-of-type {\n",
       "        vertical-align: middle;\n",
       "    }\n",
       "\n",
       "    .dataframe tbody tr th {\n",
       "        vertical-align: top;\n",
       "    }\n",
       "\n",
       "    .dataframe thead th {\n",
       "        text-align: right;\n",
       "    }\n",
       "</style>\n",
       "<table border=\"1\" class=\"dataframe\">\n",
       "  <thead>\n",
       "    <tr style=\"text-align: right;\">\n",
       "      <th></th>\n",
       "      <th>C1</th>\n",
       "      <th>C2</th>\n",
       "      <th>C3</th>\n",
       "      <th>C4</th>\n",
       "      <th>C5</th>\n",
       "      <th>C6</th>\n",
       "    </tr>\n",
       "  </thead>\n",
       "  <tbody>\n",
       "    <tr>\n",
       "      <th>R1</th>\n",
       "      <td>-0.266566</td>\n",
       "      <td>0.914637</td>\n",
       "      <td>0.745863</td>\n",
       "      <td>-0.125728</td>\n",
       "      <td>-0.158065</td>\n",
       "      <td>1.055475</td>\n",
       "    </tr>\n",
       "    <tr>\n",
       "      <th>R2</th>\n",
       "      <td>-0.548292</td>\n",
       "      <td>-0.547616</td>\n",
       "      <td>-0.151272</td>\n",
       "      <td>-1.458121</td>\n",
       "      <td>-0.938856</td>\n",
       "      <td>-1.457445</td>\n",
       "    </tr>\n",
       "    <tr>\n",
       "      <th>R3</th>\n",
       "      <td>-0.076550</td>\n",
       "      <td>-1.843722</td>\n",
       "      <td>0.134763</td>\n",
       "      <td>-0.052669</td>\n",
       "      <td>-1.482812</td>\n",
       "      <td>-1.819842</td>\n",
       "    </tr>\n",
       "    <tr>\n",
       "      <th>R4</th>\n",
       "      <td>-0.683793</td>\n",
       "      <td>1.131662</td>\n",
       "      <td>-0.948860</td>\n",
       "      <td>-0.553347</td>\n",
       "      <td>-0.613757</td>\n",
       "      <td>1.262108</td>\n",
       "    </tr>\n",
       "  </tbody>\n",
       "</table>\n",
       "</div>"
      ],
      "text/plain": [
       "          C1        C2        C3        C4        C5        C6\n",
       "R1 -0.266566  0.914637  0.745863 -0.125728 -0.158065  1.055475\n",
       "R2 -0.548292 -0.547616 -0.151272 -1.458121 -0.938856 -1.457445\n",
       "R3 -0.076550 -1.843722  0.134763 -0.052669 -1.482812 -1.819842\n",
       "R4 -0.683793  1.131662 -0.948860 -0.553347 -0.613757  1.262108"
      ]
     },
     "execution_count": 21,
     "metadata": {},
     "output_type": "execute_result"
    }
   ],
   "source": [
    "df1"
   ]
  },
  {
   "cell_type": "code",
   "execution_count": 22,
   "id": "59e35dd8",
   "metadata": {},
   "outputs": [],
   "source": [
    "df1.drop([\"R2\"],inplace=True)#to  reflect in original data we use inplace=True,axis=0 for index remove but dont need bcoz by defoult it is 0"
   ]
  },
  {
   "cell_type": "code",
   "execution_count": 23,
   "id": "b84cef7a",
   "metadata": {},
   "outputs": [
    {
     "data": {
      "text/html": [
       "<div>\n",
       "<style scoped>\n",
       "    .dataframe tbody tr th:only-of-type {\n",
       "        vertical-align: middle;\n",
       "    }\n",
       "\n",
       "    .dataframe tbody tr th {\n",
       "        vertical-align: top;\n",
       "    }\n",
       "\n",
       "    .dataframe thead th {\n",
       "        text-align: right;\n",
       "    }\n",
       "</style>\n",
       "<table border=\"1\" class=\"dataframe\">\n",
       "  <thead>\n",
       "    <tr style=\"text-align: right;\">\n",
       "      <th></th>\n",
       "      <th>C1</th>\n",
       "      <th>C2</th>\n",
       "      <th>C3</th>\n",
       "      <th>C4</th>\n",
       "      <th>C5</th>\n",
       "      <th>C6</th>\n",
       "    </tr>\n",
       "  </thead>\n",
       "  <tbody>\n",
       "    <tr>\n",
       "      <th>R1</th>\n",
       "      <td>-0.266566</td>\n",
       "      <td>0.914637</td>\n",
       "      <td>0.745863</td>\n",
       "      <td>-0.125728</td>\n",
       "      <td>-0.158065</td>\n",
       "      <td>1.055475</td>\n",
       "    </tr>\n",
       "    <tr>\n",
       "      <th>R3</th>\n",
       "      <td>-0.076550</td>\n",
       "      <td>-1.843722</td>\n",
       "      <td>0.134763</td>\n",
       "      <td>-0.052669</td>\n",
       "      <td>-1.482812</td>\n",
       "      <td>-1.819842</td>\n",
       "    </tr>\n",
       "    <tr>\n",
       "      <th>R4</th>\n",
       "      <td>-0.683793</td>\n",
       "      <td>1.131662</td>\n",
       "      <td>-0.948860</td>\n",
       "      <td>-0.553347</td>\n",
       "      <td>-0.613757</td>\n",
       "      <td>1.262108</td>\n",
       "    </tr>\n",
       "  </tbody>\n",
       "</table>\n",
       "</div>"
      ],
      "text/plain": [
       "          C1        C2        C3        C4        C5        C6\n",
       "R1 -0.266566  0.914637  0.745863 -0.125728 -0.158065  1.055475\n",
       "R3 -0.076550 -1.843722  0.134763 -0.052669 -1.482812 -1.819842\n",
       "R4 -0.683793  1.131662 -0.948860 -0.553347 -0.613757  1.262108"
      ]
     },
     "execution_count": 23,
     "metadata": {},
     "output_type": "execute_result"
    }
   ],
   "source": [
    "df1"
   ]
  },
  {
   "cell_type": "code",
   "execution_count": 24,
   "id": "193ba1ce",
   "metadata": {},
   "outputs": [],
   "source": [
    "df1.drop(\"C6\",axis=1,inplace=True)#For column remove we use axis=1 ,inplace=True to reflect in original dataframe"
   ]
  },
  {
   "cell_type": "code",
   "execution_count": 25,
   "id": "56398889",
   "metadata": {},
   "outputs": [
    {
     "data": {
      "text/html": [
       "<div>\n",
       "<style scoped>\n",
       "    .dataframe tbody tr th:only-of-type {\n",
       "        vertical-align: middle;\n",
       "    }\n",
       "\n",
       "    .dataframe tbody tr th {\n",
       "        vertical-align: top;\n",
       "    }\n",
       "\n",
       "    .dataframe thead th {\n",
       "        text-align: right;\n",
       "    }\n",
       "</style>\n",
       "<table border=\"1\" class=\"dataframe\">\n",
       "  <thead>\n",
       "    <tr style=\"text-align: right;\">\n",
       "      <th></th>\n",
       "      <th>C1</th>\n",
       "      <th>C2</th>\n",
       "      <th>C3</th>\n",
       "      <th>C4</th>\n",
       "      <th>C5</th>\n",
       "    </tr>\n",
       "  </thead>\n",
       "  <tbody>\n",
       "    <tr>\n",
       "      <th>R1</th>\n",
       "      <td>-0.266566</td>\n",
       "      <td>0.914637</td>\n",
       "      <td>0.745863</td>\n",
       "      <td>-0.125728</td>\n",
       "      <td>-0.158065</td>\n",
       "    </tr>\n",
       "    <tr>\n",
       "      <th>R3</th>\n",
       "      <td>-0.076550</td>\n",
       "      <td>-1.843722</td>\n",
       "      <td>0.134763</td>\n",
       "      <td>-0.052669</td>\n",
       "      <td>-1.482812</td>\n",
       "    </tr>\n",
       "    <tr>\n",
       "      <th>R4</th>\n",
       "      <td>-0.683793</td>\n",
       "      <td>1.131662</td>\n",
       "      <td>-0.948860</td>\n",
       "      <td>-0.553347</td>\n",
       "      <td>-0.613757</td>\n",
       "    </tr>\n",
       "  </tbody>\n",
       "</table>\n",
       "</div>"
      ],
      "text/plain": [
       "          C1        C2        C3        C4        C5\n",
       "R1 -0.266566  0.914637  0.745863 -0.125728 -0.158065\n",
       "R3 -0.076550 -1.843722  0.134763 -0.052669 -1.482812\n",
       "R4 -0.683793  1.131662 -0.948860 -0.553347 -0.613757"
      ]
     },
     "execution_count": 25,
     "metadata": {},
     "output_type": "execute_result"
    }
   ],
   "source": [
    "df1"
   ]
  },
  {
   "cell_type": "markdown",
   "id": "02288f6b",
   "metadata": {},
   "source": [
    "## Selecting rows"
   ]
  },
  {
   "cell_type": "code",
   "execution_count": 26,
   "id": "1054b668",
   "metadata": {},
   "outputs": [
    {
     "data": {
      "text/html": [
       "<div>\n",
       "<style scoped>\n",
       "    .dataframe tbody tr th:only-of-type {\n",
       "        vertical-align: middle;\n",
       "    }\n",
       "\n",
       "    .dataframe tbody tr th {\n",
       "        vertical-align: top;\n",
       "    }\n",
       "\n",
       "    .dataframe thead th {\n",
       "        text-align: right;\n",
       "    }\n",
       "</style>\n",
       "<table border=\"1\" class=\"dataframe\">\n",
       "  <thead>\n",
       "    <tr style=\"text-align: right;\">\n",
       "      <th></th>\n",
       "      <th>C1</th>\n",
       "      <th>C2</th>\n",
       "      <th>C3</th>\n",
       "      <th>C4</th>\n",
       "      <th>C5</th>\n",
       "    </tr>\n",
       "  </thead>\n",
       "  <tbody>\n",
       "    <tr>\n",
       "      <th>R1</th>\n",
       "      <td>-0.266566</td>\n",
       "      <td>0.914637</td>\n",
       "      <td>0.745863</td>\n",
       "      <td>-0.125728</td>\n",
       "      <td>-0.158065</td>\n",
       "    </tr>\n",
       "    <tr>\n",
       "      <th>R3</th>\n",
       "      <td>-0.076550</td>\n",
       "      <td>-1.843722</td>\n",
       "      <td>0.134763</td>\n",
       "      <td>-0.052669</td>\n",
       "      <td>-1.482812</td>\n",
       "    </tr>\n",
       "    <tr>\n",
       "      <th>R4</th>\n",
       "      <td>-0.683793</td>\n",
       "      <td>1.131662</td>\n",
       "      <td>-0.948860</td>\n",
       "      <td>-0.553347</td>\n",
       "      <td>-0.613757</td>\n",
       "    </tr>\n",
       "  </tbody>\n",
       "</table>\n",
       "</div>"
      ],
      "text/plain": [
       "          C1        C2        C3        C4        C5\n",
       "R1 -0.266566  0.914637  0.745863 -0.125728 -0.158065\n",
       "R3 -0.076550 -1.843722  0.134763 -0.052669 -1.482812\n",
       "R4 -0.683793  1.131662 -0.948860 -0.553347 -0.613757"
      ]
     },
     "execution_count": 26,
     "metadata": {},
     "output_type": "execute_result"
    }
   ],
   "source": [
    "df1"
   ]
  },
  {
   "cell_type": "code",
   "execution_count": 27,
   "id": "e6b37dea",
   "metadata": {},
   "outputs": [
    {
     "data": {
      "text/plain": [
       "C1   -0.266566\n",
       "C2    0.914637\n",
       "C3    0.745863\n",
       "C4   -0.125728\n",
       "C5   -0.158065\n",
       "Name: R1, dtype: float64"
      ]
     },
     "execution_count": 27,
     "metadata": {},
     "output_type": "execute_result"
    }
   ],
   "source": [
    "df1.loc[\"R1\"]"
   ]
  },
  {
   "cell_type": "code",
   "execution_count": 28,
   "id": "baeafd04",
   "metadata": {},
   "outputs": [
    {
     "data": {
      "text/html": [
       "<div>\n",
       "<style scoped>\n",
       "    .dataframe tbody tr th:only-of-type {\n",
       "        vertical-align: middle;\n",
       "    }\n",
       "\n",
       "    .dataframe tbody tr th {\n",
       "        vertical-align: top;\n",
       "    }\n",
       "\n",
       "    .dataframe thead th {\n",
       "        text-align: right;\n",
       "    }\n",
       "</style>\n",
       "<table border=\"1\" class=\"dataframe\">\n",
       "  <thead>\n",
       "    <tr style=\"text-align: right;\">\n",
       "      <th></th>\n",
       "      <th>C1</th>\n",
       "      <th>C2</th>\n",
       "      <th>C3</th>\n",
       "      <th>C4</th>\n",
       "      <th>C5</th>\n",
       "    </tr>\n",
       "  </thead>\n",
       "  <tbody>\n",
       "    <tr>\n",
       "      <th>R3</th>\n",
       "      <td>-0.076550</td>\n",
       "      <td>-1.843722</td>\n",
       "      <td>0.134763</td>\n",
       "      <td>-0.052669</td>\n",
       "      <td>-1.482812</td>\n",
       "    </tr>\n",
       "    <tr>\n",
       "      <th>R1</th>\n",
       "      <td>-0.266566</td>\n",
       "      <td>0.914637</td>\n",
       "      <td>0.745863</td>\n",
       "      <td>-0.125728</td>\n",
       "      <td>-0.158065</td>\n",
       "    </tr>\n",
       "  </tbody>\n",
       "</table>\n",
       "</div>"
      ],
      "text/plain": [
       "          C1        C2        C3        C4        C5\n",
       "R3 -0.076550 -1.843722  0.134763 -0.052669 -1.482812\n",
       "R1 -0.266566  0.914637  0.745863 -0.125728 -0.158065"
      ]
     },
     "execution_count": 28,
     "metadata": {},
     "output_type": "execute_result"
    }
   ],
   "source": [
    "df1.loc[[\"R3\",\"R1\"]]#Lock takes indexes as input in datafrme which we mention"
   ]
  },
  {
   "cell_type": "code",
   "execution_count": 29,
   "id": "47fc2e76",
   "metadata": {},
   "outputs": [
    {
     "data": {
      "text/plain": [
       "C1   -0.266566\n",
       "C2    0.914637\n",
       "C3    0.745863\n",
       "C4   -0.125728\n",
       "C5   -0.158065\n",
       "Name: R1, dtype: float64"
      ]
     },
     "execution_count": 29,
     "metadata": {},
     "output_type": "execute_result"
    }
   ],
   "source": [
    "df1.iloc[0]#Accessing rows based off of position instead  of label"
   ]
  },
  {
   "cell_type": "code",
   "execution_count": 30,
   "id": "62195081",
   "metadata": {},
   "outputs": [
    {
     "name": "stdout",
     "output_type": "stream",
     "text": [
      "          C1        C2        C3        C4        C5\n",
      "R1 -0.266566  0.914637  0.745863 -0.125728 -0.158065\n",
      "R3 -0.076550 -1.843722  0.134763 -0.052669 -1.482812\n",
      "R4 -0.683793  1.131662 -0.948860 -0.553347 -0.613757\n"
     ]
    },
    {
     "data": {
      "text/html": [
       "<div>\n",
       "<style scoped>\n",
       "    .dataframe tbody tr th:only-of-type {\n",
       "        vertical-align: middle;\n",
       "    }\n",
       "\n",
       "    .dataframe tbody tr th {\n",
       "        vertical-align: top;\n",
       "    }\n",
       "\n",
       "    .dataframe thead th {\n",
       "        text-align: right;\n",
       "    }\n",
       "</style>\n",
       "<table border=\"1\" class=\"dataframe\">\n",
       "  <thead>\n",
       "    <tr style=\"text-align: right;\">\n",
       "      <th></th>\n",
       "      <th>C1</th>\n",
       "      <th>C2</th>\n",
       "      <th>C3</th>\n",
       "      <th>C4</th>\n",
       "      <th>C5</th>\n",
       "    </tr>\n",
       "  </thead>\n",
       "  <tbody>\n",
       "    <tr>\n",
       "      <th>R1</th>\n",
       "      <td>-0.266566</td>\n",
       "      <td>0.914637</td>\n",
       "      <td>0.745863</td>\n",
       "      <td>-0.125728</td>\n",
       "      <td>-0.158065</td>\n",
       "    </tr>\n",
       "    <tr>\n",
       "      <th>R3</th>\n",
       "      <td>-0.076550</td>\n",
       "      <td>-1.843722</td>\n",
       "      <td>0.134763</td>\n",
       "      <td>-0.052669</td>\n",
       "      <td>-1.482812</td>\n",
       "    </tr>\n",
       "  </tbody>\n",
       "</table>\n",
       "</div>"
      ],
      "text/plain": [
       "          C1        C2        C3        C4        C5\n",
       "R1 -0.266566  0.914637  0.745863 -0.125728 -0.158065\n",
       "R3 -0.076550 -1.843722  0.134763 -0.052669 -1.482812"
      ]
     },
     "execution_count": 30,
     "metadata": {},
     "output_type": "execute_result"
    }
   ],
   "source": [
    "print(df1)\n",
    "df1.iloc[:2]#It give index from 0 to 1"
   ]
  },
  {
   "cell_type": "code",
   "execution_count": 31,
   "id": "0266a102",
   "metadata": {},
   "outputs": [
    {
     "data": {
      "text/html": [
       "<div>\n",
       "<style scoped>\n",
       "    .dataframe tbody tr th:only-of-type {\n",
       "        vertical-align: middle;\n",
       "    }\n",
       "\n",
       "    .dataframe tbody tr th {\n",
       "        vertical-align: top;\n",
       "    }\n",
       "\n",
       "    .dataframe thead th {\n",
       "        text-align: right;\n",
       "    }\n",
       "</style>\n",
       "<table border=\"1\" class=\"dataframe\">\n",
       "  <thead>\n",
       "    <tr style=\"text-align: right;\">\n",
       "      <th></th>\n",
       "      <th>C3</th>\n",
       "      <th>C4</th>\n",
       "      <th>C5</th>\n",
       "    </tr>\n",
       "  </thead>\n",
       "  <tbody>\n",
       "    <tr>\n",
       "      <th>R1</th>\n",
       "      <td>0.745863</td>\n",
       "      <td>-0.125728</td>\n",
       "      <td>-0.158065</td>\n",
       "    </tr>\n",
       "    <tr>\n",
       "      <th>R3</th>\n",
       "      <td>0.134763</td>\n",
       "      <td>-0.052669</td>\n",
       "      <td>-1.482812</td>\n",
       "    </tr>\n",
       "    <tr>\n",
       "      <th>R4</th>\n",
       "      <td>-0.948860</td>\n",
       "      <td>-0.553347</td>\n",
       "      <td>-0.613757</td>\n",
       "    </tr>\n",
       "  </tbody>\n",
       "</table>\n",
       "</div>"
      ],
      "text/plain": [
       "          C3        C4        C5\n",
       "R1  0.745863 -0.125728 -0.158065\n",
       "R3  0.134763 -0.052669 -1.482812\n",
       "R4 -0.948860 -0.553347 -0.613757"
      ]
     },
     "execution_count": 31,
     "metadata": {},
     "output_type": "execute_result"
    }
   ],
   "source": [
    "df1.iloc[:,2:]"
   ]
  },
  {
   "cell_type": "code",
   "execution_count": 32,
   "id": "f17477c6",
   "metadata": {},
   "outputs": [
    {
     "data": {
      "text/html": [
       "<div>\n",
       "<style scoped>\n",
       "    .dataframe tbody tr th:only-of-type {\n",
       "        vertical-align: middle;\n",
       "    }\n",
       "\n",
       "    .dataframe tbody tr th {\n",
       "        vertical-align: top;\n",
       "    }\n",
       "\n",
       "    .dataframe thead th {\n",
       "        text-align: right;\n",
       "    }\n",
       "</style>\n",
       "<table border=\"1\" class=\"dataframe\">\n",
       "  <thead>\n",
       "    <tr style=\"text-align: right;\">\n",
       "      <th></th>\n",
       "      <th>C3</th>\n",
       "      <th>C4</th>\n",
       "    </tr>\n",
       "  </thead>\n",
       "  <tbody>\n",
       "    <tr>\n",
       "      <th>R1</th>\n",
       "      <td>0.745863</td>\n",
       "      <td>-0.125728</td>\n",
       "    </tr>\n",
       "    <tr>\n",
       "      <th>R3</th>\n",
       "      <td>0.134763</td>\n",
       "      <td>-0.052669</td>\n",
       "    </tr>\n",
       "  </tbody>\n",
       "</table>\n",
       "</div>"
      ],
      "text/plain": [
       "          C3        C4\n",
       "R1  0.745863 -0.125728\n",
       "R3  0.134763 -0.052669"
      ]
     },
     "execution_count": 32,
     "metadata": {},
     "output_type": "execute_result"
    }
   ],
   "source": [
    "df1.iloc[:2,2:4]#it give index 0 to 1 and column 2 to 3"
   ]
  },
  {
   "cell_type": "code",
   "execution_count": 33,
   "id": "cac81c3c",
   "metadata": {},
   "outputs": [
    {
     "data": {
      "text/plain": [
       "-0.05266901925168625"
      ]
     },
     "execution_count": 33,
     "metadata": {},
     "output_type": "execute_result"
    }
   ],
   "source": [
    "df1.loc[\"R3\",\"C4\"]#Selecting subset of rows and column"
   ]
  },
  {
   "cell_type": "code",
   "execution_count": 34,
   "id": "14b059b3",
   "metadata": {},
   "outputs": [
    {
     "data": {
      "text/html": [
       "<div>\n",
       "<style scoped>\n",
       "    .dataframe tbody tr th:only-of-type {\n",
       "        vertical-align: middle;\n",
       "    }\n",
       "\n",
       "    .dataframe tbody tr th {\n",
       "        vertical-align: top;\n",
       "    }\n",
       "\n",
       "    .dataframe thead th {\n",
       "        text-align: right;\n",
       "    }\n",
       "</style>\n",
       "<table border=\"1\" class=\"dataframe\">\n",
       "  <thead>\n",
       "    <tr style=\"text-align: right;\">\n",
       "      <th></th>\n",
       "      <th>C1</th>\n",
       "      <th>C2</th>\n",
       "      <th>C3</th>\n",
       "      <th>C4</th>\n",
       "      <th>C5</th>\n",
       "    </tr>\n",
       "  </thead>\n",
       "  <tbody>\n",
       "    <tr>\n",
       "      <th>R1</th>\n",
       "      <td>-0.266566</td>\n",
       "      <td>0.914637</td>\n",
       "      <td>0.745863</td>\n",
       "      <td>-0.125728</td>\n",
       "      <td>-0.158065</td>\n",
       "    </tr>\n",
       "    <tr>\n",
       "      <th>R3</th>\n",
       "      <td>-0.076550</td>\n",
       "      <td>-1.843722</td>\n",
       "      <td>0.134763</td>\n",
       "      <td>-0.052669</td>\n",
       "      <td>-1.482812</td>\n",
       "    </tr>\n",
       "    <tr>\n",
       "      <th>R4</th>\n",
       "      <td>-0.683793</td>\n",
       "      <td>1.131662</td>\n",
       "      <td>-0.948860</td>\n",
       "      <td>-0.553347</td>\n",
       "      <td>-0.613757</td>\n",
       "    </tr>\n",
       "  </tbody>\n",
       "</table>\n",
       "</div>"
      ],
      "text/plain": [
       "          C1        C2        C3        C4        C5\n",
       "R1 -0.266566  0.914637  0.745863 -0.125728 -0.158065\n",
       "R3 -0.076550 -1.843722  0.134763 -0.052669 -1.482812\n",
       "R4 -0.683793  1.131662 -0.948860 -0.553347 -0.613757"
      ]
     },
     "execution_count": 34,
     "metadata": {},
     "output_type": "execute_result"
    }
   ],
   "source": [
    "df1"
   ]
  },
  {
   "cell_type": "code",
   "execution_count": 35,
   "id": "0de431f4",
   "metadata": {},
   "outputs": [
    {
     "data": {
      "text/html": [
       "<div>\n",
       "<style scoped>\n",
       "    .dataframe tbody tr th:only-of-type {\n",
       "        vertical-align: middle;\n",
       "    }\n",
       "\n",
       "    .dataframe tbody tr th {\n",
       "        vertical-align: top;\n",
       "    }\n",
       "\n",
       "    .dataframe thead th {\n",
       "        text-align: right;\n",
       "    }\n",
       "</style>\n",
       "<table border=\"1\" class=\"dataframe\">\n",
       "  <thead>\n",
       "    <tr style=\"text-align: right;\">\n",
       "      <th></th>\n",
       "      <th>C1</th>\n",
       "      <th>C3</th>\n",
       "    </tr>\n",
       "  </thead>\n",
       "  <tbody>\n",
       "    <tr>\n",
       "      <th>R1</th>\n",
       "      <td>-0.266566</td>\n",
       "      <td>0.745863</td>\n",
       "    </tr>\n",
       "    <tr>\n",
       "      <th>R3</th>\n",
       "      <td>-0.076550</td>\n",
       "      <td>0.134763</td>\n",
       "    </tr>\n",
       "  </tbody>\n",
       "</table>\n",
       "</div>"
      ],
      "text/plain": [
       "          C1        C3\n",
       "R1 -0.266566  0.745863\n",
       "R3 -0.076550  0.134763"
      ]
     },
     "execution_count": 35,
     "metadata": {},
     "output_type": "execute_result"
    }
   ],
   "source": [
    "df1.loc[[\"R1\",\"R3\"],[\"C1\",\"C3\"]]"
   ]
  },
  {
   "cell_type": "markdown",
   "id": "cf45ad30",
   "metadata": {},
   "source": [
    "## Filtering data based on condition(Conditional Selection)"
   ]
  },
  {
   "cell_type": "code",
   "execution_count": 36,
   "id": "84efaba9",
   "metadata": {},
   "outputs": [
    {
     "data": {
      "text/html": [
       "<div>\n",
       "<style scoped>\n",
       "    .dataframe tbody tr th:only-of-type {\n",
       "        vertical-align: middle;\n",
       "    }\n",
       "\n",
       "    .dataframe tbody tr th {\n",
       "        vertical-align: top;\n",
       "    }\n",
       "\n",
       "    .dataframe thead th {\n",
       "        text-align: right;\n",
       "    }\n",
       "</style>\n",
       "<table border=\"1\" class=\"dataframe\">\n",
       "  <thead>\n",
       "    <tr style=\"text-align: right;\">\n",
       "      <th></th>\n",
       "      <th>C1</th>\n",
       "      <th>C2</th>\n",
       "      <th>C3</th>\n",
       "      <th>C4</th>\n",
       "      <th>C5</th>\n",
       "    </tr>\n",
       "  </thead>\n",
       "  <tbody>\n",
       "    <tr>\n",
       "      <th>R1</th>\n",
       "      <td>-0.266566</td>\n",
       "      <td>0.914637</td>\n",
       "      <td>0.745863</td>\n",
       "      <td>-0.125728</td>\n",
       "      <td>-0.158065</td>\n",
       "    </tr>\n",
       "    <tr>\n",
       "      <th>R3</th>\n",
       "      <td>-0.076550</td>\n",
       "      <td>-1.843722</td>\n",
       "      <td>0.134763</td>\n",
       "      <td>-0.052669</td>\n",
       "      <td>-1.482812</td>\n",
       "    </tr>\n",
       "    <tr>\n",
       "      <th>R4</th>\n",
       "      <td>-0.683793</td>\n",
       "      <td>1.131662</td>\n",
       "      <td>-0.948860</td>\n",
       "      <td>-0.553347</td>\n",
       "      <td>-0.613757</td>\n",
       "    </tr>\n",
       "  </tbody>\n",
       "</table>\n",
       "</div>"
      ],
      "text/plain": [
       "          C1        C2        C3        C4        C5\n",
       "R1 -0.266566  0.914637  0.745863 -0.125728 -0.158065\n",
       "R3 -0.076550 -1.843722  0.134763 -0.052669 -1.482812\n",
       "R4 -0.683793  1.131662 -0.948860 -0.553347 -0.613757"
      ]
     },
     "execution_count": 36,
     "metadata": {},
     "output_type": "execute_result"
    }
   ],
   "source": [
    "df1"
   ]
  },
  {
   "cell_type": "code",
   "execution_count": 37,
   "id": "6e58c17e",
   "metadata": {},
   "outputs": [
    {
     "data": {
      "text/html": [
       "<div>\n",
       "<style scoped>\n",
       "    .dataframe tbody tr th:only-of-type {\n",
       "        vertical-align: middle;\n",
       "    }\n",
       "\n",
       "    .dataframe tbody tr th {\n",
       "        vertical-align: top;\n",
       "    }\n",
       "\n",
       "    .dataframe thead th {\n",
       "        text-align: right;\n",
       "    }\n",
       "</style>\n",
       "<table border=\"1\" class=\"dataframe\">\n",
       "  <thead>\n",
       "    <tr style=\"text-align: right;\">\n",
       "      <th></th>\n",
       "      <th>C1</th>\n",
       "      <th>C2</th>\n",
       "      <th>C3</th>\n",
       "      <th>C4</th>\n",
       "      <th>C5</th>\n",
       "    </tr>\n",
       "  </thead>\n",
       "  <tbody>\n",
       "    <tr>\n",
       "      <th>R1</th>\n",
       "      <td>False</td>\n",
       "      <td>True</td>\n",
       "      <td>True</td>\n",
       "      <td>False</td>\n",
       "      <td>False</td>\n",
       "    </tr>\n",
       "    <tr>\n",
       "      <th>R3</th>\n",
       "      <td>False</td>\n",
       "      <td>False</td>\n",
       "      <td>False</td>\n",
       "      <td>False</td>\n",
       "      <td>False</td>\n",
       "    </tr>\n",
       "    <tr>\n",
       "      <th>R4</th>\n",
       "      <td>False</td>\n",
       "      <td>True</td>\n",
       "      <td>False</td>\n",
       "      <td>False</td>\n",
       "      <td>False</td>\n",
       "    </tr>\n",
       "  </tbody>\n",
       "</table>\n",
       "</div>"
      ],
      "text/plain": [
       "       C1     C2     C3     C4     C5\n",
       "R1  False   True   True  False  False\n",
       "R3  False  False  False  False  False\n",
       "R4  False   True  False  False  False"
      ]
     },
     "execution_count": 37,
     "metadata": {},
     "output_type": "execute_result"
    }
   ],
   "source": [
    "df1>0.3"
   ]
  },
  {
   "cell_type": "code",
   "execution_count": 38,
   "id": "c4f7c4c3",
   "metadata": {},
   "outputs": [
    {
     "data": {
      "text/html": [
       "<div>\n",
       "<style scoped>\n",
       "    .dataframe tbody tr th:only-of-type {\n",
       "        vertical-align: middle;\n",
       "    }\n",
       "\n",
       "    .dataframe tbody tr th {\n",
       "        vertical-align: top;\n",
       "    }\n",
       "\n",
       "    .dataframe thead th {\n",
       "        text-align: right;\n",
       "    }\n",
       "</style>\n",
       "<table border=\"1\" class=\"dataframe\">\n",
       "  <thead>\n",
       "    <tr style=\"text-align: right;\">\n",
       "      <th></th>\n",
       "      <th>C1</th>\n",
       "      <th>C2</th>\n",
       "      <th>C3</th>\n",
       "      <th>C4</th>\n",
       "      <th>C5</th>\n",
       "    </tr>\n",
       "  </thead>\n",
       "  <tbody>\n",
       "    <tr>\n",
       "      <th>R1</th>\n",
       "      <td>NaN</td>\n",
       "      <td>0.914637</td>\n",
       "      <td>0.745863</td>\n",
       "      <td>NaN</td>\n",
       "      <td>NaN</td>\n",
       "    </tr>\n",
       "    <tr>\n",
       "      <th>R3</th>\n",
       "      <td>NaN</td>\n",
       "      <td>NaN</td>\n",
       "      <td>NaN</td>\n",
       "      <td>NaN</td>\n",
       "      <td>NaN</td>\n",
       "    </tr>\n",
       "    <tr>\n",
       "      <th>R4</th>\n",
       "      <td>NaN</td>\n",
       "      <td>1.131662</td>\n",
       "      <td>NaN</td>\n",
       "      <td>NaN</td>\n",
       "      <td>NaN</td>\n",
       "    </tr>\n",
       "  </tbody>\n",
       "</table>\n",
       "</div>"
      ],
      "text/plain": [
       "    C1        C2        C3  C4  C5\n",
       "R1 NaN  0.914637  0.745863 NaN NaN\n",
       "R3 NaN       NaN       NaN NaN NaN\n",
       "R4 NaN  1.131662       NaN NaN NaN"
      ]
     },
     "execution_count": 38,
     "metadata": {},
     "output_type": "execute_result"
    }
   ],
   "source": [
    "df1[df1>0.3]"
   ]
  },
  {
   "cell_type": "code",
   "execution_count": 39,
   "id": "eda36a31",
   "metadata": {},
   "outputs": [
    {
     "data": {
      "text/html": [
       "<div>\n",
       "<style scoped>\n",
       "    .dataframe tbody tr th:only-of-type {\n",
       "        vertical-align: middle;\n",
       "    }\n",
       "\n",
       "    .dataframe tbody tr th {\n",
       "        vertical-align: top;\n",
       "    }\n",
       "\n",
       "    .dataframe thead th {\n",
       "        text-align: right;\n",
       "    }\n",
       "</style>\n",
       "<table border=\"1\" class=\"dataframe\">\n",
       "  <thead>\n",
       "    <tr style=\"text-align: right;\">\n",
       "      <th></th>\n",
       "      <th>C1</th>\n",
       "      <th>C2</th>\n",
       "      <th>C3</th>\n",
       "      <th>C4</th>\n",
       "      <th>C5</th>\n",
       "    </tr>\n",
       "  </thead>\n",
       "  <tbody>\n",
       "    <tr>\n",
       "      <th>R1</th>\n",
       "      <td>-0.266566</td>\n",
       "      <td>NaN</td>\n",
       "      <td>NaN</td>\n",
       "      <td>-0.125728</td>\n",
       "      <td>-0.158065</td>\n",
       "    </tr>\n",
       "    <tr>\n",
       "      <th>R3</th>\n",
       "      <td>-0.076550</td>\n",
       "      <td>-1.843722</td>\n",
       "      <td>NaN</td>\n",
       "      <td>-0.052669</td>\n",
       "      <td>-1.482812</td>\n",
       "    </tr>\n",
       "    <tr>\n",
       "      <th>R4</th>\n",
       "      <td>-0.683793</td>\n",
       "      <td>NaN</td>\n",
       "      <td>-0.94886</td>\n",
       "      <td>-0.553347</td>\n",
       "      <td>-0.613757</td>\n",
       "    </tr>\n",
       "  </tbody>\n",
       "</table>\n",
       "</div>"
      ],
      "text/plain": [
       "          C1        C2       C3        C4        C5\n",
       "R1 -0.266566       NaN      NaN -0.125728 -0.158065\n",
       "R3 -0.076550 -1.843722      NaN -0.052669 -1.482812\n",
       "R4 -0.683793       NaN -0.94886 -0.553347 -0.613757"
      ]
     },
     "execution_count": 39,
     "metadata": {},
     "output_type": "execute_result"
    }
   ],
   "source": [
    "df1[df1<0]"
   ]
  },
  {
   "cell_type": "code",
   "execution_count": 40,
   "id": "13550456",
   "metadata": {},
   "outputs": [
    {
     "data": {
      "text/plain": [
       "R1    False\n",
       "R3    False\n",
       "R4    False\n",
       "Name: C1, dtype: bool"
      ]
     },
     "execution_count": 40,
     "metadata": {},
     "output_type": "execute_result"
    }
   ],
   "source": [
    "df1[\"C1\"]>0.3"
   ]
  },
  {
   "cell_type": "code",
   "execution_count": 41,
   "id": "4b553895",
   "metadata": {},
   "outputs": [
    {
     "data": {
      "text/html": [
       "<div>\n",
       "<style scoped>\n",
       "    .dataframe tbody tr th:only-of-type {\n",
       "        vertical-align: middle;\n",
       "    }\n",
       "\n",
       "    .dataframe tbody tr th {\n",
       "        vertical-align: top;\n",
       "    }\n",
       "\n",
       "    .dataframe thead th {\n",
       "        text-align: right;\n",
       "    }\n",
       "</style>\n",
       "<table border=\"1\" class=\"dataframe\">\n",
       "  <thead>\n",
       "    <tr style=\"text-align: right;\">\n",
       "      <th></th>\n",
       "      <th>C1</th>\n",
       "      <th>C2</th>\n",
       "      <th>C3</th>\n",
       "      <th>C4</th>\n",
       "      <th>C5</th>\n",
       "    </tr>\n",
       "  </thead>\n",
       "  <tbody>\n",
       "    <tr>\n",
       "      <th>R1</th>\n",
       "      <td>-0.266566</td>\n",
       "      <td>0.914637</td>\n",
       "      <td>0.745863</td>\n",
       "      <td>-0.125728</td>\n",
       "      <td>-0.158065</td>\n",
       "    </tr>\n",
       "    <tr>\n",
       "      <th>R3</th>\n",
       "      <td>-0.076550</td>\n",
       "      <td>-1.843722</td>\n",
       "      <td>0.134763</td>\n",
       "      <td>-0.052669</td>\n",
       "      <td>-1.482812</td>\n",
       "    </tr>\n",
       "  </tbody>\n",
       "</table>\n",
       "</div>"
      ],
      "text/plain": [
       "          C1        C2        C3        C4        C5\n",
       "R1 -0.266566  0.914637  0.745863 -0.125728 -0.158065\n",
       "R3 -0.076550 -1.843722  0.134763 -0.052669 -1.482812"
      ]
     },
     "execution_count": 41,
     "metadata": {},
     "output_type": "execute_result"
    }
   ],
   "source": [
    "df1[df1[\"C1\"]>-0.3]#returns the rows which satisfied the condition"
   ]
  },
  {
   "cell_type": "code",
   "execution_count": 42,
   "id": "3f4e42a0",
   "metadata": {},
   "outputs": [
    {
     "name": "stdout",
     "output_type": "stream",
     "text": [
      "          C1        C2        C3        C4        C5\n",
      "R1 -0.266566  0.914637  0.745863 -0.125728 -0.158065\n",
      "R3 -0.076550 -1.843722  0.134763 -0.052669 -1.482812\n",
      "R4 -0.683793  1.131662 -0.948860 -0.553347 -0.613757\n"
     ]
    },
    {
     "data": {
      "text/plain": [
       "Series([], Name: C1, dtype: float64)"
      ]
     },
     "execution_count": 42,
     "metadata": {},
     "output_type": "execute_result"
    }
   ],
   "source": [
    "print(df1)\n",
    "df1[df1[\"C1\"]>0.3][\"C1\"]"
   ]
  },
  {
   "cell_type": "code",
   "execution_count": 43,
   "id": "77b90426",
   "metadata": {},
   "outputs": [
    {
     "name": "stdout",
     "output_type": "stream",
     "text": [
      "          C1        C2        C3        C4        C5\n",
      "R1 -0.266566  0.914637  0.745863 -0.125728 -0.158065\n",
      "R3 -0.076550 -1.843722  0.134763 -0.052669 -1.482812\n",
      "R4 -0.683793  1.131662 -0.948860 -0.553347 -0.613757\n"
     ]
    },
    {
     "data": {
      "text/html": [
       "<div>\n",
       "<style scoped>\n",
       "    .dataframe tbody tr th:only-of-type {\n",
       "        vertical-align: middle;\n",
       "    }\n",
       "\n",
       "    .dataframe tbody tr th {\n",
       "        vertical-align: top;\n",
       "    }\n",
       "\n",
       "    .dataframe thead th {\n",
       "        text-align: right;\n",
       "    }\n",
       "</style>\n",
       "<table border=\"1\" class=\"dataframe\">\n",
       "  <thead>\n",
       "    <tr style=\"text-align: right;\">\n",
       "      <th></th>\n",
       "      <th>C1</th>\n",
       "      <th>C2</th>\n",
       "      <th>C5</th>\n",
       "    </tr>\n",
       "  </thead>\n",
       "  <tbody>\n",
       "    <tr>\n",
       "      <th>R1</th>\n",
       "      <td>-0.266566</td>\n",
       "      <td>0.914637</td>\n",
       "      <td>-0.158065</td>\n",
       "    </tr>\n",
       "    <tr>\n",
       "      <th>R3</th>\n",
       "      <td>-0.076550</td>\n",
       "      <td>-1.843722</td>\n",
       "      <td>-1.482812</td>\n",
       "    </tr>\n",
       "    <tr>\n",
       "      <th>R4</th>\n",
       "      <td>-0.683793</td>\n",
       "      <td>1.131662</td>\n",
       "      <td>-0.613757</td>\n",
       "    </tr>\n",
       "  </tbody>\n",
       "</table>\n",
       "</div>"
      ],
      "text/plain": [
       "          C1        C2        C5\n",
       "R1 -0.266566  0.914637 -0.158065\n",
       "R3 -0.076550 -1.843722 -1.482812\n",
       "R4 -0.683793  1.131662 -0.613757"
      ]
     },
     "execution_count": 43,
     "metadata": {},
     "output_type": "execute_result"
    }
   ],
   "source": [
    "print(df1)\n",
    "df1[df1[\"C1\"]<0.3][[\"C1\",\"C2\",\"C5\"]]"
   ]
  },
  {
   "cell_type": "code",
   "execution_count": 44,
   "id": "82ff294d",
   "metadata": {},
   "outputs": [
    {
     "name": "stdout",
     "output_type": "stream",
     "text": [
      "          C1        C2        C3        C4        C5\n",
      "R1 -0.266566  0.914637  0.745863 -0.125728 -0.158065\n",
      "R3 -0.076550 -1.843722  0.134763 -0.052669 -1.482812\n",
      "R4 -0.683793  1.131662 -0.948860 -0.553347 -0.613757\n"
     ]
    },
    {
     "data": {
      "text/html": [
       "<div>\n",
       "<style scoped>\n",
       "    .dataframe tbody tr th:only-of-type {\n",
       "        vertical-align: middle;\n",
       "    }\n",
       "\n",
       "    .dataframe tbody tr th {\n",
       "        vertical-align: top;\n",
       "    }\n",
       "\n",
       "    .dataframe thead th {\n",
       "        text-align: right;\n",
       "    }\n",
       "</style>\n",
       "<table border=\"1\" class=\"dataframe\">\n",
       "  <thead>\n",
       "    <tr style=\"text-align: right;\">\n",
       "      <th></th>\n",
       "      <th>C1</th>\n",
       "      <th>C2</th>\n",
       "      <th>C3</th>\n",
       "      <th>C4</th>\n",
       "      <th>C5</th>\n",
       "    </tr>\n",
       "  </thead>\n",
       "  <tbody>\n",
       "    <tr>\n",
       "      <th>R1</th>\n",
       "      <td>-0.266566</td>\n",
       "      <td>0.914637</td>\n",
       "      <td>0.745863</td>\n",
       "      <td>-0.125728</td>\n",
       "      <td>-0.158065</td>\n",
       "    </tr>\n",
       "    <tr>\n",
       "      <th>R4</th>\n",
       "      <td>-0.683793</td>\n",
       "      <td>1.131662</td>\n",
       "      <td>-0.948860</td>\n",
       "      <td>-0.553347</td>\n",
       "      <td>-0.613757</td>\n",
       "    </tr>\n",
       "  </tbody>\n",
       "</table>\n",
       "</div>"
      ],
      "text/plain": [
       "          C1        C2        C3        C4        C5\n",
       "R1 -0.266566  0.914637  0.745863 -0.125728 -0.158065\n",
       "R4 -0.683793  1.131662 -0.948860 -0.553347 -0.613757"
      ]
     },
     "execution_count": 44,
     "metadata": {},
     "output_type": "execute_result"
    }
   ],
   "source": [
    "print(df1)\n",
    "df1[(df1[\"C2\"]>-1) & (df1[\"C5\"]<1)]"
   ]
  },
  {
   "cell_type": "code",
   "execution_count": 45,
   "id": "47767869",
   "metadata": {},
   "outputs": [
    {
     "data": {
      "text/html": [
       "<div>\n",
       "<style scoped>\n",
       "    .dataframe tbody tr th:only-of-type {\n",
       "        vertical-align: middle;\n",
       "    }\n",
       "\n",
       "    .dataframe tbody tr th {\n",
       "        vertical-align: top;\n",
       "    }\n",
       "\n",
       "    .dataframe thead th {\n",
       "        text-align: right;\n",
       "    }\n",
       "</style>\n",
       "<table border=\"1\" class=\"dataframe\">\n",
       "  <thead>\n",
       "    <tr style=\"text-align: right;\">\n",
       "      <th></th>\n",
       "      <th>C1</th>\n",
       "      <th>C2</th>\n",
       "      <th>C3</th>\n",
       "      <th>C4</th>\n",
       "      <th>C5</th>\n",
       "    </tr>\n",
       "  </thead>\n",
       "  <tbody>\n",
       "    <tr>\n",
       "      <th>R1</th>\n",
       "      <td>-0.266566</td>\n",
       "      <td>0.914637</td>\n",
       "      <td>0.745863</td>\n",
       "      <td>-0.125728</td>\n",
       "      <td>-0.158065</td>\n",
       "    </tr>\n",
       "    <tr>\n",
       "      <th>R3</th>\n",
       "      <td>-0.076550</td>\n",
       "      <td>-1.843722</td>\n",
       "      <td>0.134763</td>\n",
       "      <td>-0.052669</td>\n",
       "      <td>-1.482812</td>\n",
       "    </tr>\n",
       "    <tr>\n",
       "      <th>R4</th>\n",
       "      <td>-0.683793</td>\n",
       "      <td>1.131662</td>\n",
       "      <td>-0.948860</td>\n",
       "      <td>-0.553347</td>\n",
       "      <td>-0.613757</td>\n",
       "    </tr>\n",
       "  </tbody>\n",
       "</table>\n",
       "</div>"
      ],
      "text/plain": [
       "          C1        C2        C3        C4        C5\n",
       "R1 -0.266566  0.914637  0.745863 -0.125728 -0.158065\n",
       "R3 -0.076550 -1.843722  0.134763 -0.052669 -1.482812\n",
       "R4 -0.683793  1.131662 -0.948860 -0.553347 -0.613757"
      ]
     },
     "execution_count": 45,
     "metadata": {},
     "output_type": "execute_result"
    }
   ],
   "source": [
    "df1[(df1[\"C2\"]>1.0) | (df1[\"C1\"]<0.3)]"
   ]
  },
  {
   "cell_type": "code",
   "execution_count": null,
   "id": "fad4fdb6",
   "metadata": {},
   "outputs": [],
   "source": []
  }
 ],
 "metadata": {
  "kernelspec": {
   "display_name": "Python 3 (ipykernel)",
   "language": "python",
   "name": "python3"
  },
  "language_info": {
   "codemirror_mode": {
    "name": "ipython",
    "version": 3
   },
   "file_extension": ".py",
   "mimetype": "text/x-python",
   "name": "python",
   "nbconvert_exporter": "python",
   "pygments_lexer": "ipython3",
   "version": "3.9.13"
  }
 },
 "nbformat": 4,
 "nbformat_minor": 5
}
